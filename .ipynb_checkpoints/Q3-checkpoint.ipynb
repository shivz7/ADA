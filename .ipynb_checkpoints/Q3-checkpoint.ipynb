{
 "cells": [
  {
   "cell_type": "code",
   "execution_count": null,
   "metadata": {},
   "outputs": [],
   "source": [
    "%matplotlib inline\n",
    "import pandas as pd\n",
    "import numpy as np\n",
    "import re\n",
    "from matplotlib.ticker import MaxNLocator\n",
    "import matplotlib.pyplot as plt\n",
    "import requests\n",
    "from bs4 import BeautifulSoup\n",
    "import statsmodels\n",
    "import folium\n",
    "import math\n",
    "\n",
    "# Custom imports\n",
    "from ipywidgets import IntProgress\n",
    "from IPython.display import display\n",
    "import time\n",
    "from multiprocessing import Pool, Lock\n",
    "import os\n",
    "import json\n",
    "import seaborn as sns\n",
    "import time"
   ]
  },
  {
   "cell_type": "markdown",
   "metadata": {},
   "source": [
    "# **Question 3**\n",
    "\n",
    "Is it possible to rank some patterns of land usage with social and environmental factors such as employment, life satisfaction (if data are presents), income inequalities (if data are presents), emissions and finally soil quality and sustainability?\n",
    "\n",
    "To answer this question we will need to acquire additionnal data, but before doing that, we must define the **scope** of the question. It doesn't really make sense to aggregate countries into continents since the social factors are really specific to each country. Therefore, we reduce our scope to a list of 12 countries that we are interested in and feel are important."
   ]
  },
  {
   "cell_type": "code",
   "execution_count": null,
   "metadata": {},
   "outputs": [],
   "source": [
    "countries = ['France', 'Canada', 'Germany', 'India', 'Japan', 'Russian Federation', 'Switzerland', 'United States of America', 'United Kingdom', 'China', 'Israel']"
   ]
  },
  {
   "cell_type": "markdown",
   "metadata": {},
   "source": [
    "## Data acquisition and cleaning"
   ]
  },
  {
   "cell_type": "code",
   "execution_count": null,
   "metadata": {},
   "outputs": [],
   "source": [
    "dataLands = pd.read_csv(\"./data/fao_data_land_data.csv\")\n",
    "dataLands.head()"
   ]
  },
  {
   "cell_type": "code",
   "execution_count": null,
   "metadata": {},
   "outputs": [],
   "source": [
    "# investigate NaN values\n",
    "dataLands[np.isnan(dataLands['value'].values)].head(3)"
   ]
  },
  {
   "cell_type": "markdown",
   "metadata": {},
   "source": [
    "We observe that the dataset is pretty clean. The only NaNs in 'value' column are actually the footnotes so we can drop them."
   ]
  },
  {
   "cell_type": "code",
   "execution_count": null,
   "metadata": {},
   "outputs": [],
   "source": [
    "dataLands = dataLands.dropna(subset=[\"value\"])\n",
    "dataLands.tail(3)"
   ]
  },
  {
   "cell_type": "code",
   "execution_count": null,
   "metadata": {},
   "outputs": [],
   "source": [
    "print(dataLands['category'].unique().tolist())\n",
    "\n",
    "# we only keep agricultural area\n",
    "dataLands = dataLands[dataLands['category'] == 'agricultural_area']"
   ]
  },
  {
   "cell_type": "code",
   "execution_count": null,
   "metadata": {},
   "outputs": [],
   "source": [
    "# let's observe the temporal evolution of agricultural lands for our selected countries\n",
    "\n",
    "def check_country(countries, DF):\n",
    "    \"\"\"Checks wether the countries 'countries' are in the dataframe.series DF\"\"\"\n",
    "    for country in countries:\n",
    "        if country not in DF.unique():\n",
    "            print('Country', country, 'is missing!')\n",
    "        \n",
    "check_country(countries, dataLands['country_or_area'])\n",
    "\n",
    "# reduce subset to selected countries\n",
    "rdataLands = dataLands.loc[dataLands['country_or_area'].isin(countries)]\n",
    "\n",
    "# groupe by country\n",
    "grdataLands = rdataLands.groupby('country_or_area')\n",
    "\n",
    "plt.figure(figsize=(15,15))\n",
    "for country in countries:\n",
    "    # we normalize the total land area by devinding by its mean\n",
    "    sns.lineplot(x=grdataLands.get_group(country).year, y=grdataLands.get_group(country).value/np.mean(grdataLands.get_group(country).value), label=country)\n",
    "    \n",
    "plt.ylabel('land area / mean land area')\n",
    "plt.title('Relative evolution of agricultural land areas');"
   ]
  },
  {
   "cell_type": "markdown",
   "metadata": {},
   "source": [
    "We observe an overall downward trend the agricultutral land areas except for a few countries (India and China). However, we also notice an anomally with Russia that must be investigated: no data is present before 1991.\n",
    "\n",
    "After some research we found out that the dissolution of the Soviet Union (USSR) took place on 26 December 1991, creating the country Russia. We must correct our data:"
   ]
  },
  {
   "cell_type": "code",
   "execution_count": null,
   "metadata": {},
   "outputs": [],
   "source": [
    "display(dataLands[dataLands['country_or_area'] == 'USSR'].head(3))\n",
    "\n",
    "# we don't really care about USSR, therefore, we rename it to Russia and subtract (USSR_land_1991 - Russia_land_1992) from its values\n",
    "to_subtract = dataLands[(dataLands['country_or_area'] == 'USSR') & (dataLands['year'] == 1991)].value.values - dataLands[(dataLands['country_or_area'] == 'Russian Federation') & (dataLands['year'] == 1992)].value.values\n",
    "# append rdataLands\n",
    "for year,value in zip(dataLands[dataLands['country_or_area'] == 'USSR'].year.values, dataLands[dataLands['country_or_area'] == 'USSR'].value.values):\n",
    "    rdataLands = rdataLands.append({'country_or_area':'Russian Federation', 'year':year, 'value':value - to_subtract[0]}, ignore_index=True)"
   ]
  },
  {
   "cell_type": "code",
   "execution_count": null,
   "metadata": {},
   "outputs": [],
   "source": [
    "# check the graph again\n",
    "# groupe by country\n",
    "grdataLands = rdataLands.groupby('country_or_area')\n",
    "\n",
    "plt.figure(figsize=(15,15))\n",
    "for country in countries:\n",
    "    # we normalize the total land area by devinding by its mean\n",
    "    sns.lineplot(x=grdataLands.get_group(country).year, y=grdataLands.get_group(country).value/np.mean(grdataLands.get_group(country).value), label=country)\n",
    "    \n",
    "plt.ylabel('land area / mean land area')\n",
    "plt.title('Relative evolution of agricultural land area')"
   ]
  },
  {
   "cell_type": "code",
   "execution_count": null,
   "metadata": {},
   "outputs": [],
   "source": [
    "plt.figure(figsize=(20,5))\n",
    "for country in countries:\n",
    "    plt.bar(x=country, height=np.mean(grdataLands.get_group(country).value), label = country)\n",
    "plt.legend()\n",
    "plt.title('Mean agriculture land area');"
   ]
  },
  {
   "cell_type": "code",
   "execution_count": null,
   "metadata": {},
   "outputs": [],
   "source": [
    "# Soil erosion data\n",
    "dataSoil = pd.read_csv('data/current_FAO/raw_files/Environment_Soil_E_All_Data.csv', encoding = \"ISO-8859-1\")\n",
    "#display(dataSoil.head())\n",
    "\n",
    "# check for our countries\n",
    "print(check_country(countries, dataSoil['Country']))\n",
    "\n",
    "# reduce to selected countries\n",
    "rdataSoil = dataSoil.loc[dataSoil['Country'].isin(countries)]\n",
    "rdataSoil.head()"
   ]
  },
  {
   "cell_type": "markdown",
   "metadata": {},
   "source": [
    "Except the carbon content all the other data (erosion and lan degredation) haave only 1 measure in 1991 for each country."
   ]
  },
  {
   "cell_type": "markdown",
   "metadata": {},
   "source": [
    "## **New Data**\n",
    "In order to answer the question at the beginning we need to search for and acquire some new data:"
   ]
  },
  {
   "cell_type": "markdown",
   "metadata": {},
   "source": [
    "### Life expectancy at birth for both sexes combined (years):\n",
    "http://data.un.org/Data.aspx?d=PopDiv&f=variableID%3a68"
   ]
  },
  {
   "cell_type": "code",
   "execution_count": null,
   "metadata": {},
   "outputs": [],
   "source": [
    "lifeExp_df = pd.read_csv('data/life_expectancy.csv')\n",
    "lifeExp_df.head(3)"
   ]
  },
  {
   "cell_type": "code",
   "execution_count": null,
   "metadata": {},
   "outputs": [],
   "source": [
    "# rename columns for consistency\n",
    "lifeExp_df.rename(columns={'Country or Area': 'country_or_area', 'Year(s)': 'years', 'Variant': 'variant', 'Value': 'value'}, inplace= True)\n",
    "\n",
    "# Check our list\n",
    "print(check_country(countries, lifeExp_df['country_or_area']))\n",
    "\n",
    "# reduce to our selected countries\n",
    "rlifeExp_df = lifeExp_df.loc[lifeExp_df['country_or_area'].isin(countries)]\n",
    "\n",
    "# do we have the same problem as before with russia ?\n",
    "rlifeExp_df[rlifeExp_df['country_or_area']=='Russian Federation'].tail()"
   ]
  },
  {
   "cell_type": "markdown",
   "metadata": {},
   "source": [
    "Fortunately we don't have the above problem with Russia in this dataset. We observe that 'Years' is a contains 5 years long periods, thus we transform it and erase the second year (-19**). "
   ]
  },
  {
   "cell_type": "code",
   "execution_count": null,
   "metadata": {},
   "outputs": [],
   "source": [
    "# clean column year\n",
    "rlifeExp_df['year'] = rlifeExp_df['years'].str.split('-', expand=True).iloc[:,0].astype('int')\n",
    "rlifeExp_df.drop(columns='years', inplace= True)\n",
    "rlifeExp_df = rlifeExp_df[rlifeExp_df['year'] < 2019] # we are not interested in predictions"
   ]
  },
  {
   "cell_type": "code",
   "execution_count": null,
   "metadata": {},
   "outputs": [],
   "source": [
    "# simple observations\n",
    "# groupe by country\n",
    "grlifeExp_df = rlifeExp_df.groupby('country_or_area')\n",
    "\n",
    "plt.figure(figsize=(15,15))\n",
    "for country in countries:\n",
    "    sns.lineplot(x=grlifeExp_df.get_group(country).year, y=grlifeExp_df.get_group(country).value, label=country)\n",
    "    \n",
    "plt.ylabel('Life expectancy')\n",
    "plt.title('Evolution of life expectancy');"
   ]
  },
  {
   "cell_type": "markdown",
   "metadata": {},
   "source": [
    "We see that india and china had a big evolution from the 1960s. However, China is the only country that also had a similar evolution in its agricultural lands."
   ]
  },
  {
   "cell_type": "markdown",
   "metadata": {},
   "source": [
    "### Value added by industries at current prices (ISIC Rev. 3)\n",
    "\n",
    "We were unable to download all the data from the below website, therefore, we reduced the industries to agriculture.\n",
    "\n",
    "http://data.un.org/Data.aspx?d=SNA&f=group_code%3a201"
   ]
  },
  {
   "cell_type": "code",
   "execution_count": null,
   "metadata": {},
   "outputs": [],
   "source": [
    "valueAdded_df = pd.read_csv('data/value_added.csv', low_memory=False)\n",
    "valueAdded_df = valueAdded_df.dropna(subset=['Value'])\n",
    "valueAdded_df.head(3)"
   ]
  },
  {
   "cell_type": "code",
   "execution_count": null,
   "metadata": {},
   "outputs": [],
   "source": [
    "# rename columns for consistency\n",
    "valueAdded_df.rename(columns={'Country or Area': 'country_or_area', 'Year': 'year', 'Value': 'value'}, inplace= True)\n",
    "\n",
    "# Check our list\n",
    "print(check_country(countries, valueAdded_df['country_or_area']))"
   ]
  },
  {
   "cell_type": "code",
   "execution_count": null,
   "metadata": {},
   "outputs": [],
   "source": [
    "# print all countries\n",
    "print(valueAdded_df['country_or_area'].unique().tolist())"
   ]
  },
  {
   "cell_type": "code",
   "execution_count": null,
   "metadata": {},
   "outputs": [],
   "source": [
    "# Correct for united states\n",
    "valueAdded_df.replace(to_replace='United States', value='United States of America', inplace= True)\n",
    "\n",
    "# reduce to our selected countries\n",
    "rvalueAdded_df = valueAdded_df.loc[valueAdded_df['country_or_area'].isin(countries)]\n",
    "\n",
    "# do we have the same problem as before with russia ?\n",
    "rvalueAdded_df[rvalueAdded_df['country_or_area']=='Russian Federation'].tail()"
   ]
  },
  {
   "cell_type": "code",
   "execution_count": null,
   "metadata": {},
   "outputs": [],
   "source": [
    "# simple observations\n",
    "# groupe by country\n",
    "gvalueAdded_df = valueAdded_df.groupby('country_or_area')\n",
    "\n",
    "plt.figure(figsize=(15,15))\n",
    "for country in countries:\n",
    "    # plot  and normalize by mean\n",
    "    sns.lineplot(x=gvalueAdded_df.get_group(country).year, y=gvalueAdded_df.get_group(country).value/np.mean(gvalueAdded_df.get_group(country).value), label=country)\n",
    "    \n",
    "plt.ylabel('added-value')\n",
    "plt.title('Economic added value by agriculture');"
   ]
  },
  {
   "cell_type": "markdown",
   "metadata": {},
   "source": [
    "We see a strange peek with Russia that will have to be investigated for the final milestone. Russia's data starts from 1990 so we might have the same problem as before, but USSR is absent from the data..."
   ]
  },
  {
   "cell_type": "markdown",
   "metadata": {},
   "source": [
    "### Employment by sex and economic activity\n",
    "\n",
    "https://www.ilo.org/shinyapps/bulkexplorer5/?lang=en&segment=indicator&id=EMP_TEMP_SEX_ECO_NB_A"
   ]
  },
  {
   "cell_type": "code",
   "execution_count": null,
   "metadata": {},
   "outputs": [],
   "source": [
    "employment_df = pd.read_csv('data/Employment.csv')\n",
    "display(employment_df.head(3))\n",
    "employment_df = employment_df.drop(columns=['obs_status.label', 'note_classif.label', 'note_indicator.label'])   # drop useless columns"
   ]
  },
  {
   "cell_type": "code",
   "execution_count": null,
   "metadata": {},
   "outputs": [],
   "source": [
    "# rename columns for consistency\n",
    "employment_df.rename(columns={'ref_area.label': 'country_or_area', 'time': 'year', 'obs_value': 'value', 'classif1.label': 'activity'}, inplace= True)\n",
    "\n",
    "# Check our list\n",
    "print(check_country(countries, employment_df['country_or_area']))\n",
    "\n",
    "# Correct for united states\n",
    "employment_df.replace(to_replace='United States', value='United States of America', inplace= True)\n",
    "\n",
    "# reduce to our selected countries\n",
    "remployment_df = employment_df.loc[employment_df['country_or_area'].isin(countries)]\n",
    "\n",
    "# USSR isn't present: no problem\n",
    "np.sort(employment_df['country_or_area'].unique())[-20:]"
   ]
  },
  {
   "cell_type": "code",
   "execution_count": null,
   "metadata": {},
   "outputs": [],
   "source": [
    "# do a sub selection of only agricultural related economic activites\n",
    "remployment_df = remployment_df[remployment_df['activity'].str.contains('Agriculture')]"
   ]
  },
  {
   "cell_type": "code",
   "execution_count": null,
   "metadata": {},
   "outputs": [],
   "source": [
    "# extra cleaning\n",
    "remployment_df.drop(columns=['indicator.label', 'source.label', 'note_source.label'], inplace= True)   # drop useless columns\n",
    "remployment_df.replace({'Sex: Male': 'male', 'Sex: Female': 'female', 'Sex: Total': 'total'}, inplace= True)"
   ]
  },
  {
   "cell_type": "code",
   "execution_count": null,
   "metadata": {},
   "outputs": [],
   "source": [
    "remployment_df.head()"
   ]
  },
  {
   "cell_type": "code",
   "execution_count": null,
   "metadata": {},
   "outputs": [],
   "source": [
    "# simple observations\n",
    "# groupe by country\n",
    "gremployment_df = remployment_df[remployment_df['sex.label'] == 'total'].groupby('country_or_area')\n",
    "\n",
    "plt.figure(figsize=(15,15))\n",
    "for country in countries:\n",
    "    # plot and normalize by mean\n",
    "    sns.lineplot(x=gremployment_df.get_group(country).year, y=gremployment_df.get_group(country).value/np.mean(gremployment_df.get_group(country).value), label=country)\n",
    "    \n",
    "plt.ylabel('employment')\n",
    "plt.title('Employment in agriculture');"
   ]
  },
  {
   "cell_type": "markdown",
   "metadata": {},
   "source": [
    "We see an overall downtrend in the agricultural employments.Let's compare the mean employment of the countries:"
   ]
  },
  {
   "cell_type": "code",
   "execution_count": null,
   "metadata": {},
   "outputs": [],
   "source": [
    "plt.figure(figsize=(20,5))\n",
    "for country in countries:\n",
    "    plt.bar(x=country, height=np.mean(gremployment_df.get_group(country).value), label = country)\n",
    "plt.legend()\n",
    "plt.title('Mean Employment in agriculture')"
   ]
  },
  {
   "cell_type": "markdown",
   "metadata": {},
   "source": [
    "In order to have a meaningfull comparison the above values should be devided by the total population, but in an absolute comparison we can see employment in agricultural sectors is rather big in China and India.\n",
    "\n",
    "Compared to the bar chart of agricultural lands above, we notice United States for example that has a pretty vast agricultural land area but has very little employments in agriculture in comparison. "
   ]
  },
  {
   "cell_type": "markdown",
   "metadata": {},
   "source": [
    "### Non fatal occupational injuries per 100'000 workers by economic activity\n",
    "\n",
    "We found it hard to find reliable data for the 'quality of life' which could be subjective and not necessarily related to agriculture. Thus, we found the below dataset which describes the amount of non fatal injuries per economic activity, which we found interessting as a way to asses the social quality and safety of agriculture.\n",
    "\n",
    "https://www.ilo.org/shinyapps/bulkexplorer32/?lang=en&segment=indicator&id=INJ_NFTL_ECO_RT_A"
   ]
  },
  {
   "cell_type": "code",
   "execution_count": null,
   "metadata": {},
   "outputs": [],
   "source": [
    "nonFatalInjuries_df = pd.read_csv('data/non_fatal_injuries.csv')\n",
    "\n",
    "#look at some useless columns before droping them\n",
    "print(nonFatalInjuries_df.obs_status.unique())\n",
    "print(nonFatalInjuries_df.note_classif.unique().tolist())\n",
    "nonFatalInjuries_df = nonFatalInjuries_df.drop(columns=['obs_status', 'obs_status.label', 'note_classif', 'note_classif.label', 'note_source', 'note_source.label', 'indicator.label', 'note_indicator', 'source', 'source.label'])   # drop useless columns\n",
    "nonFatalInjuries_df.head(3)"
   ]
  },
  {
   "cell_type": "code",
   "execution_count": null,
   "metadata": {},
   "outputs": [],
   "source": [
    "# rename columns for consistency\n",
    "nonFatalInjuries_df.rename(columns={'ref_area.label': 'country_or_area', 'time': 'year', 'obs_value': 'value', 'classif1.label': 'activity'}, inplace= True)\n",
    "\n",
    "# Check our list\n",
    "print(check_country(countries, nonFatalInjuries_df['country_or_area']))"
   ]
  },
  {
   "cell_type": "code",
   "execution_count": null,
   "metadata": {},
   "outputs": [],
   "source": [
    "print(np.sort(nonFatalInjuries_df['country_or_area'].unique()).tolist())"
   ]
  },
  {
   "cell_type": "code",
   "execution_count": null,
   "metadata": {},
   "outputs": [],
   "source": [
    "# Problem: Canada is REALLY missing...\n",
    "\n",
    "# Correct for united states\n",
    "nonFatalInjuries_df.replace(to_replace='United States', value='United States of America', inplace= True)\n",
    "\n",
    "# Only keep activities related to agriculture\n",
    "rnonFatalInjuries_df = nonFatalInjuries_df[nonFatalInjuries_df['activity'].str.contains('Agriculture')]\n",
    "\n",
    "# There are several regions (cities) of China present in the data set but no China as a whole.\n",
    "# As our value of interest is a rate, we can take the mean of the latter rates for China as a whole\n",
    "china_injuries = rnonFatalInjuries_df[nonFatalInjuries_df['country_or_area'].str.contains('China')].reset_index()\n",
    "print(china_injuries['country_or_area'].unique())    # different chinese cities present"
   ]
  },
  {
   "cell_type": "code",
   "execution_count": null,
   "metadata": {},
   "outputs": [],
   "source": [
    "china_injuries.head()"
   ]
  },
  {
   "cell_type": "markdown",
   "metadata": {},
   "source": [
    "There is only one entry for Macau and its value is 0. So we drop it and represent China by Taiwan."
   ]
  },
  {
   "cell_type": "code",
   "execution_count": null,
   "metadata": {},
   "outputs": [],
   "source": [
    "china_injuries.drop(index= 0, axis= 0, inplace= True)\n",
    "china_injuries.replace('Taiwan, China', 'China', inplace= True)\n",
    "\n",
    "# append with China data\n",
    "rnonFatalInjuries_df = rnonFatalInjuries_df.append(china_injuries, sort=False, ignore_index= True)\n",
    "\n",
    "# reduce to our selected countries\n",
    "rnonFatalInjuries_df = rnonFatalInjuries_df.loc[rnonFatalInjuries_df['country_or_area'].isin(countries)]\n",
    "\n",
    "# recheck countries\n",
    "check_country(countries, rnonFatalInjuries_df['country_or_area'])"
   ]
  },
  {
   "cell_type": "markdown",
   "metadata": {},
   "source": [
    "We now see that also Japan is missing but that is because Japan hasn't Agriculture in its activity column."
   ]
  },
  {
   "cell_type": "code",
   "execution_count": null,
   "metadata": {},
   "outputs": [],
   "source": [
    "# simple observations\n",
    "# groupe by country\n",
    "grnonFatalInjuries_df = rnonFatalInjuries_df.groupby('country_or_area')\n",
    "\n",
    "plt.figure(figsize=(15,15))\n",
    "for country in rnonFatalInjuries_df['country_or_area'].unique():\n",
    "    # plot and normalize by mean\n",
    "    sns.lineplot(x=grnonFatalInjuries_df.get_group(country).year, y=grnonFatalInjuries_df.get_group(country).value, label=country)\n",
    "    \n",
    "plt.ylabel('injuries rate')\n",
    "plt.title('Non fatal injuries in agriculture per 100000 workers');"
   ]
  },
  {
   "cell_type": "markdown",
   "metadata": {},
   "source": [
    "We notice that the data for some countries (China, Russia, India, US, Germany) doesn't cover the entire year range. We also observe unusually high values for Switzerland, which makes us question the sanity of the data. This data in its current form, probably might not be usable for further analysis..."
   ]
  },
  {
   "cell_type": "markdown",
   "metadata": {},
   "source": [
    "# Analysis plan\n",
    "\n",
    "- Reduce the number selected countries\n",
    "- Derive relations (such as correlations) between land usage and the above factors for the selected topics.\n",
    "- In order to rank the importance of the above topics, we could try to develop a model to predict land usage (via panel data regression for example). \n",
    "- Make the link with question 1: greenhouse gas emissions"
   ]
  }
 ],
 "metadata": {
  "kernelspec": {
   "display_name": "Python 3",
   "language": "python",
   "name": "python3"
  },
  "language_info": {
   "codemirror_mode": {
    "name": "ipython",
    "version": 3
   },
   "file_extension": ".py",
   "mimetype": "text/x-python",
   "name": "python",
   "nbconvert_exporter": "python",
   "pygments_lexer": "ipython3",
   "version": "3.7.5"
  }
 },
 "nbformat": 4,
 "nbformat_minor": 4
}
