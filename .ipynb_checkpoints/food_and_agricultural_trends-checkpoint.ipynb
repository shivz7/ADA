{
 "cells": [
  {
   "cell_type": "markdown",
   "metadata": {},
   "source": [
    "# Food and Agricultural Trends\n",
    "\n",
    "**Team Papillon**\n",
    "\n",
    "Nowadays, environmental problems are becoming more and more serious and urgent to deal with. We cannot deny the impact of food and agriculture in general, on the environment. If we consider what we eat and how we grow it, we would find extensive damage to the environment (green gas emissions, soil depletion etc.) and also the wildlife (due to pesticides, fertilizers etc.). We are looking to use the data provided by FAOSTAT giving access to over 3 million time-series and cross sectional data relating to food and agriculture all over the world and try to generate insights and stories on the evolution of different socio-environmental factors such as the correlation between greenhouse gas emissions and agricultural growth for example. Through this work, we hope to gain a deeper insight on the evolution and the environmental impact of agriculture and food.\n",
    "\n",
    "## Question 1 and 2\n",
    "\n",
    "### Could we find and support a correlation between greenhouse gas emissions and agricultural growth? Could we also assess the influence of the type of culture on the emissions?\n",
    "### Based on this, is it possible to make predictions of greenhouse gas emissions by extrapolating the agricultural growth and land usage?"
   ]
  },
  {
   "cell_type": "code",
   "execution_count": null,
   "metadata": {},
   "outputs": [],
   "source": [
    "%matplotlib inline\n",
    "import pandas as pd\n",
    "import numpy as np\n",
    "import re\n",
    "from matplotlib.ticker import MaxNLocator\n",
    "import matplotlib.pyplot as plt\n",
    "import requests\n",
    "from bs4 import BeautifulSoup\n",
    "import statsmodels\n",
    "import folium\n",
    "import math\n",
    "\n",
    "# Custom imports\n",
    "from ipywidgets import IntProgress\n",
    "from IPython.display import display\n",
    "import time\n",
    "from multiprocessing import Pool, Lock\n",
    "import os\n",
    "import json\n",
    "import seaborn as sns\n",
    "import time\n",
    "from scipy import stats\n",
    "\n",
    "from sklearn.linear_model import LinearRegression, LogisticRegression, Ridge\n",
    "from sklearn.preprocessing import OneHotEncoder\n",
    "from sklearn.decomposition import PCA\n",
    "from sklearn.model_selection import cross_val_predict\n",
    "from sklearn.model_selection import cross_val_score\n",
    "from sklearn.metrics import mean_squared_error\n",
    "from sklearn.pipeline import Pipeline\n",
    "from sklearn.preprocessing   import StandardScaler"
   ]
  },
  {
   "cell_type": "markdown",
   "metadata": {},
   "source": [
    "## Importing the data\n",
    "\n",
    "In order to find a model that helps in the understanding of the role of the variety of crops in the ecological influence of the agriculture, we need 3 datasets:\n",
    "\n",
    "- The land usage\n",
    "- The crops cultures\n",
    "- The emissions related to the agriculture\n"
   ]
  },
  {
   "cell_type": "code",
   "execution_count": null,
   "metadata": {},
   "outputs": [],
   "source": [
    "dataLands = pd.read_csv(\"./data/fao_data_land_data.csv\")\n",
    "\n",
    "dataCrops = pd.read_csv(\"./data/fao_data_crops_data.csv\")\n",
    "\n",
    "dataEmissions = pd.read_csv(\"./data/current_FAO/raw_files/Environment_Emissions_by_Sector_E_All_Data_(Normalized).csv\", encoding=\"cp1252\")"
   ]
  },
  {
   "cell_type": "markdown",
   "metadata": {},
   "source": [
    "## Cleaning\n",
    "\n",
    "- Removing NAN\n",
    "- Removing useless columns"
   ]
  },
  {
   "cell_type": "code",
   "execution_count": null,
   "metadata": {},
   "outputs": [],
   "source": [
    "dataLands = dataLands.dropna(subset=[\"element\"])\n",
    "\n",
    "dataCrops = dataCrops.dropna(subset=[\"element\"])\n",
    "\n",
    "dataEmissionsAgriculture = dataEmissions.where(dataEmissions[\"Item\"] == \"Agriculture total\").where(dataEmissions[\"Element\"] == \"Emissions (CO2eq)\").dropna()\n",
    "dataEmissionsAgriculture = dataEmissionsAgriculture.drop([\"Item\", \"Element Code\", \"Element\", \"Item Code\", \"Year Code\", \"Flag\"], axis=1)\\\n",
    "                                                    .rename(columns={\"Unit\":\"Unit emissions\",\"Value\":\"Value emissions\"})"
   ]
  },
  {
   "cell_type": "markdown",
   "metadata": {},
   "source": [
    "Here is a graph that shows the progression of land usage within each continent."
   ]
  },
  {
   "cell_type": "code",
   "execution_count": null,
   "metadata": {},
   "outputs": [],
   "source": [
    "def cond_countries(dataLands):\n",
    "    countries = [\"Asia +\",\"Europe +\", \"Americas +\", \"Oceania +\", \"Africa +\"]\n",
    "    truthTable = (dataLands[\"country_or_area\"] == countries[0])\n",
    "    for c in countries:\n",
    "        truthTable = (dataLands[\"country_or_area\"] == c) | truthTable\n",
    "    return truthTable\n",
    "\n",
    "dataLandsContinent = dataLands.where(dataLands[\"category\"] == \"agricultural_area\")\\\n",
    "                                .where(cond_countries(dataLands))\\\n",
    "                                .dropna(subset=[\"country_or_area\"])\\\n",
    "                                .sort_values(\"value\",ascending=False)\n",
    "\n",
    "sns.set(style=\"darkgrid\")\n",
    "\n",
    "fg = plt.figure(figsize=(20,20))\n",
    "axes = fg.add_subplot()\n",
    "# Plot the responses for different events and regions\n",
    "sns.lineplot(x=\"year\", y=\"value\", style=\"country_or_area\", data=dataLandsContinent, hue=\"country_or_area\", ax=axes)\n",
    "\n",
    "fg.show()"
   ]
  },
  {
   "cell_type": "markdown",
   "metadata": {},
   "source": [
    "Here are the emissions of the BRICS throughout the years. We can see a clear progression (except for South Africa)."
   ]
  },
  {
   "cell_type": "code",
   "execution_count": null,
   "metadata": {},
   "outputs": [],
   "source": [
    "sns.set(style=\"darkgrid\")\n",
    "\n",
    "dataEmissionsAgrContinent = dataEmissionsAgriculture.where(dataEmissionsAgriculture[\"Area\"].isin([\"South Africa\",\"Brazil\", \"China\", \"India\", \"USSR\",\"Russian Federation\"])).dropna()\n",
    "\n",
    "fg = plt.figure(figsize=(20,20))\n",
    "axes = fg.add_subplot()\n",
    "# Plot the responses for different events and regions\n",
    "sns.lineplot(x=\"Year\", y=\"Value emissions\", style=\"Area\", data=dataEmissionsAgrContinent, hue=\"Area\", ax=axes)\n",
    "\n",
    "fg.show()"
   ]
  },
  {
   "cell_type": "markdown",
   "metadata": {},
   "source": [
    "## Creating the dataset for processing\n",
    "\n",
    "The dataset we create for processing consist in the aggregation of the area harvested of for each crop, by year and by country, and the emissions of greenhouse gases by year and by country as well. The goal will be to find a model that explain and helps in predicting the emissions, based on the other features (country, year and crops)."
   ]
  },
  {
   "cell_type": "code",
   "execution_count": null,
   "metadata": {},
   "outputs": [],
   "source": [
    "cropsAndEmissions = dataCrops.drop([\"element_code\"], axis=1)\\\n",
    "                                .where(dataCrops[\"element\"] == \"Area Harvested\")\\\n",
    "                                .dropna(subset=[\"element\"])\\\n",
    "                                .drop([\"element\", \"value_footnotes\"],axis=1)\\\n",
    "                                .rename(columns={\"unit\":\"Unit area\", \"value\":\"Value area\", \"year\":\"Year\",\"country_or_area\":\"Area\"})\n",
    "#                                .where(dataCrops[\"country_or_area\"] == \"World +\")\\\n",
    "cropsAndEmissions = cropsAndEmissions.pivot_table(values='Value area',index=[\"Area\",\"Year\"],columns=\"category\").reset_index()\n",
    "cropsAndEmissions = cropsAndEmissions.fillna(0)\n",
    "cropsAndEmissions = pd.merge(cropsAndEmissions, dataEmissionsAgriculture, how=\"left\", on=['Area',\"Year\"])#.dropna(subset=[\"Value area\", \"Value emissions\"])\n",
    "cropsAndEmissions = cropsAndEmissions.dropna().dropna(subset=[\"Unit emissions\"])\n",
    "cropsAndEmissions"
   ]
  },
  {
   "cell_type": "markdown",
   "metadata": {},
   "source": [
    "## Learning to predict emissions\n",
    "\n",
    "Here, we try to create a model by doing a logistic regression on the data. We first try to optimize the alpha parameter on a predefined interval and then we use it to train the model."
   ]
  },
  {
   "cell_type": "code",
   "execution_count": null,
   "metadata": {},
   "outputs": [],
   "source": [
    "SEED = 1\n",
    "st_pipeline = Pipeline([('scl', StandardScaler()), ('ridge', Ridge(copy_X=True, random_state=SEED))])\n",
    "st_pipeline\n",
    "\n",
    "#features = [\"Area\",\"category\"]\n",
    "\n",
    "XRidge2 = pd.get_dummies(cropsAndEmissions.drop([\"Area Code\",\"Unit emissions\", \"Value emissions\"], axis=1))\n",
    "yRidge2 = cropsAndEmissions[\"Value emissions\"]\n",
    "\n",
    "results = []\n",
    "\n",
    "# Tune for alpha using 10 fold crossvalidation when calculating the mean squared error.\n",
    "for alpha in np.linspace(-100, 100, 32):\n",
    "    st_pipeline.set_params(ridge__alpha= alpha) \n",
    "    neg_MSE = cross_val_score(st_pipeline, XRidge2, yRidge2, scoring='neg_mean_squared_error', cv=10)  # we use 10 folds crossvalidation since 10 \n",
    "                                                                                                      # is pretty much standard in the industry\n",
    "    results.append([neg_MSE, alpha])\n",
    "    \n",
    "# Take the mean MSE for each level of alpha\n",
    "for i in range(len(results)):\n",
    "    results[i][0] = -np.mean(results[i][0])\n",
    "    \n",
    "# Plot the results\n",
    "plt.figure(figsize=(20,20))\n",
    "plt.plot([row[1] for row in results], [row[0] for row in results])\n",
    "plt.xlabel('alpha')\n",
    "plt.ylabel('MSE')\n",
    "plt.title('Tuning alpha');\n",
    "plt.grid()\n",
    "\n",
    "best_st_alpha = min(results)[1]\n",
    "print('Best alpha is', best_st_alpha, 'with a MSE of', min(results)[0],'.')"
   ]
  },
  {
   "cell_type": "code",
   "execution_count": null,
   "metadata": {},
   "outputs": [],
   "source": [
    "st_Model = st_pipeline.set_params(ridge__alpha= best_st_alpha)  # use best alpha calculated above\n",
    "st_Model.fit(XRidge2, yRidge2)                                  # fit the new model"
   ]
  },
  {
   "cell_type": "code",
   "execution_count": null,
   "metadata": {},
   "outputs": [],
   "source": [
    "#st_Model.named_steps[\"ridge\"].coef_\n",
    "pd.DataFrame([XRidge2.columns,st_Model.named_steps[\"ridge\"].coef_]).transpose().sort_values(1)"
   ]
  },
  {
   "cell_type": "markdown",
   "metadata": {},
   "source": [
    "Further analysis will be conducted in order to create efficient predictions. This first analysis already gave us clear insight of the data and helps us in assessing the feasability of this research.\n",
    "\n",
    "## Plan\n",
    "\n",
    "The next steps will be :\n",
    "\n",
    "- Visualize the output of the model and its relation to reality.\n",
    "- Try new models and assess their performances.\n",
    "- Make predictions on the future using these regressions.\n",
    "- Extract guidelines that could help in reducing emissions in the future, based on these data.\n",
    "- Criticize these guidelines and the predictions using more domain-related knowledge."
   ]
  },
  {
   "cell_type": "markdown",
   "metadata": {},
   "source": [
    "## Question 3\n",
    "\n",
    "Is it possible to rank some patterns of land usage with social and environmental factors such as employment, life satisfaction (if data are presents), income inequalities (if data are presents), emissions and finally soil quality and sustainability?\n",
    "\n",
    "To answer this question we will need to acquire additionnal data, but before doing that, we must define the **scope** of the question. It doesn't really make sense to aggregate countries into continents since the social factors are really specific to each country. Therefore, we reduce our scope to a list of 12 countries that we are interested in and feel are important."
   ]
  },
  {
   "cell_type": "code",
   "execution_count": null,
   "metadata": {},
   "outputs": [],
   "source": [
    "countries = ['France', 'Canada', 'Germany', 'India', 'Japan', 'Russian Federation', 'Switzerland', 'United States of America', 'United Kingdom', 'China', 'Israel']"
   ]
  },
  {
   "cell_type": "markdown",
   "metadata": {},
   "source": [
    "## Data acquisition and cleaning"
   ]
  },
  {
   "cell_type": "code",
   "execution_count": null,
   "metadata": {},
   "outputs": [],
   "source": [
    "dataLands = pd.read_csv(\"./data/fao_data_land_data.csv\")\n",
    "dataLands.head()"
   ]
  },
  {
   "cell_type": "code",
   "execution_count": null,
   "metadata": {},
   "outputs": [],
   "source": [
    "# investigate NaN values\n",
    "dataLands[np.isnan(dataLands['value'].values)].head(3)"
   ]
  },
  {
   "cell_type": "markdown",
   "metadata": {},
   "source": [
    "We observe that the dataset is pretty clean. The only NaNs in 'value' column are actually the footnotes so we can drop them."
   ]
  },
  {
   "cell_type": "code",
   "execution_count": null,
   "metadata": {},
   "outputs": [],
   "source": [
    "dataLands = dataLands.dropna(subset=[\"value\"])\n",
    "dataLands.tail(3)"
   ]
  },
  {
   "cell_type": "code",
   "execution_count": null,
   "metadata": {},
   "outputs": [],
   "source": [
    "print(dataLands['category'].unique().tolist())\n",
    "\n",
    "# we only keep agricultural area\n",
    "dataLands = dataLands[dataLands['category'] == 'agricultural_area']"
   ]
  },
  {
   "cell_type": "code",
   "execution_count": null,
   "metadata": {},
   "outputs": [],
   "source": [
    "# let's observe the temporal evolution of agricultural lands for our selected countries\n",
    "\n",
    "def check_country(countries, DF):\n",
    "    \"\"\"Checks wether the countries 'countries' are in the dataframe.series DF\"\"\"\n",
    "    for country in countries:\n",
    "        if country not in DF.unique():\n",
    "            print('Country', country, 'is missing!')\n",
    "        \n",
    "check_country(countries, dataLands['country_or_area'])\n",
    "\n",
    "# reduce subset to selected countries\n",
    "rdataLands = dataLands.loc[dataLands['country_or_area'].isin(countries)]\n",
    "\n",
    "# groupe by country\n",
    "grdataLands = rdataLands.groupby('country_or_area')\n",
    "\n",
    "plt.figure(figsize=(15,15))\n",
    "for country in countries:\n",
    "    # we normalize the total land area by devinding by its mean\n",
    "    sns.lineplot(x=grdataLands.get_group(country).year, y=grdataLands.get_group(country).value/np.mean(grdataLands.get_group(country).value), label=country)\n",
    "    \n",
    "plt.ylabel('land area / mean land area')\n",
    "plt.title('Relative evolution of agricultural land areas');"
   ]
  },
  {
   "cell_type": "markdown",
   "metadata": {},
   "source": [
    "We observe an overall downward trend the agricultutral land areas except for a few countries (India and China). However, we also notice an anomally with Russia that must be investigated: no data is present before 1991.\n",
    "\n",
    "After some research we found out that the dissolution of the Soviet Union (USSR) took place on 26 December 1991, creating the country Russia. We must correct our data:"
   ]
  },
  {
   "cell_type": "code",
   "execution_count": null,
   "metadata": {},
   "outputs": [],
   "source": [
    "display(dataLands[dataLands['country_or_area'] == 'USSR'].head(3))\n",
    "\n",
    "# we don't really care about USSR, therefore, we rename it to Russia and subtract (USSR_land_1991 - Russia_land_1992) from its values\n",
    "to_subtract = dataLands[(dataLands['country_or_area'] == 'USSR') & (dataLands['year'] == 1991)].value.values - dataLands[(dataLands['country_or_area'] == 'Russian Federation') & (dataLands['year'] == 1992)].value.values\n",
    "# append rdataLands\n",
    "for year,value in zip(dataLands[dataLands['country_or_area'] == 'USSR'].year.values, dataLands[dataLands['country_or_area'] == 'USSR'].value.values):\n",
    "    rdataLands = rdataLands.append({'country_or_area':'Russian Federation', 'year':year, 'value':value - to_subtract[0]}, ignore_index=True)"
   ]
  },
  {
   "cell_type": "code",
   "execution_count": null,
   "metadata": {},
   "outputs": [],
   "source": [
    "# check the graph again\n",
    "# groupe by country\n",
    "grdataLands = rdataLands.groupby('country_or_area')\n",
    "\n",
    "plt.figure(figsize=(15,15))\n",
    "for country in countries:\n",
    "    # we normalize the total land area by devinding by its mean\n",
    "    sns.lineplot(x=grdataLands.get_group(country).year, y=grdataLands.get_group(country).value/np.mean(grdataLands.get_group(country).value), label=country)\n",
    "    \n",
    "plt.ylabel('land area / mean land area')\n",
    "plt.title('Relative evolution of agricultural land area')"
   ]
  },
  {
   "cell_type": "code",
   "execution_count": null,
   "metadata": {},
   "outputs": [],
   "source": [
    "plt.figure(figsize=(20,5))\n",
    "for country in countries:\n",
    "    plt.bar(x=country, height=np.mean(grdataLands.get_group(country).value), label = country)\n",
    "plt.legend()\n",
    "plt.title('Mean agriculture land area');"
   ]
  },
  {
   "cell_type": "code",
   "execution_count": null,
   "metadata": {},
   "outputs": [],
   "source": [
    "# Soil erosion data\n",
    "dataSoil = pd.read_csv('data/current_FAO/raw_files/Environment_Soil_E_All_Data.csv', encoding = \"ISO-8859-1\")\n",
    "#display(dataSoil.head())\n",
    "\n",
    "# check for our countries\n",
    "print(check_country(countries, dataSoil['Country']))\n",
    "\n",
    "# reduce to selected countries\n",
    "rdataSoil = dataSoil.loc[dataSoil['Country'].isin(countries)]\n",
    "rdataSoil.head()"
   ]
  },
  {
   "cell_type": "markdown",
   "metadata": {},
   "source": [
    "Except the carbon content all the other data (erosion and lan degredation) haave only 1 measure in 1991 for each country."
   ]
  },
  {
   "cell_type": "markdown",
   "metadata": {},
   "source": [
    "### **New Data**\n",
    "In order to answer the question at the beginning we need to search for and acquire some new data:"
   ]
  },
  {
   "cell_type": "markdown",
   "metadata": {},
   "source": [
    "### Life expectancy at birth for both sexes combined (years):\n",
    "http://data.un.org/Data.aspx?d=PopDiv&f=variableID%3a68"
   ]
  },
  {
   "cell_type": "code",
   "execution_count": null,
   "metadata": {},
   "outputs": [],
   "source": [
    "lifeExp_df = pd.read_csv('data/life_expectancy.csv')\n",
    "lifeExp_df.head(3)"
   ]
  },
  {
   "cell_type": "code",
   "execution_count": null,
   "metadata": {},
   "outputs": [],
   "source": [
    "# rename columns for consistency\n",
    "lifeExp_df.rename(columns={'Country or Area': 'country_or_area', 'Year(s)': 'years', 'Variant': 'variant', 'Value': 'value'}, inplace= True)\n",
    "\n",
    "# Check our list\n",
    "print(check_country(countries, lifeExp_df['country_or_area']))\n",
    "\n",
    "# reduce to our selected countries\n",
    "rlifeExp_df = lifeExp_df.loc[lifeExp_df['country_or_area'].isin(countries)]\n",
    "\n",
    "# do we have the same problem as before with russia ?\n",
    "rlifeExp_df[rlifeExp_df['country_or_area']=='Russian Federation'].tail()"
   ]
  },
  {
   "cell_type": "markdown",
   "metadata": {},
   "source": [
    "Fortunately we don't have the above problem with Russia in this dataset. We observe that 'Years' is a contains 5 years long periods, thus we transform it and erase the second year (-19**). "
   ]
  },
  {
   "cell_type": "code",
   "execution_count": null,
   "metadata": {},
   "outputs": [],
   "source": [
    "# clean column year\n",
    "rlifeExp_df['year'] = rlifeExp_df['years'].str.split('-', expand=True).iloc[:,0].astype('int')\n",
    "rlifeExp_df.drop(columns='years', inplace= True)\n",
    "rlifeExp_df = rlifeExp_df[rlifeExp_df['year'] < 2019] # we are not interested in predictions"
   ]
  },
  {
   "cell_type": "code",
   "execution_count": null,
   "metadata": {},
   "outputs": [],
   "source": [
    "# simple observations\n",
    "# groupe by country\n",
    "grlifeExp_df = rlifeExp_df.groupby('country_or_area')\n",
    "\n",
    "plt.figure(figsize=(15,15))\n",
    "for country in countries:\n",
    "    sns.lineplot(x=grlifeExp_df.get_group(country).year, y=grlifeExp_df.get_group(country).value, label=country)\n",
    "    \n",
    "plt.ylabel('Life expectancy')\n",
    "plt.title('Evolution of life expectancy');"
   ]
  },
  {
   "cell_type": "markdown",
   "metadata": {},
   "source": [
    "We see that india and china had a big evolution from the 1960s. However, China is the only country that also had a similar evolution in its agricultural lands."
   ]
  },
  {
   "cell_type": "markdown",
   "metadata": {},
   "source": [
    "### Value added by industries at current prices (ISIC Rev. 3)\n",
    "\n",
    "We were unable to download all the data from the below website, therefore, we reduced the industries to agriculture.\n",
    "\n",
    "http://data.un.org/Data.aspx?d=SNA&f=group_code%3a201"
   ]
  },
  {
   "cell_type": "code",
   "execution_count": null,
   "metadata": {},
   "outputs": [],
   "source": [
    "valueAdded_df = pd.read_csv('data/value_added.csv', low_memory=False)\n",
    "valueAdded_df = valueAdded_df.dropna(subset=['Value'])\n",
    "valueAdded_df.head(3)"
   ]
  },
  {
   "cell_type": "code",
   "execution_count": null,
   "metadata": {},
   "outputs": [],
   "source": [
    "# rename columns for consistency\n",
    "valueAdded_df.rename(columns={'Country or Area': 'country_or_area', 'Year': 'year', 'Value': 'value'}, inplace= True)\n",
    "\n",
    "# Check our list\n",
    "print(check_country(countries, valueAdded_df['country_or_area']))"
   ]
  },
  {
   "cell_type": "code",
   "execution_count": null,
   "metadata": {},
   "outputs": [],
   "source": [
    "# print all countries\n",
    "print(valueAdded_df['country_or_area'].unique().tolist())"
   ]
  },
  {
   "cell_type": "code",
   "execution_count": null,
   "metadata": {},
   "outputs": [],
   "source": [
    "# Correct for united states\n",
    "valueAdded_df.replace(to_replace='United States', value='United States of America', inplace= True)\n",
    "\n",
    "# reduce to our selected countries\n",
    "rvalueAdded_df = valueAdded_df.loc[valueAdded_df['country_or_area'].isin(countries)]\n",
    "\n",
    "# do we have the same problem as before with russia ?\n",
    "rvalueAdded_df[rvalueAdded_df['country_or_area']=='Russian Federation'].tail()"
   ]
  },
  {
   "cell_type": "code",
   "execution_count": null,
   "metadata": {},
   "outputs": [],
   "source": [
    "# simple observations\n",
    "# groupe by country\n",
    "gvalueAdded_df = valueAdded_df.groupby('country_or_area')\n",
    "\n",
    "plt.figure(figsize=(15,15))\n",
    "for country in countries:\n",
    "    # plot  and normalize by mean\n",
    "    sns.lineplot(x=gvalueAdded_df.get_group(country).year, y=gvalueAdded_df.get_group(country).value/np.mean(gvalueAdded_df.get_group(country).value), label=country)\n",
    "    \n",
    "plt.ylabel('added-value')\n",
    "plt.title('Economic added value by agriculture');"
   ]
  },
  {
   "cell_type": "markdown",
   "metadata": {},
   "source": [
    "We see a strange peek with Russia that will have to be investigated for the final milestone. Russia's data starts from 1990 so we might have the same problem as before, but USSR is absent from the data..."
   ]
  },
  {
   "cell_type": "markdown",
   "metadata": {},
   "source": [
    "### Employment by sex and economic activity\n",
    "\n",
    "https://www.ilo.org/shinyapps/bulkexplorer5/?lang=en&segment=indicator&id=EMP_TEMP_SEX_ECO_NB_A"
   ]
  },
  {
   "cell_type": "code",
   "execution_count": null,
   "metadata": {},
   "outputs": [],
   "source": [
    "employment_df = pd.read_csv('data/Employment.csv')\n",
    "display(employment_df.head(3))\n",
    "employment_df = employment_df.drop(columns=['obs_status.label', 'note_classif.label', 'note_indicator.label'])   # drop useless columns"
   ]
  },
  {
   "cell_type": "code",
   "execution_count": null,
   "metadata": {},
   "outputs": [],
   "source": [
    "# rename columns for consistency\n",
    "employment_df.rename(columns={'ref_area.label': 'country_or_area', 'time': 'year', 'obs_value': 'value', 'classif1.label': 'activity'}, inplace= True)\n",
    "\n",
    "# Check our list\n",
    "print(check_country(countries, employment_df['country_or_area']))\n",
    "\n",
    "# Correct for united states\n",
    "employment_df.replace(to_replace='United States', value='United States of America', inplace= True)\n",
    "\n",
    "# reduce to our selected countries\n",
    "remployment_df = employment_df.loc[employment_df['country_or_area'].isin(countries)]\n",
    "\n",
    "# USSR isn't present: no problem\n",
    "np.sort(employment_df['country_or_area'].unique())[-20:]"
   ]
  },
  {
   "cell_type": "code",
   "execution_count": null,
   "metadata": {},
   "outputs": [],
   "source": [
    "# do a sub selection of only agricultural related economic activites\n",
    "remployment_df = remployment_df[remployment_df['activity'].str.contains('Agriculture')]"
   ]
  },
  {
   "cell_type": "code",
   "execution_count": null,
   "metadata": {},
   "outputs": [],
   "source": [
    "# extra cleaning\n",
    "remployment_df.drop(columns=['indicator.label', 'source.label', 'note_source.label'], inplace= True)   # drop useless columns\n",
    "remployment_df.replace({'Sex: Male': 'male', 'Sex: Female': 'female', 'Sex: Total': 'total'}, inplace= True)"
   ]
  },
  {
   "cell_type": "code",
   "execution_count": null,
   "metadata": {},
   "outputs": [],
   "source": [
    "remployment_df.head()"
   ]
  },
  {
   "cell_type": "code",
   "execution_count": null,
   "metadata": {},
   "outputs": [],
   "source": [
    "# simple observations\n",
    "# groupe by country\n",
    "gremployment_df = remployment_df[remployment_df['sex.label'] == 'total'].groupby('country_or_area')\n",
    "\n",
    "plt.figure(figsize=(15,15))\n",
    "for country in countries:\n",
    "    # plot and normalize by mean\n",
    "    sns.lineplot(x=gremployment_df.get_group(country).year, y=gremployment_df.get_group(country).value/np.mean(gremployment_df.get_group(country).value), label=country)\n",
    "    \n",
    "plt.ylabel('employment')\n",
    "plt.title('Employment in agriculture');"
   ]
  },
  {
   "cell_type": "markdown",
   "metadata": {},
   "source": [
    "We see an overall downtrend in the agricultural employments.Let's compare the mean employment of the countries:"
   ]
  },
  {
   "cell_type": "code",
   "execution_count": null,
   "metadata": {},
   "outputs": [],
   "source": [
    "plt.figure(figsize=(20,5))\n",
    "for country in countries:\n",
    "    plt.bar(x=country, height=np.mean(gremployment_df.get_group(country).value), label = country)\n",
    "plt.legend()\n",
    "plt.title('Mean Employment in agriculture')"
   ]
  },
  {
   "cell_type": "markdown",
   "metadata": {},
   "source": [
    "In order to have a meaningfull comparison the above values should be devided by the total population, but in an absolute comparison we can see employment in agricultural sectors is rather big in China and India.\n",
    "\n",
    "Compared to the bar chart of agricultural lands above, we notice United States for example that has a pretty vast agricultural land area but has very little employments in agriculture in comparison. "
   ]
  },
  {
   "cell_type": "markdown",
   "metadata": {},
   "source": [
    "### Non fatal occupational injuries per 100'000 workers by economic activity\n",
    "\n",
    "We found it hard to find reliable data for the 'quality of life' which could be subjective and not necessarily related to agriculture. Thus, we found the below dataset which describes the amount of non fatal injuries per economic activity, which we found interessting as a way to asses the social quality and safety of agriculture.\n",
    "\n",
    "https://www.ilo.org/shinyapps/bulkexplorer32/?lang=en&segment=indicator&id=INJ_NFTL_ECO_RT_A"
   ]
  },
  {
   "cell_type": "code",
   "execution_count": null,
   "metadata": {},
   "outputs": [],
   "source": [
    "nonFatalInjuries_df = pd.read_csv('data/non_fatal_injuries.csv')\n",
    "\n",
    "#look at some useless columns before droping them\n",
    "print(nonFatalInjuries_df.obs_status.unique())\n",
    "print(nonFatalInjuries_df.note_classif.unique().tolist())\n",
    "nonFatalInjuries_df = nonFatalInjuries_df.drop(columns=['obs_status', 'obs_status.label', 'note_classif', 'note_classif.label', 'note_source', 'note_source.label', 'indicator.label', 'note_indicator', 'source', 'source.label'])   # drop useless columns\n",
    "nonFatalInjuries_df.head(3)"
   ]
  },
  {
   "cell_type": "code",
   "execution_count": null,
   "metadata": {},
   "outputs": [],
   "source": [
    "# rename columns for consistency\n",
    "nonFatalInjuries_df.rename(columns={'ref_area.label': 'country_or_area', 'time': 'year', 'obs_value': 'value', 'classif1.label': 'activity'}, inplace= True)\n",
    "\n",
    "# Check our list\n",
    "print(check_country(countries, nonFatalInjuries_df['country_or_area']))"
   ]
  },
  {
   "cell_type": "code",
   "execution_count": null,
   "metadata": {},
   "outputs": [],
   "source": [
    "print(np.sort(nonFatalInjuries_df['country_or_area'].unique()).tolist())"
   ]
  },
  {
   "cell_type": "code",
   "execution_count": null,
   "metadata": {},
   "outputs": [],
   "source": [
    "# Problem: Canada is REALLY missing...\n",
    "\n",
    "# Correct for united states\n",
    "nonFatalInjuries_df.replace(to_replace='United States', value='United States of America', inplace= True)\n",
    "\n",
    "# Only keep activities related to agriculture\n",
    "rnonFatalInjuries_df = nonFatalInjuries_df[nonFatalInjuries_df['activity'].str.contains('Agriculture')]\n",
    "\n",
    "# There are several regions (cities) of China present in the data set but no China as a whole.\n",
    "# As our value of interest is a rate, we can take the mean of the latter rates for China as a whole\n",
    "china_injuries = rnonFatalInjuries_df[nonFatalInjuries_df['country_or_area'].str.contains('China')].reset_index()\n",
    "print(china_injuries['country_or_area'].unique())    # different chinese cities present"
   ]
  },
  {
   "cell_type": "code",
   "execution_count": null,
   "metadata": {},
   "outputs": [],
   "source": [
    "china_injuries.head()"
   ]
  },
  {
   "cell_type": "markdown",
   "metadata": {},
   "source": [
    "There is only one entry for Macau and its value is 0. So we drop it and represent China by Taiwan."
   ]
  },
  {
   "cell_type": "code",
   "execution_count": null,
   "metadata": {},
   "outputs": [],
   "source": [
    "china_injuries.drop(index= 0, axis= 0, inplace= True)\n",
    "china_injuries.replace('Taiwan, China', 'China', inplace= True)\n",
    "\n",
    "# append with China data\n",
    "rnonFatalInjuries_df = rnonFatalInjuries_df.append(china_injuries, sort=False, ignore_index= True)\n",
    "\n",
    "# reduce to our selected countries\n",
    "rnonFatalInjuries_df = rnonFatalInjuries_df.loc[rnonFatalInjuries_df['country_or_area'].isin(countries)]\n",
    "\n",
    "# recheck countries\n",
    "check_country(countries, rnonFatalInjuries_df['country_or_area'])"
   ]
  },
  {
   "cell_type": "markdown",
   "metadata": {},
   "source": [
    "We now see that also Japan is missing but that is because Japan hasn't Agriculture in its activity column."
   ]
  },
  {
   "cell_type": "code",
   "execution_count": null,
   "metadata": {},
   "outputs": [],
   "source": [
    "# simple observations\n",
    "# groupe by country\n",
    "grnonFatalInjuries_df = rnonFatalInjuries_df.groupby('country_or_area')\n",
    "\n",
    "plt.figure(figsize=(15,15))\n",
    "for country in rnonFatalInjuries_df['country_or_area'].unique():\n",
    "    # plot and normalize by mean\n",
    "    sns.lineplot(x=grnonFatalInjuries_df.get_group(country).year, y=grnonFatalInjuries_df.get_group(country).value, label=country)\n",
    "    \n",
    "plt.ylabel('injuries rate')\n",
    "plt.title('Non fatal injuries in agriculture per 100000 workers');"
   ]
  },
  {
   "cell_type": "markdown",
   "metadata": {},
   "source": [
    "We notice that the data for some countries (China, Russia, India, US, Germany) doesn't cover the entire year range. We also observe unusually high values for Switzerland, which makes us question the sanity of the data. This data in its current form, probably might not be usable for further analysis..."
   ]
  },
  {
   "cell_type": "markdown",
   "metadata": {},
   "source": [
    "# Analysis plan\n",
    "\n",
    "- Reduce the number selected countries\n",
    "- Derive relations (such as correlations) between land usage and the above factors for the selected topics.\n",
    "- In order to rank the importance of the above topics, we could try to develop a model to predict land usage (via panel data regression for example). \n",
    "- Make the link with question 1: greenhouse gas emissions"
   ]
  },
  {
   "cell_type": "markdown",
   "metadata": {},
   "source": [
    "## Question 4\n",
    "\n",
    "Is the temporal evolution of agricultural land always correlated with the temporal evolution of the quantity of fertilizers used (and waste emission) or there’s some point in time where this trend slows or reverses for some countries?"
   ]
  },
  {
   "cell_type": "markdown",
   "metadata": {},
   "source": [
    "#### DATA PREPROCESSING"
   ]
  },
  {
   "cell_type": "code",
   "execution_count": null,
   "metadata": {},
   "outputs": [],
   "source": [
    "#Gettinge Merge Fertilisant df\n",
    "\n",
    "Fertdf=pd.read_csv('data/Inputs_FertilizersNutrient_E_All_Data.csv', sep=',',engine='python')\n",
    "colnames = ['Area','Item','Element','Y2002','Y2003','Y2004','Y2005','Y2006','Y2007','Y2008','Y2009','Y2010','Y2011','Y2012','Y2013',\n",
    "              'Y2014','Y2015','Y2016','Y2017']\n",
    "Newdf = Fertdf[colnames]\n",
    "display(Newdf.head())\n",
    "\n",
    "Newdf = Newdf[Newdf.Element=='Agricultural Use']\n",
    "Newdf.columns = Newdf.columns.str.replace('Y','')\n",
    "Meltdf = pd.melt(Newdf, id_vars=['Area','Item','Element'], var_name='Year', value_name='Value').copy()\n",
    "Meltdf.head()"
   ]
  },
  {
   "cell_type": "code",
   "execution_count": null,
   "metadata": {},
   "outputs": [],
   "source": [
    "#Meltdf.Year = Meltdf.Year.str.replace('Y','')\n",
    "Meltdf.Year = Meltdf.Year.astype('int64')\n",
    "\n",
    "# split fertilisers, take nitrogen\n",
    "colnitrogen = Meltdf[Meltdf.Item=='Nutrient nitrogen N (total)']\n",
    "colnitrogen = colnitrogen[['Area','Year','Value']]\n",
    "colnitrogen.columns=['Area','Year','NitrogenUse']\n",
    "colnitrogen = colnitrogen.set_index(['Area','Year'])\n",
    "\n",
    "# take phosphate\n",
    "colpho = Meltdf[Meltdf.Item=='Nutrient phosphate P2O5 (total)']\n",
    "colpho = colpho[['Area','Year','Value']]\n",
    "colpho.columns=['Area','Year','PhosphateUse']\n",
    "colpho = colpho.set_index(['Area','Year'])\n",
    "\n",
    "# take potash\n",
    "colpot = Meltdf[Meltdf.Item=='Nutrient potash K2O (total)']\n",
    "colpot = colpot[['Area','Year','Value']]\n",
    "colpot.columns=['Area','Year','PotashUse']\n",
    "colpot = colpot.set_index(['Area','Year'])\n",
    "\n",
    "# merge all\n",
    "tmp = pd.merge(colnitrogen,colpho, left_index=True,right_index=True)\n",
    "mergeFert = tmp.merge(colpot, left_index=True,right_index=True)\n",
    "mergeFert.head()"
   ]
  },
  {
   "cell_type": "code",
   "execution_count": null,
   "metadata": {},
   "outputs": [],
   "source": [
    "#Getting Production data\n",
    "df = pd.read_csv('data/current_FAO/raw_files/Production_Crops_E_All_Data_(Normalized).csv', sep=',',engine='python')\n",
    "Proddf = df[df.Element=='Production']\n",
    "Proddf = Proddf[['Area','Item','Year','Value']]\n",
    "Proddf.columns = ['Area','Item','Year','Production']\n",
    "display(Proddf.head(3))\n",
    "\n",
    "#Building harvesting data\n",
    "AreaHarvdf = df[df.Element=='Area harvested']\n",
    "AreaHarvdf = AreaHarvdf[['Area','Item','Year','Value']]\n",
    "AreaHarvdf.columns = ['Area','Item','Year','Harvested_Area']\n",
    "display(AreaHarvdf.head(3))\n",
    "\n",
    "#take only the recent data\n",
    "RecentProd = Proddf.query('Year > 2001')\n",
    "RecentAreaHarv = AreaHarvdf.query('Year > 2001')"
   ]
  },
  {
   "cell_type": "code",
   "execution_count": null,
   "metadata": {},
   "outputs": [],
   "source": [
    "#Adding the ratio of production over harvested area\n",
    "RecentProdHier = RecentProd.set_index(['Area','Item','Year'])\n",
    "RecentAreaHarvHier = RecentAreaHarv.set_index(['Area','Item','Year'])\n",
    "x = pd.merge(RecentProdHier,RecentAreaHarvHier, right_index=True,left_index=True)\n",
    "x = x.reset_index()\n",
    "x = x.dropna()\n",
    "y = x.Production/x.Harvested_Area\n",
    "x['Ratio_Prod_field']= y\n",
    "ratiodf = x"
   ]
  },
  {
   "cell_type": "markdown",
   "metadata": {},
   "source": [
    "#### PLOTTING FUNCTIONS"
   ]
  },
  {
   "cell_type": "code",
   "execution_count": null,
   "metadata": {},
   "outputs": [],
   "source": [
    "def plotFertandProd(area,item,Fertilisant):\n",
    "    #Plot one area's item with one fertilisant where item is a seed (wheat for example)\n",
    "    strtemp = ' used in tonnes in '\n",
    "    title_=Fertilisant+strtemp+area\n",
    "    if(Fertilisant=='N'):\n",
    "        fer=4\n",
    "        x_label= 'Nitrogen use'\n",
    "    if(Fertilisant=='P'):\n",
    "        fer=5\n",
    "        x_label= 'Phosphate use'\n",
    "    if(Fertilisant=='K'):\n",
    "        fer=6\n",
    "        x_label= 'Potash use'\n",
    "    #Merging Production and Fertilisant for plotting\n",
    "    tmp = RecentProd[RecentProd.Item==item]\n",
    "    tmp = tmp.set_index(['Area','Year'])\n",
    "    dftoplot = tmp.merge(mergeFert,left_index=True,right_index=True, how='outer')\n",
    "    dftoplot = dftoplot.reset_index()\n",
    "    plotdata = dftoplot[dftoplot.Area==area]\n",
    "    for i,year in enumerate(plotdata.Year):\n",
    "        x = plotdata.iloc[i,fer]\n",
    "        y = plotdata.iloc[i,3]\n",
    "        plt.scatter(x, y, color='red')\n",
    "        plt.text(x+1, y+1, year, fontsize=7)\n",
    "    plt.ylabel(item)\n",
    "    plt.xlabel(x_label)\n",
    "    plt.title(title_)\n",
    "    plt.show()\n",
    "    return"
   ]
  },
  {
   "cell_type": "code",
   "execution_count": null,
   "metadata": {},
   "outputs": [],
   "source": [
    "def densityplotFertvsProd(area,item):\n",
    "    #Plot density of one country\n",
    "    tmp = RecentProd[RecentProd.Item==item]\n",
    "    tmp = tmp.set_index(['Area','Year'])\n",
    "    dftoplot = tmp.merge(mergeFert,left_index=True,right_index=True, how='outer')\n",
    "    dftoplot = dftoplot.reset_index()\n",
    "    plotdata = dftoplot[dftoplot.Area==area]\n",
    "    sns.jointplot(x=\"NitrogenUse\", y=\"Production\", data=plotdata, kind=\"kde\");\n",
    "    sns.jointplot(x=\"PhosphateUse\", y=\"Production\", data=plotdata, kind=\"kde\");\n",
    "    sns.jointplot(x=\"PotashUse\", y=\"Production\", data=plotdata, kind=\"kde\");\n",
    "    return"
   ]
  },
  {
   "cell_type": "code",
   "execution_count": null,
   "metadata": {},
   "outputs": [],
   "source": [
    "def densityplotFertvsProdAll(item):\n",
    "    #plot density of all Area\n",
    "    tmp = RecentProd[RecentProd.Item==item]\n",
    "    tmp = tmp.set_index(['Area','Year'])\n",
    "    dftoplot = tmp.merge(mergeFert,left_index=True,right_index=True, how='outer')\n",
    "    dftoplot = dftoplot.reset_index()\n",
    "    plotdata = dftoplot\n",
    "    print(plotdata.shape)\n",
    "    sns.jointplot(x=\"NitrogenUse\", y=\"Production\", data=plotdata, kind=\"kde\",xlim=[0,2000000],ylim=[0,15000000]);\n",
    "    sns.jointplot(x=\"PhosphateUse\", y=\"Production\", data=plotdata, kind=\"kde\",xlim=[0,750000],ylim=[0,15000000]);\n",
    "    sns.jointplot(x=\"PotashUse\", y=\"Production\", data=plotdata, kind=\"kde\",xlim=[0,750000],ylim=[0,15000000]);\n",
    "    return"
   ]
  },
  {
   "cell_type": "code",
   "execution_count": null,
   "metadata": {},
   "outputs": [],
   "source": [
    "def ScatterplotFertvsRatio(area,item):\n",
    "    #Plot density of one country\n",
    "    tmp = ratiodf[ratiodf.Item==item]\n",
    "    tmp = tmp.set_index(['Area','Year'])\n",
    "    dftoplot = tmp.merge(mergeFert,left_index=True,right_index=True, how='outer')\n",
    "    dftoplot = dftoplot.reset_index()\n",
    "    plotdata = dftoplot[dftoplot.Area==area]\n",
    "    sns.scatterplot(x=\"NitrogenUse\", y=\"Ratio_Prod_field\", data=plotdata);\n",
    "    plt.show()\n",
    "    sns.scatterplot(x=\"PhosphateUse\", y=\"Ratio_Prod_field\", data=plotdata);\n",
    "    plt.show()\n",
    "    sns.scatterplot(x=\"PotashUse\", y=\"Ratio_Prod_field\", data=plotdata);\n",
    "    plt.show()\n",
    "    return"
   ]
  },
  {
   "cell_type": "code",
   "execution_count": null,
   "metadata": {},
   "outputs": [],
   "source": [
    "def R2(x, y):\n",
    "    return stats.pearsonr(x, y)[0] ** 2"
   ]
  },
  {
   "cell_type": "code",
   "execution_count": null,
   "metadata": {},
   "outputs": [],
   "source": [
    "def RegScatterplotFertvsRatio(area,item):\n",
    "    #Plot density of one country\n",
    "    tmp = ratiodf[ratiodf.Item==item]\n",
    "    tmp = tmp.set_index(['Area','Year'])\n",
    "    dftoplot = tmp.merge(mergeFert,left_index=True,right_index=True, how='outer')\n",
    "    dftoplot = dftoplot.reset_index()\n",
    "    plotdata = dftoplot[dftoplot.Area==area]\n",
    "    plotdata.dropna()\n",
    "    x = plotdata.NitrogenUse\n",
    "    y = plotdata.Ratio_Prod_field\n",
    "    sns.jointplot(x=\"NitrogenUse\", y=\"Ratio_Prod_field\", data=plotdata,kind='reg', stat_func=R2);\n",
    "    plt.show()\n",
    "    sns.jointplot(x=\"PhosphateUse\", y=\"Ratio_Prod_field\", data=plotdata,kind='reg',stat_func=R2);\n",
    "    plt.show()\n",
    "    sns.jointplot(x=\"PotashUse\", y=\"Ratio_Prod_field\", data=plotdata,kind='reg',stat_func=R2);\n",
    "    plt.show()\n",
    "    return"
   ]
  },
  {
   "cell_type": "markdown",
   "metadata": {},
   "source": [
    "#### DATA EXPLORATION"
   ]
  },
  {
   "cell_type": "markdown",
   "metadata": {},
   "source": [
    "Let's first see the progression of fertisant in time, globally we see continuous slow increase as we could have expected."
   ]
  },
  {
   "cell_type": "code",
   "execution_count": null,
   "metadata": {},
   "outputs": [],
   "source": [
    "sns.scatterplot(x='Year',y='Value',hue='Item',data=Meltdf[Meltdf.Area=='World'])\n",
    "plt.title('Fertilisant used in the worlds')\n",
    "plt.ylabel('Tonnes of Nutrient')\n",
    "plt.show()\n",
    "sns.scatterplot(x='Year',y='Value',hue='Item',data=Meltdf[Meltdf.Area=='Least Developed Countries'])\n",
    "plt.title('Fertilisant used in the least developed countries')\n",
    "plt.ylabel('Tonnes of Nutrient')\n",
    "plt.show()\n",
    "sns.scatterplot(x='Year',y='Value',hue='Item',data=Meltdf[Meltdf.Area=='Land Locked Developing Countries'])\n",
    "plt.title('Fertilisant used in the rich countries')\n",
    "plt.ylabel('Tonnes of Nutrient')\n",
    "plt.show()"
   ]
  },
  {
   "cell_type": "markdown",
   "metadata": {},
   "source": [
    "To have an idee of the added value of fertilisant, lets start looking at the global density of fertilizers use and wheat production in tons:"
   ]
  },
  {
   "cell_type": "code",
   "execution_count": null,
   "metadata": {},
   "outputs": [],
   "source": [
    "item = 'Wheat'\n",
    "densityplotFertvsProdAll(item)"
   ]
  },
  {
   "cell_type": "markdown",
   "metadata": {},
   "source": [
    "We cannot see any kind of linear correlation between the quantities of fertilisant used and production. The Indeed Data is just centralised in rectangular manner:"
   ]
  },
  {
   "cell_type": "markdown",
   "metadata": {},
   "source": [
    "Let's have a closer look in USA's wheat production, here we still see no evident correlation."
   ]
  },
  {
   "cell_type": "code",
   "execution_count": null,
   "metadata": {},
   "outputs": [],
   "source": [
    "area = \"United States of America\"\n",
    "item = 'Wheat'\n",
    "Fertilisant = 'N' #N P K\n",
    "plotFertandProd(area,item,Fertilisant)\n",
    "\n",
    "area = \"United States of America\"\n",
    "item = 'Wheat'\n",
    "Fertilisant = 'P' #N P K\n",
    "plotFertandProd(area,item,Fertilisant)\n",
    "\n",
    "area = \"United States of America\"\n",
    "item = 'Wheat'\n",
    "Fertilisant = 'K' #N P K\n",
    "plotFertandProd(area,item,Fertilisant)"
   ]
  },
  {
   "cell_type": "code",
   "execution_count": null,
   "metadata": {},
   "outputs": [],
   "source": [
    "area = \"United States of America\"\n",
    "item = 'Seed cotton'\n",
    "Fertilisant = 'N' #N P K\n",
    "plotFertandProd(area,item,Fertilisant)\n",
    "\n",
    "area = \"United States of America\"\n",
    "item = 'Seed cotton'\n",
    "Fertilisant = 'P' #N P K\n",
    "plotFertandProd(area,item,Fertilisant)\n",
    "\n",
    "area = \"United States of America\"\n",
    "item = 'Seed cotton'\n",
    "Fertilisant = 'K' #N P K\n",
    "plotFertandProd(area,item,Fertilisant)"
   ]
  },
  {
   "cell_type": "markdown",
   "metadata": {},
   "source": [
    "In contrast the USA's seed production a shows more correlation:"
   ]
  },
  {
   "cell_type": "code",
   "execution_count": null,
   "metadata": {},
   "outputs": [],
   "source": [
    "area = 'World'\n",
    "item = 'Seed cotton'\n",
    "Fertilisant = 'N' #N P K\n",
    "plotFertandProd(area,item,Fertilisant)\n",
    "\n",
    "area = \"United States of America\"\n",
    "item = 'Seed cotton'\n",
    "Fertilisant = 'P' #N P K\n",
    "plotFertandProd(area,item,Fertilisant)\n",
    "\n",
    "area = \"United States of America\"\n",
    "item = 'Seed cotton'\n",
    "Fertilisant = 'K' #N P K\n",
    "plotFertandProd(area,item,Fertilisant)"
   ]
  },
  {
   "cell_type": "markdown",
   "metadata": {},
   "source": [
    "One thing we have to care about is the fact that the more crop area is harvested, the more will be the production. So let's divide our production by the harvest area is h2 in order to diminish that bias.\n",
    "Here, we plot the world average production in tons divided by harved area in hectars with the 3 fertilisants used.\n",
    "In this case, we see a more direct correlation between fertilisant used and production (R2= ~0.75), which make difficult \n",
    "to ask farmer to use less fertlisant!:"
   ]
  },
  {
   "cell_type": "code",
   "execution_count": null,
   "metadata": {},
   "outputs": [],
   "source": [
    "area = 'World'\n",
    "item = 'Seed cotton'\n",
    "RegScatterplotFertvsRatio(area,item)"
   ]
  },
  {
   "cell_type": "markdown",
   "metadata": {},
   "source": [
    "But if we look at wheat production here USA, there is absolutly no correlation. One explanation is that once the field has sufficient ressources, adding fertilisant won't increase the production anymore. \n",
    "This means that no correlation indirectly involves that too much fertilisant is used:"
   ]
  },
  {
   "cell_type": "code",
   "execution_count": null,
   "metadata": {},
   "outputs": [],
   "source": [
    "area = 'United States of America'\n",
    "item = 'Wheat'\n",
    "RegScatterplotFertvsRatio(area,item)"
   ]
  },
  {
   "cell_type": "markdown",
   "metadata": {},
   "source": [
    "By looking in less rich and other countries, we see that the countries in devlepement have a linear corelation of fertilisant. \n",
    "This might come by the fact that they can't afford to saturate their field with artificial nutrient: "
   ]
  },
  {
   "cell_type": "code",
   "execution_count": null,
   "metadata": {},
   "outputs": [],
   "source": [
    "area = 'Least Developed Countries'\n",
    "item = 'Wheat'\n",
    "RegScatterplotFertvsRatio(area,item)"
   ]
  },
  {
   "cell_type": "code",
   "execution_count": null,
   "metadata": {},
   "outputs": [],
   "source": [
    "area = 'Land Locked Developing Countries'\n",
    "item = 'Wheat'\n",
    "RegScatterplotFertvsRatio(area,item)"
   ]
  },
  {
   "cell_type": "markdown",
   "metadata": {},
   "source": [
    "#### Q4 Conclusion\n",
    "\n",
    "There is no direct relation of the time and ratio of production/fertilisant.\n",
    "The use of fertilisant increase slowly with time consistant with the increased needs of the continuously rising population.\n",
    "\n",
    "We can see that on world wide fertilisant used, the production is linearly correlated to fertilisant, but not on richer country. Indeed, rich country seem to over-saturate their field with artifical nutrient while the other countries are more cautious with the fertilisation.\n",
    "\n",
    "We can conclude that richer countries might want to reduce their fertilisant use in order to avoid polution and waste. In opposition, some other countries should increase the fertilisant use in order to have more production."
   ]
  },
  {
   "cell_type": "markdown",
   "metadata": {},
   "source": [
    "#### To do next\n",
    "For the final report, we could go deeper in the analysis and give some concrete examples of the above conclusions. It would be also niceer to have more geographic, dynamic and esthetic plot."
   ]
  },
  {
   "cell_type": "markdown",
   "metadata": {},
   "source": [
    "## Question 5\n",
    "This part of the notebook tries to answer the last question:\n",
    "\n",
    "### What is the ratio of country support/cost vs crop production in developed countries? Could we find other metrics to explain this support? Should we stop supporting farmers in Switzerland?"
   ]
  },
  {
   "cell_type": "code",
   "execution_count": null,
   "metadata": {},
   "outputs": [],
   "source": [
    "#Load data for all countries\n",
    "GovExpendituresAll = pd.read_csv('data/current_FAO/raw_files/Investment_GovernmentExpenditure_E_All_Data_(Normalized).csv',\n",
    "                                 sep=',',engine='python')\n",
    "CropsProdAll = pd.read_csv('data/current_FAO/raw_files/Production_Crops_E_All_Data_(Normalized).csv',\n",
    "                                 sep=',',engine='python')\n",
    "CapitalStockAll = pd.read_csv('data/current_FAO/raw_files/Investment_CapitalStock_E_All_Data_(Normalized).csv',\n",
    "                                 sep=',',engine='python')"
   ]
  },
  {
   "cell_type": "markdown",
   "metadata": {},
   "source": [
    "### Data pre-processing"
   ]
  },
  {
   "cell_type": "code",
   "execution_count": null,
   "metadata": {},
   "outputs": [],
   "source": [
    "GovAgriOriIndexAll = GovExpendituresAll.query('Element == \"Agriculture orientation index\"')\n",
    "GovAgriInvestmentAll = GovExpendituresAll.query('Element == \"Value US$\"')"
   ]
  },
  {
   "cell_type": "code",
   "execution_count": null,
   "metadata": {},
   "outputs": [],
   "source": [
    "GovAgriOriIndexIndia = GovAgriOriIndexAll.query('Area == \"India\"')\n",
    "GovAgriOriIndexItaly = GovAgriOriIndexAll.query('Area == \"China, mainland\"')\n",
    "GovAgriOriIndexChina = GovAgriOriIndexAll.query('Area == \"China, mainland\"')\n",
    "GovAgriOriIndexSwitzerland = GovAgriOriIndexAll.query('Area == \"Switzerland\"')\n",
    "GovAgriOriIndexFrance = GovAgriOriIndexAll.query('Area == \"France\"')\n",
    "GovAgriOriIndexUK = GovAgriOriIndexAll.query('Area == \"United Kingdom\"')"
   ]
  },
  {
   "cell_type": "code",
   "execution_count": null,
   "metadata": {},
   "outputs": [],
   "source": [
    "WheatProdIndia2001 = CropsProdAll.query('Area == \"India\" and Item == \"Wheat\" and Element == \"Production\" and Year > 2000')\n",
    "WheatProdChina2001 = CropsProdAll.query('Area == \"China, mainland\" and Item == \"Wheat\" and Element == \"Production\" and Year > 2000')\n",
    "WheatProdSwitzerland2001 = CropsProdAll.query('Area == \"Switzerland\" and Item == \"Wheat\" and Element == \"Production\" and Year > 2000')\n",
    "RiceProdIndia2001 = CropsProdAll.query('Area == \"India\" and Item == \"Rice, paddy\" and Element == \"Production\" and Year > 2000')\n",
    "RiceProdChina2001 = CropsProdAll.query('Area == \"China\" and Item == \"Rice, paddy\" and Element == \"Production\" and Year > 2000')\n",
    "CerealsProdSwiss2001 = CropsProdAll.query('Area == \"Switzerland\" and Item == \"Cereals,Total\" and Element == \"Production\" and Year > 2000')"
   ]
  },
  {
   "cell_type": "code",
   "execution_count": null,
   "metadata": {},
   "outputs": [],
   "source": [
    "GovAgriInvestmentSwitzerlandCentral = GovAgriInvestmentAll.query('Area == \"Switzerland\" and Item == \"Agriculture (Central Government)\"')\n",
    "GovAgriInvestmentSwitzerlandGeneral = GovAgriInvestmentAll.query('Area == \"Switzerland\" and Item == \"Agriculture (General Government)\"')\n",
    "CapitalStockSwitzerland = CapitalStockAll.query('Area == \"Switzerland\" and Element == \"Value US$\" and Item == \"Gross Fixed Capital Formation (Agriculture, Forestry and Fishing)\" and Year > 2000')"
   ]
  },
  {
   "cell_type": "markdown",
   "metadata": {},
   "source": [
    "### Data Exploration"
   ]
  },
  {
   "cell_type": "code",
   "execution_count": null,
   "metadata": {},
   "outputs": [],
   "source": [
    "fig, ax1 = plt.subplots(figsize=(20,10))\n",
    "ax1.set_xlabel('Year')\n",
    "ax1.set_ylabel('Government argiculture orientation index')\n",
    "ax1.plot(GovAgriOriIndexIndia.Year,GovAgriOriIndexIndia.Value,\n",
    "         color='red',marker='o',linestyle='dashed',linewidth=2,markersize=8,label='India')\n",
    "ax1.plot(GovAgriOriIndexChina.Year,GovAgriOriIndexChina.Value,\n",
    "         color='blue',marker='o',linestyle='dashed',linewidth=2,markersize=8,label='China')\n",
    "ax1.plot(GovAgriOriIndexItaly.Year,GovAgriOriIndexItaly.Value,\n",
    "         color='yellow',marker='o',linestyle='dashed',linewidth=2,markersize=8,label='Italy')\n",
    "ax1.plot(GovAgriOriIndexSwitzerland.Year,GovAgriOriIndexSwitzerland.Value,\n",
    "         color='green',marker='o',linestyle='dashed',linewidth=2,markersize=8,label='Switzerland')\n",
    "ax1.plot(GovAgriOriIndexFrance.Year,GovAgriOriIndexFrance.Value,\n",
    "         color='purple',marker='o',linestyle='dashed',linewidth=2,markersize=8,label='France')\n",
    "ax1.plot(GovAgriOriIndexUK.Year,GovAgriOriIndexUK.Value,\n",
    "         color='orange',marker='o',linestyle='dashed',linewidth=2,markersize=8,label='United Kingdom')\n",
    "fig.tight_layout()\n",
    "plt.title('Agriculture orientation index')\n",
    "plt.legend()\n",
    "plt.show()"
   ]
  },
  {
   "cell_type": "markdown",
   "metadata": {},
   "source": [
    "### Comment\n",
    "This first graph shows time series of the agriculture orientation index (AOI) for several developed countries. The AOI is defined as the ratio of the agriculture share of government expenditures and the agriculture share of gross domestic product (GDP). We can see that the agriculture orientation index is mush higher for Switzerland as compared to other typical developed countries. This would suggest that the swiss government invests mush more money for the same added value on agricultural production. \n",
    "\n",
    "**Disclaimer**: The following graphs are made to give a visualisation of potential correlations (NOT to compare the actual values), therefore the axes are meaningless and shall not be considered."
   ]
  },
  {
   "cell_type": "code",
   "execution_count": null,
   "metadata": {},
   "outputs": [],
   "source": [
    "fig, ax1 = plt.subplots(figsize=(20,10))\n",
    "color = 'tab:red'\n",
    "ax1.set_xlabel('Year')\n",
    "ax1.set_ylabel('Wheat Production [tonnes]',color=color)\n",
    "ax1.plot(WheatProdIndia2001.Year,WheatProdIndia2001.Value,\n",
    "         color=color,marker='o',linestyle='dashed',linewidth=2,markersize=8)\n",
    "ax1.tick_params(axis='y',labelcolor=color)\n",
    "ax2 = ax1.twinx()  # instantiate a second axes that shares the same x-axis\n",
    "color = 'tab:green'\n",
    "ax2.set_ylabel('Agriculture Index',color=color)\n",
    "ax2.plot(GovAgriOriIndexIndia.Year[0:14],GovAgriOriIndexIndia.Value[0:14],\n",
    "         color=color,marker='o',linestyle='dashed',linewidth=2,markersize=8)\n",
    "ax2.tick_params(axis='y',labelcolor=color)\n",
    "ax3 = ax1.twinx()\n",
    "ax3.set_ylabel('Rice Production [tonnes]',color='blue',labelpad=20)\n",
    "ax3.plot(RiceProdIndia2001.Year,RiceProdIndia2001.Value,\n",
    "         color='blue',marker='o',linestyle='dashed',linewidth=2,markersize=8)\n",
    "ax3.tick_params(axis='y',labelcolor='blue')\n",
    "fig.tight_layout()  # otherwise the right y-label is slightly clipped\n",
    "plt.title('Production and agriculture orientation index time series in India')\n",
    "plt.show()"
   ]
  },
  {
   "cell_type": "code",
   "execution_count": null,
   "metadata": {},
   "outputs": [],
   "source": [
    "fig, ax1 = plt.subplots(figsize=(20,10))\n",
    "color = 'tab:red'\n",
    "ax1.set_xlabel('Year')\n",
    "ax1.set_ylabel('Wheat Production [tonnes]',color=color)\n",
    "ax1.plot(WheatProdChina2001.Year,WheatProdChina2001.Value,\n",
    "         color=color,marker='o',linestyle='dashed',linewidth=2,markersize=8)\n",
    "ax1.tick_params(axis='y',labelcolor=color)\n",
    "ax2 = ax1.twinx()  # instantiate a second axes that shares the same x-axis\n",
    "color = 'tab:green'\n",
    "ax2.set_ylabel('Agriculture Index',color=color)\n",
    "ax2.plot(GovAgriOriIndexChina.Year[0:8],GovAgriOriIndexChina.Value[0:8],\n",
    "         color=color,marker='o',linestyle='dashed',linewidth=2,markersize=8)\n",
    "ax2.tick_params(axis='y',labelcolor=color)\n",
    "ax3 = ax1.twinx()\n",
    "ax3.set_ylabel('Rice Production [tonnes]',color='blue',labelpad=20)\n",
    "ax3.plot(RiceProdChina2001.Year,RiceProdChina2001.Value,\n",
    "         color='blue',marker='o',linestyle='dashed',linewidth=2,markersize=8)\n",
    "ax3.tick_params(axis='y',labelcolor='blue')\n",
    "fig.tight_layout()  # otherwise the right y-label is slightly clipped\n",
    "plt.title('Production and agriculture orientation index time series in China')\n",
    "plt.show()"
   ]
  },
  {
   "cell_type": "code",
   "execution_count": null,
   "metadata": {},
   "outputs": [],
   "source": [
    "fig, ax1 = plt.subplots(figsize=(20,10))\n",
    "color = 'tab:red'\n",
    "ax1.set_xlabel('Year')\n",
    "ax1.set_ylabel('Wheat Production [tonnes]',color=color)\n",
    "ax1.plot(WheatProdSwitzerland2001.Year,WheatProdSwitzerland2001.Value,\n",
    "         color=color,marker='o',linestyle='dashed',linewidth=2,markersize=8)\n",
    "ax1.tick_params(axis='y',labelcolor=color)\n",
    "ax2 = ax1.twinx()  # instantiate a second axes that shares the same x-axis\n",
    "color = 'tab:green'\n",
    "ax2.set_ylabel('Agriculture Index',color=color)\n",
    "ax2.plot(GovAgriOriIndexSwitzerland.Year[0:14],GovAgriOriIndexSwitzerland.Value[0:14],\n",
    "         color=color,marker='o',linestyle='dashed',linewidth=2,markersize=8)\n",
    "ax2.tick_params(axis='y',labelcolor=color)\n",
    "ax3 = ax1.twinx()\n",
    "ax3.set_ylabel('Cereals Production [tonnes]',color='blue',labelpad=20)\n",
    "ax3.plot(CerealsProdSwiss2001.Year,CerealsProdSwiss2001.Value,\n",
    "         color='blue',marker='o',linestyle='dashed',linewidth=2,markersize=8)\n",
    "ax3.tick_params(axis='y',labelcolor='blue')\n",
    "fig.tight_layout()  # otherwise the right y-label is slightly clipped\n",
    "plt.title('Production (cereals and wheat) and agriculture orientation index time series in Switzerland')\n",
    "plt.show()"
   ]
  },
  {
   "cell_type": "markdown",
   "metadata": {},
   "source": [
    "### Comment \n",
    "We tried to look if we can directly see the correlation betweem government investment and main crops production. To do so, we looked at the production of main crops in India, China and Switzerland and compared it to the agriculture orientation index. As we can see on the above graphs, there is no net correlation."
   ]
  },
  {
   "cell_type": "code",
   "execution_count": null,
   "metadata": {},
   "outputs": [],
   "source": [
    "fig, ax1 = plt.subplots(figsize=(20,10))\n",
    "color = 'tab:red'\n",
    "ax1.set_xlabel('Year')\n",
    "ax1.set_ylabel('Central government investments in agriculture [millions US$]',color=color)\n",
    "ax1.plot(GovAgriInvestmentSwitzerlandCentral.Year,GovAgriInvestmentSwitzerlandCentral.Value,\n",
    "         color=color,marker='o',linestyle='dashed',linewidth=2,markersize=8)\n",
    "ax1.tick_params(axis='y',labelcolor=color)\n",
    "ax2 = ax1.twinx()  # instantiate a second axes that shares the same x-axis\n",
    "color = 'tab:green'\n",
    "ax2.set_ylabel('Gross fixed capital formation',color=color)\n",
    "ax2.plot(CapitalStockSwitzerland.Year,CapitalStockSwitzerland.Value,\n",
    "         color=color,marker='o',linestyle='dashed',linewidth=2,markersize=8)\n",
    "ax2.tick_params(axis='y',labelcolor=color)\n",
    "ax3 = ax1.twinx()\n",
    "ax3.set_ylabel('General government investments in agriculture [millions US$]',color='blue',labelpad=20)\n",
    "ax3.plot(GovAgriInvestmentSwitzerlandGeneral.Year,GovAgriInvestmentSwitzerlandGeneral.Value,\n",
    "         color='blue',marker='o',linestyle='dashed',linewidth=2,markersize=8)\n",
    "ax3.tick_params(axis='y',labelcolor='blue')\n",
    "fig.tight_layout()  # otherwise the right y-label is slightly clipped\n",
    "plt.title('Government investment and agriculture capital value in Switzerland')\n",
    "plt.show()"
   ]
  },
  {
   "cell_type": "markdown",
   "metadata": {},
   "source": [
    "### Comment\n",
    "This last graph shows time series of the swiss central and general government expenditures in the field of agriculture as well as the capital formation that comes from this sector. As can be seen, there is a direct correlation between government expenditures and the agriculture capital formation, except for 2009, where we have a glitch. This graph suggests that the government support is helpful in Switzerland."
   ]
  },
  {
   "cell_type": "markdown",
   "metadata": {},
   "source": [
    "### Conclusion\n",
    "Probably due to the high life and salary cost in Switrzerland, there is a remarkly higher ratio in investment to crop growth production (in terms of GDP). Indeed, the Swiss government invest 6 to 8 times more for the same relative result as compared to other country. Nevertheless, on the last plot we see a direct corelation between investment and agriculture capital growth. This indicates a consistent and valuable support from the country."
   ]
  },
  {
   "cell_type": "markdown",
   "metadata": {},
   "source": [
    "### Improvments\n",
    "We could try to compare the government and private sector investments in agriculture and see how this relates to crops production to see which sector is the most valuable to invest. "
   ]
  }
 ],
 "metadata": {
  "kernelspec": {
   "display_name": "Python 3",
   "language": "python",
   "name": "python3"
  },
  "language_info": {
   "codemirror_mode": {
    "name": "ipython",
    "version": 3
   },
   "file_extension": ".py",
   "mimetype": "text/x-python",
   "name": "python",
   "nbconvert_exporter": "python",
   "pygments_lexer": "ipython3",
   "version": "3.7.5"
  }
 },
 "nbformat": 4,
 "nbformat_minor": 4
}
