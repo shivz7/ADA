{
 "cells": [
  {
   "cell_type": "markdown",
   "metadata": {},
   "source": [
    "## Question 5\n",
    "This part of the notebook tries to answer the last question:\n",
    "\n",
    "### What is the ratio of country support/cost vs crop production in developed countries? Could we find other metrics to explain this support? Should we stop supporting farmers in Switzerland?"
   ]
  },
  {
   "cell_type": "code",
   "execution_count": null,
   "metadata": {},
   "outputs": [],
   "source": [
    "%matplotlib inline\n",
    "import pandas as pd\n",
    "import numpy as np\n",
    "import matplotlib.pyplot as plt"
   ]
  },
  {
   "cell_type": "code",
   "execution_count": null,
   "metadata": {},
   "outputs": [],
   "source": [
    "#Load data for all countries\n",
    "GovExpendituresAll = pd.read_csv('Data/Investment_GovernmentExpenditure_E_All_Data_(Normalized).csv',\n",
    "                                 sep=',',engine='python')\n",
    "CropsProdAll = pd.read_csv('Data/Production_Crops_E_All_Data_(Normalized).csv',\n",
    "                                 sep=',',engine='python')\n",
    "CapitalStockAll = pd.read_csv('Data/Investment_CapitalStock_E_All_Data_(Normalized).csv',\n",
    "                                 sep=',',engine='python')"
   ]
  },
  {
   "cell_type": "markdown",
   "metadata": {},
   "source": [
    "### Data pre-processing"
   ]
  },
  {
   "cell_type": "code",
   "execution_count": null,
   "metadata": {},
   "outputs": [],
   "source": [
    "GovAgriOriIndexAll = GovExpendituresAll.query('Element == \"Agriculture orientation index\"')\n",
    "GovAgriInvestmentAll = GovExpendituresAll.query('Element == \"Value US$\"')"
   ]
  },
  {
   "cell_type": "code",
   "execution_count": null,
   "metadata": {},
   "outputs": [],
   "source": [
    "GovAgriOriIndexIndia = GovAgriOriIndexAll.query('Area == \"India\"')\n",
    "GovAgriOriIndexItaly = GovAgriOriIndexAll.query('Area == \"China, mainland\"')\n",
    "GovAgriOriIndexChina = GovAgriOriIndexAll.query('Area == \"China, mainland\"')\n",
    "GovAgriOriIndexSwitzerland = GovAgriOriIndexAll.query('Area == \"Switzerland\"')\n",
    "GovAgriOriIndexFrance = GovAgriOriIndexAll.query('Area == \"France\"')\n",
    "GovAgriOriIndexUK = GovAgriOriIndexAll.query('Area == \"United Kingdom\"')"
   ]
  },
  {
   "cell_type": "code",
   "execution_count": null,
   "metadata": {},
   "outputs": [],
   "source": [
    "WheatProdIndia2001 = CropsProdAll.query('Area == \"India\" and Item == \"Wheat\" and Element == \"Production\" and Year > 2000')\n",
    "WheatProdChina2001 = CropsProdAll.query('Area == \"China, mainland\" and Item == \"Wheat\" and Element == \"Production\" and Year > 2000')\n",
    "WheatProdSwitzerland2001 = CropsProdAll.query('Area == \"Switzerland\" and Item == \"Wheat\" and Element == \"Production\" and Year > 2000')\n",
    "RiceProdIndia2001 = CropsProdAll.query('Area == \"India\" and Item == \"Rice, paddy\" and Element == \"Production\" and Year > 2000')\n",
    "RiceProdChina2001 = CropsProdAll.query('Area == \"China\" and Item == \"Rice, paddy\" and Element == \"Production\" and Year > 2000')\n",
    "CerealsProdSwiss2001 = CropsProdAll.query('Area == \"Switzerland\" and Item == \"Cereals,Total\" and Element == \"Production\" and Year > 2000')"
   ]
  },
  {
   "cell_type": "code",
   "execution_count": null,
   "metadata": {},
   "outputs": [],
   "source": [
    "GovAgriInvestmentSwitzerlandCentral = GovAgriInvestmentAll.query('Area == \"Switzerland\" and Item == \"Agriculture (Central Government)\"')\n",
    "GovAgriInvestmentSwitzerlandGeneral = GovAgriInvestmentAll.query('Area == \"Switzerland\" and Item == \"Agriculture (General Government)\"')\n",
    "CapitalStockSwitzerland = CapitalStockAll.query('Area == \"Switzerland\" and Element == \"Value US$\" and Item == \"Gross Fixed Capital Formation (Agriculture, Forestry and Fishing)\" and Year > 2000')"
   ]
  },
  {
   "cell_type": "markdown",
   "metadata": {},
   "source": [
    "### Data Exploration"
   ]
  },
  {
   "cell_type": "code",
   "execution_count": null,
   "metadata": {},
   "outputs": [],
   "source": [
    "fig, ax1 = plt.subplots(figsize=(20,10))\n",
    "ax1.set_xlabel('Year')\n",
    "ax1.set_ylabel('Government argiculture orientation index')\n",
    "ax1.plot(GovAgriOriIndexIndia.Year,GovAgriOriIndexIndia.Value,\n",
    "         color='red',marker='o',linestyle='dashed',linewidth=2,markersize=8,label='India')\n",
    "ax1.plot(GovAgriOriIndexChina.Year,GovAgriOriIndexChina.Value,\n",
    "         color='blue',marker='o',linestyle='dashed',linewidth=2,markersize=8,label='China')\n",
    "ax1.plot(GovAgriOriIndexItaly.Year,GovAgriOriIndexItaly.Value,\n",
    "         color='yellow',marker='o',linestyle='dashed',linewidth=2,markersize=8,label='Italy')\n",
    "ax1.plot(GovAgriOriIndexSwitzerland.Year,GovAgriOriIndexSwitzerland.Value,\n",
    "         color='green',marker='o',linestyle='dashed',linewidth=2,markersize=8,label='Switzerland')\n",
    "ax1.plot(GovAgriOriIndexFrance.Year,GovAgriOriIndexFrance.Value,\n",
    "         color='purple',marker='o',linestyle='dashed',linewidth=2,markersize=8,label='France')\n",
    "ax1.plot(GovAgriOriIndexUK.Year,GovAgriOriIndexUK.Value,\n",
    "         color='orange',marker='o',linestyle='dashed',linewidth=2,markersize=8,label='United Kingdom')\n",
    "fig.tight_layout()\n",
    "plt.title('Agriculture orientation index')\n",
    "plt.legend()\n",
    "plt.show()"
   ]
  },
  {
   "cell_type": "markdown",
   "metadata": {},
   "source": [
    "### Comment\n",
    "This first graph shows time series of the agriculture orientation index (AOI) for several developed countries. The AOI is defined as the ratio of the agriculture share of government expenditures and the agriculture share of gross domestic product (GDP). We can see that the agriculture orientation index is mush higher for Switzerland as compared to other typical developed countries. This would suggest that the swiss government invests mush more money for the same added value on agricultural production. "
   ]
  },
  {
   "cell_type": "code",
   "execution_count": null,
   "metadata": {},
   "outputs": [],
   "source": [
    "fig, ax1 = plt.subplots(figsize=(20,10))\n",
    "color = 'tab:red'\n",
    "ax1.set_xlabel('Year')\n",
    "ax1.set_ylabel('Wheat Production [tonnes]',color=color)\n",
    "ax1.plot(WheatProdIndia2001.Year,WheatProdIndia2001.Value,\n",
    "         color=color,marker='o',linestyle='dashed',linewidth=2,markersize=8)\n",
    "ax1.tick_params(axis='y',labelcolor=color)\n",
    "ax2 = ax1.twinx()  # instantiate a second axes that shares the same x-axis\n",
    "color = 'tab:green'\n",
    "ax2.set_ylabel('Agriculture Index',color=color)\n",
    "ax2.plot(GovAgriOriIndexIndia.Year[0:14],GovAgriOriIndexIndia.Value[0:14],\n",
    "         color=color,marker='o',linestyle='dashed',linewidth=2,markersize=8)\n",
    "ax2.tick_params(axis='y',labelcolor=color)\n",
    "ax3 = ax1.twinx()\n",
    "ax3.set_ylabel('Rice Production [tonnes]',color='blue',labelpad=20)\n",
    "ax3.plot(RiceProdIndia2001.Year,RiceProdIndia2001.Value,\n",
    "         color='blue',marker='o',linestyle='dashed',linewidth=2,markersize=8)\n",
    "ax3.tick_params(axis='y',labelcolor='blue')\n",
    "fig.tight_layout()  # otherwise the right y-label is slightly clipped\n",
    "plt.title('Production and agriculture orientation index time series in India')\n",
    "plt.show()"
   ]
  },
  {
   "cell_type": "code",
   "execution_count": null,
   "metadata": {},
   "outputs": [],
   "source": [
    "fig, ax1 = plt.subplots(figsize=(20,10))\n",
    "color = 'tab:red'\n",
    "ax1.set_xlabel('Year')\n",
    "ax1.set_ylabel('Wheat Production [tonnes]',color=color)\n",
    "ax1.plot(WheatProdChina2001.Year,WheatProdChina2001.Value,\n",
    "         color=color,marker='o',linestyle='dashed',linewidth=2,markersize=8)\n",
    "ax1.tick_params(axis='y',labelcolor=color)\n",
    "ax2 = ax1.twinx()  # instantiate a second axes that shares the same x-axis\n",
    "color = 'tab:green'\n",
    "ax2.set_ylabel('Agriculture Index',color=color)\n",
    "ax2.plot(GovAgriOriIndexChina.Year[0:8],GovAgriOriIndexChina.Value[0:8],\n",
    "         color=color,marker='o',linestyle='dashed',linewidth=2,markersize=8)\n",
    "ax2.tick_params(axis='y',labelcolor=color)\n",
    "ax3 = ax1.twinx()\n",
    "ax3.set_ylabel('Rice Production [tonnes]',color='blue',labelpad=20)\n",
    "ax3.plot(RiceProdChina2001.Year,RiceProdChina2001.Value,\n",
    "         color='blue',marker='o',linestyle='dashed',linewidth=2,markersize=8)\n",
    "ax3.tick_params(axis='y',labelcolor='blue')\n",
    "fig.tight_layout()  # otherwise the right y-label is slightly clipped\n",
    "plt.title('Production and agriculture orientation index time series in China')\n",
    "plt.show()"
   ]
  },
  {
   "cell_type": "code",
   "execution_count": null,
   "metadata": {},
   "outputs": [],
   "source": [
    "fig, ax1 = plt.subplots(figsize=(20,10))\n",
    "color = 'tab:red'\n",
    "ax1.set_xlabel('Year')\n",
    "ax1.set_ylabel('Wheat Production [tonnes]',color=color)\n",
    "ax1.plot(WheatProdSwitzerland2001.Year,WheatProdSwitzerland2001.Value,\n",
    "         color=color,marker='o',linestyle='dashed',linewidth=2,markersize=8)\n",
    "ax1.tick_params(axis='y',labelcolor=color)\n",
    "ax2 = ax1.twinx()  # instantiate a second axes that shares the same x-axis\n",
    "color = 'tab:green'\n",
    "ax2.set_ylabel('Agriculture Index',color=color)\n",
    "ax2.plot(GovAgriOriIndexSwitzerland.Year[0:14],GovAgriOriIndexSwitzerland.Value[0:14],\n",
    "         color=color,marker='o',linestyle='dashed',linewidth=2,markersize=8)\n",
    "ax2.tick_params(axis='y',labelcolor=color)\n",
    "ax3 = ax1.twinx()\n",
    "ax3.set_ylabel('Cereals Production [tonnes]',color='blue',labelpad=20)\n",
    "ax3.plot(CerealsProdSwiss2001.Year,CerealsProdSwiss2001.Value,\n",
    "         color='blue',marker='o',linestyle='dashed',linewidth=2,markersize=8)\n",
    "ax3.tick_params(axis='y',labelcolor='blue')\n",
    "fig.tight_layout()  # otherwise the right y-label is slightly clipped\n",
    "plt.title('Production (cereals and wheat) and agriculture orientation index time series in Switzerland')\n",
    "plt.show()"
   ]
  },
  {
   "cell_type": "markdown",
   "metadata": {},
   "source": [
    "### Comment \n",
    "We tried to look if we can directly see the correlation betweem government investment and main crops production. To do so, we looked at the production of main crops in India, China and Switzerland and compared it to the agriculture orientation index. As we can see on the above graphs, there is no net correlation."
   ]
  },
  {
   "cell_type": "code",
   "execution_count": null,
   "metadata": {},
   "outputs": [],
   "source": [
    "fig, ax1 = plt.subplots(figsize=(20,10))\n",
    "color = 'tab:red'\n",
    "ax1.set_xlabel('Year')\n",
    "ax1.set_ylabel('Central government investments in agriculture [millions US$]',color=color)\n",
    "ax1.plot(GovAgriInvestmentSwitzerlandCentral.Year,GovAgriInvestmentSwitzerlandCentral.Value,\n",
    "         color=color,marker='o',linestyle='dashed',linewidth=2,markersize=8)\n",
    "ax1.tick_params(axis='y',labelcolor=color)\n",
    "ax2 = ax1.twinx()  # instantiate a second axes that shares the same x-axis\n",
    "color = 'tab:green'\n",
    "ax2.set_ylabel('Gross fixed capital formation',color=color)\n",
    "ax2.plot(CapitalStockSwitzerland.Year,CapitalStockSwitzerland.Value,\n",
    "         color=color,marker='o',linestyle='dashed',linewidth=2,markersize=8)\n",
    "ax2.tick_params(axis='y',labelcolor=color)\n",
    "ax3 = ax1.twinx()\n",
    "ax3.set_ylabel('General government investments in agriculture [millions US$]',color='blue',labelpad=20)\n",
    "ax3.plot(GovAgriInvestmentSwitzerlandGeneral.Year,GovAgriInvestmentSwitzerlandGeneral.Value,\n",
    "         color='blue',marker='o',linestyle='dashed',linewidth=2,markersize=8)\n",
    "ax3.tick_params(axis='y',labelcolor='blue')\n",
    "fig.tight_layout()  # otherwise the right y-label is slightly clipped\n",
    "plt.title('Government investment and agriculture capital value in Switzerland')\n",
    "plt.show()"
   ]
  },
  {
   "cell_type": "markdown",
   "metadata": {},
   "source": [
    "### Comment\n",
    "This last graph shows time series of the swiss central and general government expenditures in the field of agriculture as well as the capital formation that comes from this sector. As can be seen, there is a direct correlation between government expenditures and the agriculture capital formation, except for 2009, where we have a glitch. This graph suggests that the government support is helpful in Switzerland."
   ]
  },
  {
   "cell_type": "markdown",
   "metadata": {},
   "source": [
    "### Conclusion\n",
    "Probably due to the high life and salary cost in Switrzerland, there is a remarkly higher ratio in investment to crop growth production (in terms of GDP). Indeed, the Swiss government invest 6 to 8 times more for the same relative result as compared to other country. Nevertheless, on the last plot we see a direct corelation between investment and agriculture capital growth. This indicates a consistent and valuable support from the country."
   ]
  },
  {
   "cell_type": "markdown",
   "metadata": {},
   "source": [
    "### Improvments\n",
    "We could try to compare the government and private sector investments in agriculture and see how this relates to crops production to see which sector is the most valuable to invest. "
   ]
  },
  {
   "cell_type": "code",
   "execution_count": null,
   "metadata": {},
   "outputs": [],
   "source": []
  }
 ],
 "metadata": {
  "kernelspec": {
   "display_name": "Python 3",
   "language": "python",
   "name": "python3"
  },
  "language_info": {
   "codemirror_mode": {
    "name": "ipython",
    "version": 3
   },
   "file_extension": ".py",
   "mimetype": "text/x-python",
   "name": "python",
   "nbconvert_exporter": "python",
   "pygments_lexer": "ipython3",
   "version": "3.7.4"
  }
 },
 "nbformat": 4,
 "nbformat_minor": 4
}
