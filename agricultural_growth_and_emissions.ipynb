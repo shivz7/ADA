{
 "cells": [
  {
   "cell_type": "markdown",
   "metadata": {},
   "source": [
    "## Question 1\n",
    "\n",
    "### Could we find and support a correlation between greenhouse gas emissions and agricultural growth? Could we also assess the influence of the type of culture on the emissions?"
   ]
  },
  {
   "cell_type": "code",
   "execution_count": null,
   "metadata": {},
   "outputs": [],
   "source": [
    "%matplotlib inline\n",
    "import pandas as pd\n",
    "import numpy as np\n",
    "import re\n",
    "from matplotlib.ticker import MaxNLocator\n",
    "import matplotlib.pyplot as plt\n",
    "import requests\n",
    "from bs4 import BeautifulSoup\n",
    "import statsmodels\n",
    "import folium\n",
    "import math\n",
    "\n",
    "# Custom imports\n",
    "from ipywidgets import IntProgress\n",
    "from IPython.display import display\n",
    "import time\n",
    "from multiprocessing import Pool, Lock\n",
    "import os\n",
    "import json\n",
    "import seaborn as sns\n",
    "import time\n",
    "\n",
    "from sklearn.linear_model import LinearRegression, LogisticRegression, Ridge\n",
    "from sklearn.preprocessing import OneHotEncoder\n",
    "from sklearn.decomposition import PCA\n",
    "from sklearn.model_selection import cross_val_predict\n",
    "from sklearn.model_selection import cross_val_score\n",
    "from sklearn.metrics import mean_squared_error\n",
    "from sklearn.pipeline import Pipeline\n",
    "from sklearn.preprocessing   import StandardScaler"
   ]
  },
  {
   "cell_type": "markdown",
   "metadata": {},
   "source": [
    "## Importing the data\n",
    "\n",
    "In order to find a model that helps in the understanding of the role of the variety of crops in the ecological influence of the agriculture, we need 3 datasets:\n",
    "\n",
    "- The land usage\n",
    "- The crops cultures\n",
    "- The emissions related to the agriculture\n"
   ]
  },
  {
   "cell_type": "code",
   "execution_count": null,
   "metadata": {},
   "outputs": [],
   "source": [
    "dataLands = pd.read_csv(\"./data/fao_data_land_data.csv\")\n",
    "\n",
    "dataCrops = pd.read_csv(\"./data/fao_data_crops_data.csv\")\n",
    "\n",
    "dataEmissions = pd.read_csv(\"./data/current_FAO/raw_files/Environment_Emissions_by_Sector_E_All_Data_(Normalized).csv\", encoding=\"cp1252\")"
   ]
  },
  {
   "cell_type": "markdown",
   "metadata": {},
   "source": [
    "## Cleaning\n",
    "\n",
    "- Removing NAN\n",
    "- Removing useless columns"
   ]
  },
  {
   "cell_type": "code",
   "execution_count": null,
   "metadata": {},
   "outputs": [],
   "source": [
    "dataLands = dataLands.dropna(subset=[\"element\"])\n",
    "\n",
    "dataCrops = dataCrops.dropna(subset=[\"element\"])\n",
    "\n",
    "dataEmissionsAgriculture = dataEmissions.where(dataEmissions[\"Item\"] == \"Agriculture total\").where(dataEmissions[\"Element\"] == \"Emissions (CO2eq)\").dropna()\n",
    "dataEmissionsAgriculture = dataEmissionsAgriculture.drop([\"Item\", \"Element Code\", \"Element\", \"Item Code\", \"Year Code\", \"Flag\"], axis=1)\\\n",
    "                                                    .rename(columns={\"Unit\":\"Unit emissions\",\"Value\":\"Value emissions\"})"
   ]
  },
  {
   "cell_type": "markdown",
   "metadata": {},
   "source": [
    "Here is a graph that shows the progression of land usage within each continent."
   ]
  },
  {
   "cell_type": "code",
   "execution_count": null,
   "metadata": {},
   "outputs": [],
   "source": [
    "def cond_countries(dataLands):\n",
    "    countries = [\"Asia +\",\"Europe +\", \"Americas +\", \"Oceania +\", \"Africa +\"]\n",
    "    truthTable = (dataLands[\"country_or_area\"] == countries[0])\n",
    "    for c in countries:\n",
    "        truthTable = (dataLands[\"country_or_area\"] == c) | truthTable\n",
    "    return truthTable\n",
    "\n",
    "dataLandsContinent = dataLands.where(dataLands[\"category\"] == \"agricultural_area\")\\\n",
    "                                .where(cond_countries(dataLands))\\\n",
    "                                .dropna(subset=[\"country_or_area\"])\\\n",
    "                                .sort_values(\"value\",ascending=False)\n",
    "\n",
    "sns.set(style=\"darkgrid\")\n",
    "\n",
    "fg = plt.figure(figsize=(20,20))\n",
    "axes = fg.add_subplot()\n",
    "# Plot the responses for different events and regions\n",
    "sns.lineplot(x=\"year\", y=\"value\", style=\"country_or_area\", data=dataLandsContinent, hue=\"country_or_area\", ax=axes)\n",
    "\n",
    "fg.show()"
   ]
  },
  {
   "cell_type": "markdown",
   "metadata": {},
   "source": [
    "Here are the emissions of the BRICS throughout the years. We can see a clear progression (except for South Africa)."
   ]
  },
  {
   "cell_type": "code",
   "execution_count": null,
   "metadata": {},
   "outputs": [],
   "source": [
    "sns.set(style=\"darkgrid\")\n",
    "\n",
    "dataEmissionsAgrContinent = dataEmissionsAgriculture.where(dataEmissionsAgriculture[\"Area\"].isin([\"South Africa\",\"Brazil\", \"China\", \"India\", \"USSR\",\"Russian Federation\"])).dropna()\n",
    "\n",
    "fg = plt.figure(figsize=(20,20))\n",
    "axes = fg.add_subplot()\n",
    "# Plot the responses for different events and regions\n",
    "sns.lineplot(x=\"Year\", y=\"Value emissions\", style=\"Area\", data=dataEmissionsAgrContinent, hue=\"Area\", ax=axes)\n",
    "\n",
    "fg.show()"
   ]
  },
  {
   "cell_type": "markdown",
   "metadata": {},
   "source": [
    "## Creating the dataset for processing\n",
    "\n",
    "The dataset we create for processing consist in the aggregation of the area harvested of for each crop, by year and by country, and the emissions of greenhouse gases by year and by country as well. The goal will be to find a model that explain and helps in predicting the emissions, based on the other features (country, year and crops)."
   ]
  },
  {
   "cell_type": "code",
   "execution_count": null,
   "metadata": {},
   "outputs": [],
   "source": [
    "cropsAndEmissions = dataCrops.drop([\"element_code\"], axis=1)\\\n",
    "                                .where(dataCrops[\"element\"] == \"Area Harvested\")\\\n",
    "                                .dropna(subset=[\"element\"])\\\n",
    "                                .drop([\"element\", \"value_footnotes\"],axis=1)\\\n",
    "                                .rename(columns={\"unit\":\"Unit area\", \"value\":\"Value area\", \"year\":\"Year\",\"country_or_area\":\"Area\"})\n",
    "#                                .where(dataCrops[\"country_or_area\"] == \"World +\")\\\n",
    "cropsAndEmissions = cropsAndEmissions.pivot_table(values='Value area',index=[\"Area\",\"Year\"],columns=\"category\").reset_index()\n",
    "cropsAndEmissions = cropsAndEmissions.fillna(0)\n",
    "cropsAndEmissions = pd.merge(cropsAndEmissions, dataEmissionsAgriculture, how=\"left\", on=['Area',\"Year\"])#.dropna(subset=[\"Value area\", \"Value emissions\"])\n",
    "cropsAndEmissions = cropsAndEmissions.dropna().dropna(subset=[\"Unit emissions\"])\n",
    "cropsAndEmissions"
   ]
  },
  {
   "cell_type": "markdown",
   "metadata": {},
   "source": [
    "## Learning to predict emissions\n",
    "\n",
    "Here, we try to create a model by doing a logistic regression on the data. We first try to optimize the alpha parameter on a predefined interval and then we use it to train the model."
   ]
  },
  {
   "cell_type": "code",
   "execution_count": null,
   "metadata": {},
   "outputs": [],
   "source": [
    "SEED = 1\n",
    "st_pipeline = Pipeline([('scl', StandardScaler()), ('ridge', Ridge(copy_X=True, random_state=SEED))])\n",
    "st_pipeline\n",
    "\n",
    "#features = [\"Area\",\"category\"]\n",
    "\n",
    "XRidge2 = pd.get_dummies(cropsAndEmissions.drop([\"Area Code\",\"Unit emissions\", \"Value emissions\"], axis=1))\n",
    "yRidge2 = cropsAndEmissions[\"Value emissions\"]\n",
    "\n",
    "results = []\n",
    "\n",
    "# Tune for alpha using 10 fold crossvalidation when calculating the mean squared error.\n",
    "for alpha in np.linspace(-100, 100, 32):\n",
    "    st_pipeline.set_params(ridge__alpha= alpha) \n",
    "    neg_MSE = cross_val_score(st_pipeline, XRidge2, yRidge2, scoring='neg_mean_squared_error', cv=10)  # we use 10 folds crossvalidation since 10 \n",
    "                                                                                                      # is pretty much standard in the industry\n",
    "    results.append([neg_MSE, alpha])\n",
    "    \n",
    "# Take the mean MSE for each level of alpha\n",
    "for i in range(len(results)):\n",
    "    results[i][0] = -np.mean(results[i][0])\n",
    "    \n",
    "# Plot the results\n",
    "plt.figure(figsize=(20,20))\n",
    "plt.plot([row[1] for row in results], [row[0] for row in results])\n",
    "plt.xlabel('alpha')\n",
    "plt.ylabel('MSE')\n",
    "plt.title('Tuning alpha');\n",
    "plt.grid()\n",
    "\n",
    "best_st_alpha = min(results)[1]\n",
    "print('Best alpha is', best_st_alpha, 'with a MSE of', min(results)[0],'.')"
   ]
  },
  {
   "cell_type": "code",
   "execution_count": null,
   "metadata": {},
   "outputs": [],
   "source": [
    "st_Model = st_pipeline.set_params(ridge__alpha= best_st_alpha)  # use best alpha calculated above\n",
    "st_Model.fit(XRidge2, yRidge2)                                  # fit the new model"
   ]
  },
  {
   "cell_type": "code",
   "execution_count": null,
   "metadata": {},
   "outputs": [],
   "source": [
    "#st_Model.named_steps[\"ridge\"].coef_\n",
    "pd.DataFrame([XRidge2.columns,st_Model.named_steps[\"ridge\"].coef_]).transpose().sort_values(1)"
   ]
  },
  {
   "cell_type": "markdown",
   "metadata": {},
   "source": [
    "Further analysis will be conducted in order to create efficient predictions. This first analysis already gave us clear insight of the data and helps us in assessing the feasability of this research.\n",
    "\n",
    "## Plan\n",
    "\n",
    "The next steps will be :\n",
    "\n",
    "- Visualize the output of the model and its relation to reality.\n",
    "- Try new models and assess their performances.\n",
    "- Make predictions on the future using these regressions.\n",
    "- Extract guidelines that could help in reducing emissions in the future, based on these data.\n",
    "- Criticize these guidelines and the predictions using more domain-related knowledge."
   ]
  },
  {
   "cell_type": "code",
   "execution_count": null,
   "metadata": {},
   "outputs": [],
   "source": []
  }
 ],
 "metadata": {
  "kernelspec": {
   "display_name": "Python 3",
   "language": "python",
   "name": "python3"
  },
  "language_info": {
   "codemirror_mode": {
    "name": "ipython",
    "version": 3
   },
   "file_extension": ".py",
   "mimetype": "text/x-python",
   "name": "python",
   "nbconvert_exporter": "python",
   "pygments_lexer": "ipython3",
   "version": "3.7.4"
  }
 },
 "nbformat": 4,
 "nbformat_minor": 4
}
