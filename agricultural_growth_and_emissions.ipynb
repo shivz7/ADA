{
 "cells": [
  {
   "cell_type": "markdown",
   "metadata": {},
   "source": [
    "## Question 1\n",
    "\n",
    "### Could we find and support a correlation between greenhouse gas emissions and agricultural growth? Could we also assess the influence of the type of culture on the emissions?"
   ]
  },
  {
   "cell_type": "code",
   "execution_count": null,
   "metadata": {},
   "outputs": [],
   "source": [
    "%matplotlib inline\n",
    "import pandas as pd\n",
    "import numpy as np\n",
    "import re\n",
    "from matplotlib.ticker import MaxNLocator\n",
    "import matplotlib.pyplot as plt\n",
    "import requests\n",
    "from bs4 import BeautifulSoup\n",
    "import statsmodels\n",
    "import folium\n",
    "import math\n",
    "\n",
    "# Custom imports\n",
    "from ipywidgets import IntProgress\n",
    "from IPython.display import display\n",
    "import time\n",
    "from multiprocessing import Pool, Lock\n",
    "import os\n",
    "import json\n",
    "import seaborn as sns\n",
    "import time\n",
    "\n",
    "from sklearn.linear_model import LinearRegression, LogisticRegression, Ridge\n",
    "from sklearn.preprocessing import OneHotEncoder\n",
    "from sklearn.decomposition import PCA\n",
    "from sklearn.model_selection import cross_val_predict\n",
    "from sklearn.model_selection import cross_val_score\n",
    "from sklearn.metrics import mean_squared_error\n",
    "from sklearn.pipeline import Pipeline\n",
    "from sklearn.preprocessing   import StandardScaler"
   ]
  },
  {
   "cell_type": "markdown",
   "metadata": {},
   "source": [
    "## Importing the data\n",
    "\n",
    "In order to find a model that helps in the understanding of the role of the variety of crops in the ecological influence of the agriculture, we need 3 datasets:\n",
    "\n",
    "- The land usage\n",
    "- The crops cultures\n",
    "- The emissions related to the agriculture\n"
   ]
  },
  {
   "cell_type": "code",
   "execution_count": null,
   "metadata": {},
   "outputs": [],
   "source": [
    "dataLands = pd.read_csv(\"./data/fao_data_land_data.csv\")\n",
    "\n",
    "dataCrops = pd.read_csv(\"./data/fao_data_crops_data.csv\")\n",
    "\n",
    "dataEmissions = pd.read_csv(\"./data/current_FAO/raw_files/Environment_Emissions_by_Sector_E_All_Data_(Normalized).csv\", encoding=\"cp1252\")"
   ]
  },
  {
   "cell_type": "markdown",
   "metadata": {},
   "source": [
    "## Cleaning\n",
    "\n",
    "- Removing NAN\n",
    "- Removing useless columns"
   ]
  },
  {
   "cell_type": "code",
   "execution_count": null,
   "metadata": {},
   "outputs": [],
   "source": [
    "dataLands = dataLands.dropna(subset=[\"element\"])\n",
    "\n",
    "dataCrops = dataCrops.dropna(subset=[\"element\"])\n",
    "\n",
    "dataEmissionsAgriculture = dataEmissions.where(dataEmissions[\"Item\"] == \"Agriculture total\").where(dataEmissions[\"Element\"] == \"Emissions (CO2eq)\").dropna()\n",
    "dataEmissionsAgriculture = dataEmissionsAgriculture.drop([\"Item\", \"Element Code\", \"Element\", \"Item Code\", \"Year Code\", \"Flag\"], axis=1)\\\n",
    "                                                    .rename(columns={\"Unit\":\"Unit emissions\",\"Value\":\"Value emissions\"})"
   ]
  },
  {
   "cell_type": "markdown",
   "metadata": {},
   "source": [
    "Here is a graph that shows the progression of land usage within each continent."
   ]
  },
  {
   "cell_type": "code",
   "execution_count": null,
   "metadata": {},
   "outputs": [],
   "source": [
    "def cond_countries(dataLands):\n",
    "    countries = [\"Asia +\",\"Europe +\", \"Americas +\", \"Oceania +\", \"Africa +\"]\n",
    "    truthTable = (dataLands[\"country_or_area\"] == countries[0])\n",
    "    for c in countries:\n",
    "        truthTable = (dataLands[\"country_or_area\"] == c) | truthTable\n",
    "    return truthTable\n",
    "\n",
    "dataLandsContinent = dataLands.where(dataLands[\"category\"] == \"agricultural_area\")\\\n",
    "                                .where(cond_countries(dataLands))\\\n",
    "                                .dropna(subset=[\"country_or_area\"])\\\n",
    "                                .sort_values(\"value\",ascending=False)\n",
    "\n",
    "sns.set(style=\"darkgrid\")\n",
    "\n",
    "fg = plt.figure(figsize=(20,20))\n",
    "axes = fg.add_subplot()\n",
    "# Plot the responses for different events and regions\n",
    "sns.lineplot(x=\"year\", y=\"value\", style=\"country_or_area\", data=dataLandsContinent, hue=\"country_or_area\", ax=axes)\n",
    "\n",
    "fg.show()"
   ]
  },
  {
   "cell_type": "markdown",
   "metadata": {},
   "source": [
    "Here are the emissions of the BRICS throughout the years. We can see a clear progression (except for South Africa)."
   ]
  },
  {
   "cell_type": "code",
   "execution_count": null,
   "metadata": {},
   "outputs": [],
   "source": [
    "sns.set(style=\"darkgrid\")\n",
    "\n",
    "dataEmissionsAgrContinent = dataEmissionsAgriculture.where(dataEmissionsAgriculture[\"Area\"].isin([\"South Africa\",\"Brazil\", \"China\", \"India\", \"USSR\",\"Russian Federation\"])).dropna()\n",
    "\n",
    "fg = plt.figure(figsize=(20,20))\n",
    "axes = fg.add_subplot()\n",
    "# Plot the responses for different events and regions\n",
    "sns.lineplot(x=\"Year\", y=\"Value emissions\", style=\"Area\", data=dataEmissionsAgrContinent, hue=\"Area\", ax=axes)\n",
    "\n",
    "fg.show()"
   ]
  },
  {
   "cell_type": "markdown",
   "metadata": {},
   "source": [
    "## Creating the dataset for processing\n",
    "\n",
    "The dataset we create for processing consist in the aggregation of the area harvested of for each crop, by year and by country, and the emissions of greenhouse gases by year and by country as well. The goal will be to find a model that explain and helps in predicting the emissions, based on the other features (country, year and crops)."
   ]
  },
  {
   "cell_type": "code",
   "execution_count": null,
   "metadata": {},
   "outputs": [],
   "source": [
    "cropsAndEmissions = dataCrops.drop([\"element_code\"], axis=1)\\\n",
    "                                .where(dataCrops[\"element\"] == \"Area Harvested\")\\\n",
    "                                .dropna(subset=[\"element\"])\\\n",
    "                                .drop([\"element\", \"value_footnotes\"],axis=1)\\\n",
    "                                .rename(columns={\"unit\":\"Unit area\", \"value\":\"Value area\", \"year\":\"Year\",\"country_or_area\":\"Area\"})\n",
    "#                                .where(dataCrops[\"country_or_area\"] == \"World +\")\\\n",
    "cropsAndEmissions = cropsAndEmissions.pivot_table(values='Value area',index=[\"Area\",\"Year\"],columns=\"category\").reset_index()\n",
    "cropsAndEmissions = cropsAndEmissions.fillna(0)\n",
    "cropsAndEmissions = pd.merge(cropsAndEmissions, dataEmissionsAgriculture, how=\"left\", on=['Area',\"Year\"])#.dropna(subset=[\"Value area\", \"Value emissions\"])\n",
    "cropsAndEmissions = cropsAndEmissions.dropna().dropna(subset=[\"Unit emissions\"])\n",
    "cropsAndEmissions"
   ]
  },
  {
   "cell_type": "markdown",
   "metadata": {},
   "source": [
    "## Learning to predict emissions\n",
    "\n",
    "Here, we try to create a model by doing a logistic regression on the data. We first try to optimize the alpha parameter on a predefined interval and then we use it to train the model."
   ]
  },
  {
   "cell_type": "code",
   "execution_count": null,
   "metadata": {},
   "outputs": [],
   "source": [
    "SEED = 1\n",
    "st_pipeline = Pipeline([('scl', StandardScaler()), ('ridge', Ridge(copy_X=True, random_state=SEED))])\n",
    "st_pipeline\n",
    "\n",
    "#features = [\"Area\",\"category\"]\n",
    "\n",
    "XRidge2 = pd.get_dummies(cropsAndEmissions.drop([\"Area Code\",\"Unit emissions\", \"Value emissions\"], axis=1))\n",
    "yRidge2 = cropsAndEmissions[\"Value emissions\"]\n",
    "\n",
    "results = []\n",
    "\n",
    "# Tune for alpha using 10 fold crossvalidation when calculating the mean squared error.\n",
    "for alpha in np.linspace(-100, 100, 32):\n",
    "    st_pipeline.set_params(ridge__alpha= alpha) \n",
    "    neg_MSE = cross_val_score(st_pipeline, XRidge2, yRidge2, scoring='neg_mean_squared_error', cv=10)  # we use 10 folds crossvalidation since 10 \n",
    "                                                                                                      # is pretty much standard in the industry\n",
    "    results.append([neg_MSE, alpha])\n",
    "    \n",
    "# Take the mean MSE for each level of alpha\n",
    "for i in range(len(results)):\n",
    "    results[i][0] = -np.mean(results[i][0])\n",
    "    \n",
    "# Plot the results\n",
    "plt.figure(figsize=(20,20))\n",
    "plt.plot([row[1] for row in results], [row[0] for row in results])\n",
    "plt.xlabel('alpha')\n",
    "plt.ylabel('MSE')\n",
    "plt.title('Tuning alpha');\n",
    "plt.grid()\n",
    "\n",
    "best_st_alpha = min(results)[1]\n",
    "print('Best alpha is', best_st_alpha, 'with a MSE of', min(results)[0],'.')"
   ]
  },
  {
   "cell_type": "code",
   "execution_count": null,
   "metadata": {},
   "outputs": [],
   "source": [
    "st_Model = st_pipeline.set_params(ridge__alpha= best_st_alpha)  # use best alpha calculated above\n",
    "st_Model.fit(XRidge2, yRidge2)                                  # fit the new model"
   ]
  },
  {
   "cell_type": "code",
   "execution_count": null,
   "metadata": {},
   "outputs": [],
   "source": [
    "#st_Model.named_steps[\"ridge\"].coef_\n",
    "pd.DataFrame([XRidge2.columns,st_Model.named_steps[\"ridge\"].coef_]).transpose().sort_values(1)"
   ]
  },
  {
   "cell_type": "markdown",
   "metadata": {},
   "source": [
    "Further analysis will be conducted in order to create efficient predictions. This first analysis already gave us clear insight of the data and helps us in assessing the feasability of this research.\n",
    "\n",
    "## Plan\n",
    "\n",
    "The next steps will be :\n",
    "\n",
    "- Visualize the output of the model and its relation to reality.\n",
    "- Try new models and assess their performances.\n",
    "- Make predictions on the future using these regressions.\n",
    "- Extract guidelines that could help in reducing emissions in the future, based on these data.\n",
    "- Criticize these guidelines and the predictions using more domain-related knowledge."
   ]
  },
  {
   "cell_type": "code",
   "execution_count": null,
   "metadata": {},
   "outputs": [],
   "source": [
    "import pandas as pd\n",
    "import numpy as np\n",
    "import seaborn as sns\n",
    "import matplotlib.pylab as plt\n",
    "from scipy import stats"
   ]
  },
  {
   "cell_type": "code",
   "execution_count": null,
   "metadata": {},
   "outputs": [],
   "source": [
    "%matplotlib inline"
   ]
  },
  {
   "cell_type": "markdown",
   "metadata": {},
   "source": [
    "## Question 4\n",
    "\n",
    "Is the temporal evolution of agricultural land always correlated with the temporal evolution of the quantity of fertilizers used (and waste emission) or there’s some point in time where this trend slows or reverses for some countries?"
   ]
  },
  {
   "cell_type": "markdown",
   "metadata": {},
   "source": [
    "#### DATA PREPROCESSING"
   ]
  },
  {
   "cell_type": "code",
   "execution_count": null,
   "metadata": {},
   "outputs": [],
   "source": [
    "#Gettinge Merge Fertilisant df\n",
    "\n",
    "Fertdf=pd.read_csv('data/Inputs_FertilizersNutrient_E_All_Data.csv', sep=',',engine='python')\n",
    "colnames = ['Area','Item','Element','Y2002','Y2003','Y2004','Y2005','Y2006','Y2007','Y2008','Y2009','Y2010','Y2011','Y2012','Y2013',\n",
    "              'Y2014','Y2015','Y2016','Y2017']\n",
    "Newdf = Fertdf[colnames]\n",
    "display(Newdf.head())\n",
    "\n",
    "Newdf = Newdf[Newdf.Element=='Agricultural Use']\n",
    "Newdf.columns = Newdf.columns.str.replace('Y','')\n",
    "Meltdf = pd.melt(Newdf, id_vars=['Area','Item','Element'], var_name='Year', value_name='Value').copy()\n",
    "Meltdf.head()"
   ]
  },
  {
   "cell_type": "code",
   "execution_count": null,
   "metadata": {},
   "outputs": [],
   "source": [
    "#Meltdf.Year = Meltdf.Year.str.replace('Y','')\n",
    "Meltdf.Year = Meltdf.Year.astype('int64')\n",
    "\n",
    "# split fertilisers, take nitrogen\n",
    "colnitrogen = Meltdf[Meltdf.Item=='Nutrient nitrogen N (total)']\n",
    "colnitrogen = colnitrogen[['Area','Year','Value']]\n",
    "colnitrogen.columns=['Area','Year','NitrogenUse']\n",
    "colnitrogen = colnitrogen.set_index(['Area','Year'])\n",
    "\n",
    "# take phosphate\n",
    "colpho = Meltdf[Meltdf.Item=='Nutrient phosphate P2O5 (total)']\n",
    "colpho = colpho[['Area','Year','Value']]\n",
    "colpho.columns=['Area','Year','PhosphateUse']\n",
    "colpho = colpho.set_index(['Area','Year'])\n",
    "\n",
    "# take potash\n",
    "colpot = Meltdf[Meltdf.Item=='Nutrient potash K2O (total)']\n",
    "colpot = colpot[['Area','Year','Value']]\n",
    "colpot.columns=['Area','Year','PotashUse']\n",
    "colpot = colpot.set_index(['Area','Year'])\n",
    "\n",
    "# merge all\n",
    "tmp = pd.merge(colnitrogen,colpho, left_index=True,right_index=True)\n",
    "mergeFert = tmp.merge(colpot, left_index=True,right_index=True)\n",
    "mergeFert.head()"
   ]
  },
  {
   "cell_type": "code",
   "execution_count": null,
   "metadata": {},
   "outputs": [],
   "source": [
    "#Getting Production data\n",
    "df = pd.read_csv('data/current_FAO/raw_files/Production_Crops_E_All_Data_(Normalized).csv', sep=',',engine='python')\n",
    "Proddf = df[df.Element=='Production']\n",
    "Proddf = Proddf[['Area','Item','Year','Value']]\n",
    "Proddf.columns = ['Area','Item','Year','Production']\n",
    "display(Proddf.head(3))\n",
    "\n",
    "#Building harvesting data\n",
    "AreaHarvdf = df[df.Element=='Area harvested']\n",
    "AreaHarvdf = AreaHarvdf[['Area','Item','Year','Value']]\n",
    "AreaHarvdf.columns = ['Area','Item','Year','Harvested_Area']\n",
    "display(AreaHarvdf.head(3))\n",
    "\n",
    "#take only the recent data\n",
    "RecentProd = Proddf.query('Year > 2001')\n",
    "RecentAreaHarv = AreaHarvdf.query('Year > 2001')"
   ]
  },
  {
   "cell_type": "code",
   "execution_count": null,
   "metadata": {},
   "outputs": [],
   "source": [
    "#Adding the ratio of production over harvested area\n",
    "RecentProdHier = RecentProd.set_index(['Area','Item','Year'])\n",
    "RecentAreaHarvHier = RecentAreaHarv.set_index(['Area','Item','Year'])\n",
    "x = pd.merge(RecentProdHier,RecentAreaHarvHier, right_index=True,left_index=True)\n",
    "x = x.reset_index()\n",
    "x = x.dropna()\n",
    "y = x.Production/x.Harvested_Area\n",
    "x['Ratio_Prod_field']= y\n",
    "ratiodf = x"
   ]
  },
  {
   "cell_type": "markdown",
   "metadata": {},
   "source": [
    "#### PLOTTING FUNCTIONS"
   ]
  },
  {
   "cell_type": "code",
   "execution_count": null,
   "metadata": {},
   "outputs": [],
   "source": [
    "def plotFertandProd(area,item,Fertilisant):\n",
    "    #Plot one area's item with one fertilisant where item is a seed (wheat for example)\n",
    "    strtemp = ' used in tonnes in '\n",
    "    title_=Fertilisant+strtemp+area\n",
    "    if(Fertilisant=='N'):\n",
    "        fer=4\n",
    "        x_label= 'Nitrogen use'\n",
    "    if(Fertilisant=='P'):\n",
    "        fer=5\n",
    "        x_label= 'Phosphate use'\n",
    "    if(Fertilisant=='K'):\n",
    "        fer=6\n",
    "        x_label= 'Potash use'\n",
    "    #Merging Production and Fertilisant for plotting\n",
    "    tmp = RecentProd[RecentProd.Item==item]\n",
    "    tmp = tmp.set_index(['Area','Year'])\n",
    "    dftoplot = tmp.merge(mergeFert,left_index=True,right_index=True, how='outer')\n",
    "    dftoplot = dftoplot.reset_index()\n",
    "    plotdata = dftoplot[dftoplot.Area==area]\n",
    "    for i,year in enumerate(plotdata.Year):\n",
    "        x = plotdata.iloc[i,fer]\n",
    "        y = plotdata.iloc[i,3]\n",
    "        plt.scatter(x, y, color='red')\n",
    "        plt.text(x+1, y+1, year, fontsize=7)\n",
    "    plt.ylabel(item)\n",
    "    plt.xlabel(x_label)\n",
    "    plt.title(title_)\n",
    "    plt.show()\n",
    "    return"
   ]
  },
  {
   "cell_type": "code",
   "execution_count": null,
   "metadata": {},
   "outputs": [],
   "source": [
    "def densityplotFertvsProd(area,item):\n",
    "    #Plot density of one country\n",
    "    tmp = RecentProd[RecentProd.Item==item]\n",
    "    tmp = tmp.set_index(['Area','Year'])\n",
    "    dftoplot = tmp.merge(mergeFert,left_index=True,right_index=True, how='outer')\n",
    "    dftoplot = dftoplot.reset_index()\n",
    "    plotdata = dftoplot[dftoplot.Area==area]\n",
    "    sns.jointplot(x=\"NitrogenUse\", y=\"Production\", data=plotdata, kind=\"kde\");\n",
    "    sns.jointplot(x=\"PhosphateUse\", y=\"Production\", data=plotdata, kind=\"kde\");\n",
    "    sns.jointplot(x=\"PotashUse\", y=\"Production\", data=plotdata, kind=\"kde\");\n",
    "    return"
   ]
  },
  {
   "cell_type": "code",
   "execution_count": null,
   "metadata": {},
   "outputs": [],
   "source": [
    "def densityplotFertvsProdAll(item):\n",
    "    #plot density of all Area\n",
    "    tmp = RecentProd[RecentProd.Item==item]\n",
    "    tmp = tmp.set_index(['Area','Year'])\n",
    "    dftoplot = tmp.merge(mergeFert,left_index=True,right_index=True, how='outer')\n",
    "    dftoplot = dftoplot.reset_index()\n",
    "    plotdata = dftoplot\n",
    "    print(plotdata.shape)\n",
    "    sns.jointplot(x=\"NitrogenUse\", y=\"Production\", data=plotdata, kind=\"kde\",xlim=[0,2000000],ylim=[0,15000000]);\n",
    "    sns.jointplot(x=\"PhosphateUse\", y=\"Production\", data=plotdata, kind=\"kde\",xlim=[0,750000],ylim=[0,15000000]);\n",
    "    sns.jointplot(x=\"PotashUse\", y=\"Production\", data=plotdata, kind=\"kde\",xlim=[0,750000],ylim=[0,15000000]);\n",
    "    return"
   ]
  },
  {
   "cell_type": "code",
   "execution_count": null,
   "metadata": {},
   "outputs": [],
   "source": [
    "def ScatterplotFertvsRatio(area,item):\n",
    "    #Plot density of one country\n",
    "    tmp = ratiodf[ratiodf.Item==item]\n",
    "    tmp = tmp.set_index(['Area','Year'])\n",
    "    dftoplot = tmp.merge(mergeFert,left_index=True,right_index=True, how='outer')\n",
    "    dftoplot = dftoplot.reset_index()\n",
    "    plotdata = dftoplot[dftoplot.Area==area]\n",
    "    sns.scatterplot(x=\"NitrogenUse\", y=\"Ratio_Prod_field\", data=plotdata);\n",
    "    plt.show()\n",
    "    sns.scatterplot(x=\"PhosphateUse\", y=\"Ratio_Prod_field\", data=plotdata);\n",
    "    plt.show()\n",
    "    sns.scatterplot(x=\"PotashUse\", y=\"Ratio_Prod_field\", data=plotdata);\n",
    "    plt.show()\n",
    "    return"
   ]
  },
  {
   "cell_type": "code",
   "execution_count": null,
   "metadata": {},
   "outputs": [],
   "source": [
    "def R2(x, y):\n",
    "    return stats.pearsonr(x, y)[0] ** 2"
   ]
  },
  {
   "cell_type": "code",
   "execution_count": null,
   "metadata": {},
   "outputs": [],
   "source": [
    "def RegScatterplotFertvsRatio(area,item):\n",
    "    #Plot density of one country\n",
    "    tmp = ratiodf[ratiodf.Item==item]\n",
    "    tmp = tmp.set_index(['Area','Year'])\n",
    "    dftoplot = tmp.merge(mergeFert,left_index=True,right_index=True, how='outer')\n",
    "    dftoplot = dftoplot.reset_index()\n",
    "    plotdata = dftoplot[dftoplot.Area==area]\n",
    "    plotdata.dropna()\n",
    "    x = plotdata.NitrogenUse\n",
    "    y = plotdata.Ratio_Prod_field\n",
    "    sns.jointplot(x=\"NitrogenUse\", y=\"Ratio_Prod_field\", data=plotdata,kind='reg', stat_func=R2);\n",
    "    plt.show()\n",
    "    sns.jointplot(x=\"PhosphateUse\", y=\"Ratio_Prod_field\", data=plotdata,kind='reg',stat_func=R2);\n",
    "    plt.show()\n",
    "    sns.jointplot(x=\"PotashUse\", y=\"Ratio_Prod_field\", data=plotdata,kind='reg',stat_func=R2);\n",
    "    plt.show()\n",
    "    return"
   ]
  },
  {
   "cell_type": "markdown",
   "metadata": {},
   "source": [
    "#### DATA EXPLORATION"
   ]
  },
  {
   "cell_type": "markdown",
   "metadata": {},
   "source": [
    "Let's first see the progression of fertisant in time, globally we see continuous slow increase as we could have expected."
   ]
  },
  {
   "cell_type": "code",
   "execution_count": null,
   "metadata": {},
   "outputs": [],
   "source": [
    "sns.scatterplot(x='Year',y='Value',hue='Item',data=Meltdf[Meltdf.Area=='World'])\n",
    "plt.title('Fertilisant used in the worlds')\n",
    "plt.ylabel('Tonnes of Nutrient')\n",
    "plt.show()\n",
    "sns.scatterplot(x='Year',y='Value',hue='Item',data=Meltdf[Meltdf.Area=='Least Developed Countries'])\n",
    "plt.title('Fertilisant used in the least developed countries')\n",
    "plt.ylabel('Tonnes of Nutrient')\n",
    "plt.show()\n",
    "sns.scatterplot(x='Year',y='Value',hue='Item',data=Meltdf[Meltdf.Area=='Land Locked Developing Countries'])\n",
    "plt.title('Fertilisant used in the rich countries')\n",
    "plt.ylabel('Tonnes of Nutrient')\n",
    "plt.show()"
   ]
  },
  {
   "cell_type": "markdown",
   "metadata": {},
   "source": [
    "To have an idee of the added value of fertilisant, lets start looking at the global density of fertilizers use and wheat production in tons:"
   ]
  },
  {
   "cell_type": "code",
   "execution_count": null,
   "metadata": {},
   "outputs": [],
   "source": [
    "item = 'Wheat'\n",
    "densityplotFertvsProdAll(item)"
   ]
  },
  {
   "cell_type": "markdown",
   "metadata": {},
   "source": [
    "We cannot see any kind of linear correlation between the quantities of fertilisant used and production. The Indeed Data is just centralised in rectangular manner:"
   ]
  },
  {
   "cell_type": "markdown",
   "metadata": {},
   "source": [
    "Let's have a closer look in USA's wheat production, here we still see no evident correlation."
   ]
  },
  {
   "cell_type": "code",
   "execution_count": null,
   "metadata": {},
   "outputs": [],
   "source": [
    "area = \"United States of America\"\n",
    "item = 'Wheat'\n",
    "Fertilisant = 'N' #N P K\n",
    "plotFertandProd(area,item,Fertilisant)\n",
    "\n",
    "area = \"United States of America\"\n",
    "item = 'Wheat'\n",
    "Fertilisant = 'P' #N P K\n",
    "plotFertandProd(area,item,Fertilisant)\n",
    "\n",
    "area = \"United States of America\"\n",
    "item = 'Wheat'\n",
    "Fertilisant = 'K' #N P K\n",
    "plotFertandProd(area,item,Fertilisant)"
   ]
  },
  {
   "cell_type": "code",
   "execution_count": null,
   "metadata": {},
   "outputs": [],
   "source": [
    "area = \"United States of America\"\n",
    "item = 'Seed cotton'\n",
    "Fertilisant = 'N' #N P K\n",
    "plotFertandProd(area,item,Fertilisant)\n",
    "\n",
    "area = \"United States of America\"\n",
    "item = 'Seed cotton'\n",
    "Fertilisant = 'P' #N P K\n",
    "plotFertandProd(area,item,Fertilisant)\n",
    "\n",
    "area = \"United States of America\"\n",
    "item = 'Seed cotton'\n",
    "Fertilisant = 'K' #N P K\n",
    "plotFertandProd(area,item,Fertilisant)"
   ]
  },
  {
   "cell_type": "markdown",
   "metadata": {},
   "source": [
    "In contrast the USA's seed production a shows more correlation:"
   ]
  },
  {
   "cell_type": "code",
   "execution_count": null,
   "metadata": {},
   "outputs": [],
   "source": [
    "area = 'World'\n",
    "item = 'Seed cotton'\n",
    "Fertilisant = 'N' #N P K\n",
    "plotFertandProd(area,item,Fertilisant)\n",
    "\n",
    "area = \"United States of America\"\n",
    "item = 'Seed cotton'\n",
    "Fertilisant = 'P' #N P K\n",
    "plotFertandProd(area,item,Fertilisant)\n",
    "\n",
    "area = \"United States of America\"\n",
    "item = 'Seed cotton'\n",
    "Fertilisant = 'K' #N P K\n",
    "plotFertandProd(area,item,Fertilisant)"
   ]
  },
  {
   "cell_type": "markdown",
   "metadata": {},
   "source": [
    "One thing we have to care about is the fact that the more crop area is harvested, the more will be the production. So let's divide our production by the harvest area is h2 in order to diminish that bias.\n",
    "Here, we plot the world average production in tons divided by harved area in hectars with the 3 fertilisants used.\n",
    "In this case, we see a more direct correlation between fertilisant used and production (R2= ~0.75), which make difficult \n",
    "to ask farmer to use less fertlisant!:"
   ]
  },
  {
   "cell_type": "code",
   "execution_count": null,
   "metadata": {},
   "outputs": [],
   "source": [
    "area = 'World'\n",
    "item = 'Seed cotton'\n",
    "RegScatterplotFertvsRatio(area,item)"
   ]
  },
  {
   "cell_type": "markdown",
   "metadata": {},
   "source": [
    "But if we look at wheat production here USA, there is absolutly no correlation. One explanation is that once the field has sufficient ressources, adding fertilisant won't increase the production anymore. \n",
    "This means that no correlation indirectly involves that too much fertilisant is used:"
   ]
  },
  {
   "cell_type": "code",
   "execution_count": null,
   "metadata": {},
   "outputs": [],
   "source": [
    "area = 'United States of America'\n",
    "item = 'Wheat'\n",
    "RegScatterplotFertvsRatio(area,item)"
   ]
  },
  {
   "cell_type": "markdown",
   "metadata": {},
   "source": [
    "By looking in less rich and other countries, we see that the countries in devlepement have a linear corelation of fertilisant. \n",
    "This might come by the fact that they can't afford to saturate their field with artificial nutrient: "
   ]
  },
  {
   "cell_type": "code",
   "execution_count": null,
   "metadata": {},
   "outputs": [],
   "source": [
    "area = 'Least Developed Countries'\n",
    "item = 'Wheat'\n",
    "RegScatterplotFertvsRatio(area,item)"
   ]
  },
  {
   "cell_type": "code",
   "execution_count": null,
   "metadata": {},
   "outputs": [],
   "source": [
    "area = 'Land Locked Developing Countries'\n",
    "item = 'Wheat'\n",
    "RegScatterplotFertvsRatio(area,item)"
   ]
  },
  {
   "cell_type": "markdown",
   "metadata": {},
   "source": [
    "#### Q4 Conclusion\n",
    "\n",
    "There is no direct relation of the time and ratio of production/fertilisant.\n",
    "The use of fertilisant increase slowly with time consistant with the increased needs of the continuously rising population.\n",
    "\n",
    "We can see that on world wide fertilisant used, the production is linearly correlated to fertilisant, but not on richer country. Indeed, rich country seem to over-saturate their field with artifical nutrient while the other countries are more cautious with the fertilisation.\n",
    "\n",
    "We can conclude that richer countries might want to reduce their fertilisant use in order to avoid polution and waste. In opposition, some other countries should increase the fertilisant use in order to have more production."
   ]
  },
  {
   "cell_type": "markdown",
   "metadata": {},
   "source": [
    "#### To do next\n",
    "For the final report, we could go deeper in the analysis and give some concrete examples of the above conclusions. It would be also niceer to have more geographic, dynamic and esthetic plot."
   ]
  },
  {
   "cell_type": "markdown",
   "metadata": {},
   "source": [
    "## Question 5\n",
    "This part of the notebook tries to answer the last question:\n",
    "\n",
    "### What is the ratio of country support/cost vs crop production in developed countries? Could we find other metrics to explain this support? Should we stop supporting farmers in Switzerland?"
   ]
  },
  {
   "cell_type": "code",
   "execution_count": null,
   "metadata": {},
   "outputs": [],
   "source": [
    "%matplotlib inline\n",
    "import pandas as pd\n",
    "import numpy as np\n",
    "import matplotlib.pyplot as plt"
   ]
  },
  {
   "cell_type": "code",
   "execution_count": null,
   "metadata": {},
   "outputs": [],
   "source": [
    "#Load data for all countries\n",
    "GovExpendituresAll = pd.read_csv('Data/Investment_GovernmentExpenditure_E_All_Data_(Normalized).csv',\n",
    "                                 sep=',',engine='python')\n",
    "CropsProdAll = pd.read_csv('Data/Production_Crops_E_All_Data_(Normalized).csv',\n",
    "                                 sep=',',engine='python')\n",
    "CapitalStockAll = pd.read_csv('Data/Investment_CapitalStock_E_All_Data_(Normalized).csv',\n",
    "                                 sep=',',engine='python')"
   ]
  },
  {
   "cell_type": "markdown",
   "metadata": {},
   "source": [
    "### Data pre-processing"
   ]
  },
  {
   "cell_type": "code",
   "execution_count": null,
   "metadata": {},
   "outputs": [],
   "source": [
    "GovAgriOriIndexAll = GovExpendituresAll.query('Element == \"Agriculture orientation index\"')\n",
    "GovAgriInvestmentAll = GovExpendituresAll.query('Element == \"Value US$\"')"
   ]
  },
  {
   "cell_type": "code",
   "execution_count": null,
   "metadata": {},
   "outputs": [],
   "source": [
    "GovAgriOriIndexIndia = GovAgriOriIndexAll.query('Area == \"India\"')\n",
    "GovAgriOriIndexItaly = GovAgriOriIndexAll.query('Area == \"China, mainland\"')\n",
    "GovAgriOriIndexChina = GovAgriOriIndexAll.query('Area == \"China, mainland\"')\n",
    "GovAgriOriIndexSwitzerland = GovAgriOriIndexAll.query('Area == \"Switzerland\"')\n",
    "GovAgriOriIndexFrance = GovAgriOriIndexAll.query('Area == \"France\"')\n",
    "GovAgriOriIndexUK = GovAgriOriIndexAll.query('Area == \"United Kingdom\"')"
   ]
  },
  {
   "cell_type": "code",
   "execution_count": null,
   "metadata": {},
   "outputs": [],
   "source": [
    "WheatProdIndia2001 = CropsProdAll.query('Area == \"India\" and Item == \"Wheat\" and Element == \"Production\" and Year > 2000')\n",
    "WheatProdChina2001 = CropsProdAll.query('Area == \"China, mainland\" and Item == \"Wheat\" and Element == \"Production\" and Year > 2000')\n",
    "WheatProdSwitzerland2001 = CropsProdAll.query('Area == \"Switzerland\" and Item == \"Wheat\" and Element == \"Production\" and Year > 2000')\n",
    "RiceProdIndia2001 = CropsProdAll.query('Area == \"India\" and Item == \"Rice, paddy\" and Element == \"Production\" and Year > 2000')\n",
    "RiceProdChina2001 = CropsProdAll.query('Area == \"China\" and Item == \"Rice, paddy\" and Element == \"Production\" and Year > 2000')\n",
    "CerealsProdSwiss2001 = CropsProdAll.query('Area == \"Switzerland\" and Item == \"Cereals,Total\" and Element == \"Production\" and Year > 2000')"
   ]
  },
  {
   "cell_type": "code",
   "execution_count": null,
   "metadata": {},
   "outputs": [],
   "source": [
    "GovAgriInvestmentSwitzerlandCentral = GovAgriInvestmentAll.query('Area == \"Switzerland\" and Item == \"Agriculture (Central Government)\"')\n",
    "GovAgriInvestmentSwitzerlandGeneral = GovAgriInvestmentAll.query('Area == \"Switzerland\" and Item == \"Agriculture (General Government)\"')\n",
    "CapitalStockSwitzerland = CapitalStockAll.query('Area == \"Switzerland\" and Element == \"Value US$\" and Item == \"Gross Fixed Capital Formation (Agriculture, Forestry and Fishing)\" and Year > 2000')"
   ]
  },
  {
   "cell_type": "markdown",
   "metadata": {},
   "source": [
    "### Data Exploration"
   ]
  },
  {
   "cell_type": "code",
   "execution_count": null,
   "metadata": {},
   "outputs": [],
   "source": [
    "fig, ax1 = plt.subplots(figsize=(20,10))\n",
    "ax1.set_xlabel('Year')\n",
    "ax1.set_ylabel('Government argiculture orientation index')\n",
    "ax1.plot(GovAgriOriIndexIndia.Year,GovAgriOriIndexIndia.Value,\n",
    "         color='red',marker='o',linestyle='dashed',linewidth=2,markersize=8,label='India')\n",
    "ax1.plot(GovAgriOriIndexChina.Year,GovAgriOriIndexChina.Value,\n",
    "         color='blue',marker='o',linestyle='dashed',linewidth=2,markersize=8,label='China')\n",
    "ax1.plot(GovAgriOriIndexItaly.Year,GovAgriOriIndexItaly.Value,\n",
    "         color='yellow',marker='o',linestyle='dashed',linewidth=2,markersize=8,label='Italy')\n",
    "ax1.plot(GovAgriOriIndexSwitzerland.Year,GovAgriOriIndexSwitzerland.Value,\n",
    "         color='green',marker='o',linestyle='dashed',linewidth=2,markersize=8,label='Switzerland')\n",
    "ax1.plot(GovAgriOriIndexFrance.Year,GovAgriOriIndexFrance.Value,\n",
    "         color='purple',marker='o',linestyle='dashed',linewidth=2,markersize=8,label='France')\n",
    "ax1.plot(GovAgriOriIndexUK.Year,GovAgriOriIndexUK.Value,\n",
    "         color='orange',marker='o',linestyle='dashed',linewidth=2,markersize=8,label='United Kingdom')\n",
    "fig.tight_layout()\n",
    "plt.title('Agriculture orientation index')\n",
    "plt.legend()\n",
    "plt.show()"
   ]
  },
  {
   "cell_type": "markdown",
   "metadata": {},
   "source": [
    "### Comment\n",
    "This first graph shows time series of the agriculture orientation index (AOI) for several developed countries. The AOI is defined as the ratio of the agriculture share of government expenditures and the agriculture share of gross domestic product (GDP). We can see that the agriculture orientation index is mush higher for Switzerland as compared to other typical developed countries. This would suggest that the swiss government invests mush more money for the same added value on agricultural production. "
   ]
  },
  {
   "cell_type": "code",
   "execution_count": null,
   "metadata": {},
   "outputs": [],
   "source": [
    "fig, ax1 = plt.subplots(figsize=(20,10))\n",
    "color = 'tab:red'\n",
    "ax1.set_xlabel('Year')\n",
    "ax1.set_ylabel('Wheat Production [tonnes]',color=color)\n",
    "ax1.plot(WheatProdIndia2001.Year,WheatProdIndia2001.Value,\n",
    "         color=color,marker='o',linestyle='dashed',linewidth=2,markersize=8)\n",
    "ax1.tick_params(axis='y',labelcolor=color)\n",
    "ax2 = ax1.twinx()  # instantiate a second axes that shares the same x-axis\n",
    "color = 'tab:green'\n",
    "ax2.set_ylabel('Agriculture Index',color=color)\n",
    "ax2.plot(GovAgriOriIndexIndia.Year[0:14],GovAgriOriIndexIndia.Value[0:14],\n",
    "         color=color,marker='o',linestyle='dashed',linewidth=2,markersize=8)\n",
    "ax2.tick_params(axis='y',labelcolor=color)\n",
    "ax3 = ax1.twinx()\n",
    "ax3.set_ylabel('Rice Production [tonnes]',color='blue',labelpad=20)\n",
    "ax3.plot(RiceProdIndia2001.Year,RiceProdIndia2001.Value,\n",
    "         color='blue',marker='o',linestyle='dashed',linewidth=2,markersize=8)\n",
    "ax3.tick_params(axis='y',labelcolor='blue')\n",
    "fig.tight_layout()  # otherwise the right y-label is slightly clipped\n",
    "plt.title('Production and agriculture orientation index time series in India')\n",
    "plt.show()"
   ]
  },
  {
   "cell_type": "code",
   "execution_count": null,
   "metadata": {},
   "outputs": [],
   "source": [
    "fig, ax1 = plt.subplots(figsize=(20,10))\n",
    "color = 'tab:red'\n",
    "ax1.set_xlabel('Year')\n",
    "ax1.set_ylabel('Wheat Production [tonnes]',color=color)\n",
    "ax1.plot(WheatProdChina2001.Year,WheatProdChina2001.Value,\n",
    "         color=color,marker='o',linestyle='dashed',linewidth=2,markersize=8)\n",
    "ax1.tick_params(axis='y',labelcolor=color)\n",
    "ax2 = ax1.twinx()  # instantiate a second axes that shares the same x-axis\n",
    "color = 'tab:green'\n",
    "ax2.set_ylabel('Agriculture Index',color=color)\n",
    "ax2.plot(GovAgriOriIndexChina.Year[0:8],GovAgriOriIndexChina.Value[0:8],\n",
    "         color=color,marker='o',linestyle='dashed',linewidth=2,markersize=8)\n",
    "ax2.tick_params(axis='y',labelcolor=color)\n",
    "ax3 = ax1.twinx()\n",
    "ax3.set_ylabel('Rice Production [tonnes]',color='blue',labelpad=20)\n",
    "ax3.plot(RiceProdChina2001.Year,RiceProdChina2001.Value,\n",
    "         color='blue',marker='o',linestyle='dashed',linewidth=2,markersize=8)\n",
    "ax3.tick_params(axis='y',labelcolor='blue')\n",
    "fig.tight_layout()  # otherwise the right y-label is slightly clipped\n",
    "plt.title('Production and agriculture orientation index time series in China')\n",
    "plt.show()"
   ]
  },
  {
   "cell_type": "code",
   "execution_count": null,
   "metadata": {},
   "outputs": [],
   "source": [
    "fig, ax1 = plt.subplots(figsize=(20,10))\n",
    "color = 'tab:red'\n",
    "ax1.set_xlabel('Year')\n",
    "ax1.set_ylabel('Wheat Production [tonnes]',color=color)\n",
    "ax1.plot(WheatProdSwitzerland2001.Year,WheatProdSwitzerland2001.Value,\n",
    "         color=color,marker='o',linestyle='dashed',linewidth=2,markersize=8)\n",
    "ax1.tick_params(axis='y',labelcolor=color)\n",
    "ax2 = ax1.twinx()  # instantiate a second axes that shares the same x-axis\n",
    "color = 'tab:green'\n",
    "ax2.set_ylabel('Agriculture Index',color=color)\n",
    "ax2.plot(GovAgriOriIndexSwitzerland.Year[0:14],GovAgriOriIndexSwitzerland.Value[0:14],\n",
    "         color=color,marker='o',linestyle='dashed',linewidth=2,markersize=8)\n",
    "ax2.tick_params(axis='y',labelcolor=color)\n",
    "ax3 = ax1.twinx()\n",
    "ax3.set_ylabel('Cereals Production [tonnes]',color='blue',labelpad=20)\n",
    "ax3.plot(CerealsProdSwiss2001.Year,CerealsProdSwiss2001.Value,\n",
    "         color='blue',marker='o',linestyle='dashed',linewidth=2,markersize=8)\n",
    "ax3.tick_params(axis='y',labelcolor='blue')\n",
    "fig.tight_layout()  # otherwise the right y-label is slightly clipped\n",
    "plt.title('Production (cereals and wheat) and agriculture orientation index time series in Switzerland')\n",
    "plt.show()"
   ]
  },
  {
   "cell_type": "markdown",
   "metadata": {},
   "source": [
    "### Comment \n",
    "We tried to look if we can directly see the correlation betweem government investment and main crops production. To do so, we looked at the production of main crops in India, China and Switzerland and compared it to the agriculture orientation index. As we can see on the above graphs, there is no net correlation."
   ]
  },
  {
   "cell_type": "code",
   "execution_count": null,
   "metadata": {},
   "outputs": [],
   "source": [
    "fig, ax1 = plt.subplots(figsize=(20,10))\n",
    "color = 'tab:red'\n",
    "ax1.set_xlabel('Year')\n",
    "ax1.set_ylabel('Central government investments in agriculture [millions US$]',color=color)\n",
    "ax1.plot(GovAgriInvestmentSwitzerlandCentral.Year,GovAgriInvestmentSwitzerlandCentral.Value,\n",
    "         color=color,marker='o',linestyle='dashed',linewidth=2,markersize=8)\n",
    "ax1.tick_params(axis='y',labelcolor=color)\n",
    "ax2 = ax1.twinx()  # instantiate a second axes that shares the same x-axis\n",
    "color = 'tab:green'\n",
    "ax2.set_ylabel('Gross fixed capital formation',color=color)\n",
    "ax2.plot(CapitalStockSwitzerland.Year,CapitalStockSwitzerland.Value,\n",
    "         color=color,marker='o',linestyle='dashed',linewidth=2,markersize=8)\n",
    "ax2.tick_params(axis='y',labelcolor=color)\n",
    "ax3 = ax1.twinx()\n",
    "ax3.set_ylabel('General government investments in agriculture [millions US$]',color='blue',labelpad=20)\n",
    "ax3.plot(GovAgriInvestmentSwitzerlandGeneral.Year,GovAgriInvestmentSwitzerlandGeneral.Value,\n",
    "         color='blue',marker='o',linestyle='dashed',linewidth=2,markersize=8)\n",
    "ax3.tick_params(axis='y',labelcolor='blue')\n",
    "fig.tight_layout()  # otherwise the right y-label is slightly clipped\n",
    "plt.title('Government investment and agriculture capital value in Switzerland')\n",
    "plt.show()"
   ]
  },
  {
   "cell_type": "markdown",
   "metadata": {},
   "source": [
    "### Comment\n",
    "This last graph shows time series of the swiss central and general government expenditures in the field of agriculture as well as the capital formation that comes from this sector. As can be seen, there is a direct correlation between government expenditures and the agriculture capital formation, except for 2009, where we have a glitch. This graph suggests that the government support is helpful in Switzerland."
   ]
  },
  {
   "cell_type": "markdown",
   "metadata": {},
   "source": [
    "### Conclusion\n",
    "Probably due to the high life and salary cost in Switrzerland, there is a remarkly higher ratio in investment to crop growth production (in terms of GDP). Indeed, the Swiss government invest 6 to 8 times more for the same relative result as compared to other country. Nevertheless, on the last plot we see a direct corelation between investment and agriculture capital growth. This indicates a consistent and valuable support from the country."
   ]
  },
  {
   "cell_type": "markdown",
   "metadata": {},
   "source": [
    "### Improvments\n",
    "We could try to compare the government and private sector investments in agriculture and see how this relates to crops production to see which sector is the most valuable to invest. "
   ]
  },
  {
   "cell_type": "code",
   "execution_count": null,
   "metadata": {},
   "outputs": [],
   "source": []
  }
 ],
 "metadata": {
  "kernelspec": {
   "display_name": "Python 3",
   "language": "python",
   "name": "python3"
  },
  "language_info": {
   "codemirror_mode": {
    "name": "ipython",
    "version": 3
   },
   "file_extension": ".py",
   "mimetype": "text/x-python",
   "name": "python",
   "nbconvert_exporter": "python",
   "pygments_lexer": "ipython3",
   "version": "3.7.4"
  }
 },
 "nbformat": 4,
 "nbformat_minor": 4
}
