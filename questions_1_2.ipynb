{
 "cells": [
  {
   "cell_type": "markdown",
   "metadata": {},
   "source": [
    "# Food and Agricultural Trends\n",
    "\n",
    "**Team Papillon**\n",
    "\n",
    "Nowadays, environmental problems are becoming more and more serious and urgent to deal with. We cannot deny the impact of food and agriculture in general, on the environment. If we consider what we eat and how we grow it, we would find extensive damage to the environment (green gas emissions, soil depletion etc.) and also the wildlife (due to pesticides, fertilizers etc.). We are looking to use the data provided by FAOSTAT giving access to over 3 million time-series and cross sectional data relating to food and agriculture all over the world and try to generate insights and stories on the evolution of different socio-environmental factors such as the correlation between greenhouse gas emissions and agricultural growth for example. Through this work, we hope to gain a deeper insight on the evolution and the environmental impact of agriculture and food."
   ]
  },
  {
   "cell_type": "markdown",
   "metadata": {},
   "source": [
    "## Question 1 and 2\n",
    "\n",
    "### Could we find and support a correlation between greenhouse gas emissions and agricultural growth? Could we also assess the influence of the type of culture on the emissions?\n",
    "### Based on this, is it possible to make predictions of greenhouse gas emissions by extrapolating the agricultural growth and land usage?"
   ]
  },
  {
   "cell_type": "code",
   "execution_count": null,
   "metadata": {},
   "outputs": [],
   "source": [
    "%matplotlib inline\n",
    "import pandas as pd\n",
    "import numpy as np\n",
    "import re\n",
    "from matplotlib.ticker import MaxNLocator\n",
    "import matplotlib.pyplot as plt\n",
    "import requests\n",
    "from bs4 import BeautifulSoup\n",
    "import statsmodels\n",
    "import folium\n",
    "import math\n",
    "\n",
    "# Custom imports\n",
    "from ipywidgets import IntProgress\n",
    "from IPython.display import display\n",
    "import time\n",
    "from multiprocessing import Pool, Lock\n",
    "import os\n",
    "import json\n",
    "import seaborn as sns\n",
    "import time\n",
    "\n",
    "from sklearn.linear_model import LinearRegression, LogisticRegression, Ridge\n",
    "from sklearn.preprocessing import OneHotEncoder\n",
    "from sklearn.decomposition import PCA\n",
    "from sklearn.model_selection import cross_val_predict\n",
    "from sklearn.model_selection import cross_val_score\n",
    "from sklearn.metrics import mean_squared_error\n",
    "from sklearn.pipeline import Pipeline\n",
    "from sklearn.preprocessing   import StandardScaler"
   ]
  },
  {
   "cell_type": "markdown",
   "metadata": {},
   "source": [
    "## Importing the data\n",
    "\n",
    "In order to find a model that helps in the understanding of the role of the variety of crops in the ecological influence of the agriculture, we need 3 datasets:\n",
    "\n",
    "- The land usage\n",
    "- The crops cultures\n",
    "- The emissions related to the agriculture\n"
   ]
  },
  {
   "cell_type": "code",
   "execution_count": null,
   "metadata": {},
   "outputs": [],
   "source": [
    "dataLands = pd.read_csv(\"./data/fao_data_land_data.csv\")\n",
    "\n",
    "dataCrops = pd.read_csv(\"./data/fao_data_crops_data.csv\")\n",
    "\n",
    "dataEmissions = pd.read_csv(\"./data/current_FAO/raw_files/Environment_Emissions_by_Sector_E_All_Data_(Normalized).csv\", encoding=\"cp1252\")"
   ]
  },
  {
   "cell_type": "markdown",
   "metadata": {},
   "source": [
    "## Cleaning\n",
    "\n",
    "- Removing NAN\n",
    "- Removing useless columns"
   ]
  },
  {
   "cell_type": "code",
   "execution_count": null,
   "metadata": {},
   "outputs": [],
   "source": [
    "dataLands = dataLands.dropna(subset=[\"element\"])\n",
    "\n",
    "dataCrops = dataCrops.dropna(subset=[\"element\"])\n",
    "\n",
    "dataEmissionsAgriculture = dataEmissions.where(dataEmissions[\"Item\"] == \"Agriculture total\").where(dataEmissions[\"Element\"] == \"Emissions (CO2eq)\").dropna()\n",
    "dataEmissionsAgriculture = dataEmissionsAgriculture.drop([\"Item\", \"Element Code\", \"Element\", \"Item Code\", \"Year Code\", \"Flag\"], axis=1)\\\n",
    "                                                    .rename(columns={\"Unit\":\"Unit emissions\",\"Value\":\"Value emissions\"})"
   ]
  },
  {
   "cell_type": "markdown",
   "metadata": {},
   "source": [
    "Here is a graph that shows the progression of land usage within each continent."
   ]
  },
  {
   "cell_type": "code",
   "execution_count": null,
   "metadata": {},
   "outputs": [],
   "source": [
    "def cond_countries(dataLands):\n",
    "    countries = [\"Asia +\",\"Europe +\", \"Americas +\", \"Oceania +\", \"Africa +\"]\n",
    "    truthTable = (dataLands[\"country_or_area\"] == countries[0])\n",
    "    for c in countries:\n",
    "        truthTable = (dataLands[\"country_or_area\"] == c) | truthTable\n",
    "    return truthTable\n",
    "\n",
    "dataLandsContinent = dataLands.where(dataLands[\"category\"] == \"agricultural_area\")\\\n",
    "                                .where(cond_countries(dataLands))\\\n",
    "                                .dropna(subset=[\"country_or_area\"])\\\n",
    "                                .sort_values(\"value\",ascending=False)\n",
    "\n",
    "sns.set(style=\"darkgrid\")\n",
    "\n",
    "fg = plt.figure(figsize=(20,20))\n",
    "axes = fg.add_subplot()\n",
    "# Plot the responses for different events and regions\n",
    "sns.lineplot(x=\"year\", y=\"value\", style=\"country_or_area\", data=dataLandsContinent, hue=\"country_or_area\", ax=axes)\n",
    "\n",
    "fg.show()"
   ]
  },
  {
   "cell_type": "markdown",
   "metadata": {},
   "source": [
    "Here are the emissions of the BRICS throughout the years. We can see a clear progression (except for South Africa)."
   ]
  },
  {
   "cell_type": "code",
   "execution_count": null,
   "metadata": {},
   "outputs": [],
   "source": [
    "sns.set(style=\"darkgrid\")\n",
    "\n",
    "dataEmissionsAgrContinent = dataEmissionsAgriculture.where(dataEmissionsAgriculture[\"Area\"].isin([\"South Africa\",\"Brazil\", \"China\", \"India\", \"USSR\",\"Russian Federation\"])).dropna()\n",
    "\n",
    "fg = plt.figure(figsize=(20,20))\n",
    "axes = fg.add_subplot()\n",
    "# Plot the responses for different events and regions\n",
    "sns.lineplot(x=\"Year\", y=\"Value emissions\", style=\"Area\", data=dataEmissionsAgrContinent, hue=\"Area\", ax=axes)\n",
    "\n",
    "fg.show()"
   ]
  },
  {
   "cell_type": "markdown",
   "metadata": {},
   "source": [
    "## Creating the dataset for processing\n",
    "\n",
    "The dataset we create for processing consist in the aggregation of the area harvested of for each crop, by year and by country, and the emissions of greenhouse gases by year and by country as well. The goal will be to find a model that explain and helps in predicting the emissions, based on the other features (country, year and crops)."
   ]
  },
  {
   "cell_type": "code",
   "execution_count": null,
   "metadata": {},
   "outputs": [],
   "source": [
    "crops = dataCrops.drop([\"element_code\"], axis=1)\\\n",
    "                .where(dataCrops[\"element\"] == \"Area Harvested\")\\\n",
    "                .dropna(subset=[\"element\"])\\\n",
    "                .drop([\"element\", \"value_footnotes\"],axis=1)\\\n",
    "                .rename(columns={\"unit\":\"Unit area\", \"value\":\"Value area\", \"year\":\"Year\",\"country_or_area\":\"Area\"})\n",
    "#                                .where(dataCrops[\"country_or_area\"] == \"World +\")\\\n",
    "cropsAndEmissions = crops.pivot_table(values='Value area',index=[\"Area\",\"Year\"],columns=\"category\").reset_index()\n",
    "cropsAndEmissions = cropsAndEmissions.fillna(0)\n",
    "cropsAndEmissions = pd.merge(cropsAndEmissions, dataEmissionsAgriculture, how=\"left\", on=['Area',\"Year\"])#.dropna(subset=[\"Value area\", \"Value emissions\"])\n",
    "cropsAndEmissions = cropsAndEmissions.dropna().dropna(subset=[\"Unit emissions\"])\n",
    "cropsAndEmissions"
   ]
  },
  {
   "cell_type": "markdown",
   "metadata": {},
   "source": [
    "## Learning to predict emissions\n",
    "\n",
    "Here, we try to create a model by doing a logistic regression on the data. We first try to optimize the alpha parameter on a predefined interval and then we use it to train the model."
   ]
  },
  {
   "cell_type": "code",
   "execution_count": null,
   "metadata": {},
   "outputs": [],
   "source": [
    "SEED = 1\n",
    "st_pipeline = Pipeline([('scl', StandardScaler()), ('ridge', Ridge(copy_X=True, random_state=SEED))])\n",
    "st_pipeline\n",
    "\n",
    "#features = [\"Area\",\"category\"]\n",
    "\n",
    "XRidge2 = pd.get_dummies(cropsAndEmissions.drop([\"Area Code\",\"Unit emissions\", \"Value emissions\"], axis=1))\n",
    "yRidge2 = cropsAndEmissions[\"Value emissions\"]\n",
    "\n",
    "results = []\n",
    "\n",
    "# Tune for alpha using 10 fold crossvalidation when calculating the mean squared error.\n",
    "for alpha in np.linspace(-100, 100, 32):\n",
    "    st_pipeline.set_params(ridge__alpha= alpha) \n",
    "    neg_MSE = cross_val_score(st_pipeline, XRidge2, yRidge2, scoring='neg_mean_squared_error', cv=10)  # we use 10 folds crossvalidation since 10 \n",
    "                                                                                                      # is pretty much standard in the industry\n",
    "    results.append([neg_MSE, alpha])\n",
    "    \n",
    "# Take the mean MSE for each level of alpha\n",
    "for i in range(len(results)):\n",
    "    results[i][0] = -np.mean(results[i][0])\n",
    "    \n",
    "# Plot the results\n",
    "plt.figure(figsize=(20,20))\n",
    "plt.plot([row[1] for row in results], [row[0] for row in results])\n",
    "plt.xlabel('alpha')\n",
    "plt.ylabel('MSE')\n",
    "plt.title('Tuning alpha');\n",
    "plt.grid()\n",
    "\n",
    "best_st_alpha = min(results)[1]\n",
    "print('Best alpha is', best_st_alpha, 'with a MSE of', min(results)[0],'.')"
   ]
  },
  {
   "cell_type": "code",
   "execution_count": null,
   "metadata": {},
   "outputs": [],
   "source": [
    "st_Model = st_pipeline.set_params(ridge__alpha= best_st_alpha)  # use best alpha calculated above\n",
    "st_Model.fit(XRidge2, yRidge2)                                  # fit the new model"
   ]
  },
  {
   "cell_type": "code",
   "execution_count": null,
   "metadata": {},
   "outputs": [],
   "source": [
    "#st_Model.named_steps[\"ridge\"].coef_\n",
    "weights = pd.DataFrame([XRidge2.columns,st_Model.named_steps[\"ridge\"].coef_]).transpose().sort_values(1)\n",
    "weights"
   ]
  },
  {
   "cell_type": "markdown",
   "metadata": {},
   "source": [
    "Further analysis will be conducted in order to create efficient predictions. This first analysis already gave us clear insight of the data and helps us in assessing the feasability of this research.\n",
    "\n",
    "## Plan\n",
    "\n",
    "The next steps will be :\n",
    "\n",
    "- Visualize the output of the model and its relation to reality.\n",
    "- Try new models and assess their performances.\n",
    "- Make predictions on the future using these regressions.\n",
    "- Extract guidelines that could help in reducing emissions in the future, based on these data.\n",
    "- Criticize these guidelines and the predictions using more domain-related knowledge."
   ]
  },
  {
   "cell_type": "markdown",
   "metadata": {},
   "source": [
    "# Output of the model"
   ]
  },
  {
   "cell_type": "code",
   "execution_count": null,
   "metadata": {},
   "outputs": [],
   "source": [
    "weights.columns = [\"name\", \"weight\"]"
   ]
  },
  {
   "cell_type": "code",
   "execution_count": null,
   "metadata": {},
   "outputs": [],
   "source": [
    "fg = plt.figure(figsize=(40,20))\n",
    "\n",
    "axes1 = fg.add_subplot(3,1,1)\n",
    "sns.barplot(x=\"name\", y=\"weight\", data=weights, ax=axes1)\n",
    "axes1.set_title(\"All weights\")\n",
    "\n",
    "axes2 = fg.add_subplot(3,1,2)\n",
    "sns.barplot(x=\"name\", y=\"weight\", data=weights.where(weights.name.str.contains(\"Area\")).dropna(), ax=axes2)\n",
    "axes2.set_title(\"Weights of the countries\")\n",
    "\n",
    "axes3 = fg.add_subplot(3,1,3)\n",
    "sns.barplot(x=\"name\", y=\"weight\", data=weights.mask(weights.name.str.contains(\"Area\")).mask(weights.name == \"Year\").dropna(), ax=axes3)\n",
    "axes3.set_title(\"Weights of the crops\")\n",
    "\n",
    "fg.tight_layout()"
   ]
  },
  {
   "cell_type": "code",
   "execution_count": null,
   "metadata": {},
   "outputs": [],
   "source": [
    "weights.where(weights.name.str.contains(\"Area\")).where(weights.weight > 0).dropna().sort_values(\"weight\")#.where(\"weight > 0\")"
   ]
  },
  {
   "cell_type": "code",
   "execution_count": null,
   "metadata": {},
   "outputs": [],
   "source": [
    "weights.mask(weights.name.str.contains(\"Area\")).where(weights.weight > 0).dropna().sort_values(\"weight\").head()"
   ]
  },
  {
   "cell_type": "markdown",
   "metadata": {},
   "source": [
    "## New model for predictions\n",
    "\n",
    "In order to obtain better predictions, we decided to restart the process. Using linear regressions, we compute the emissions produced by each crops."
   ]
  },
  {
   "cell_type": "code",
   "execution_count": null,
   "metadata": {},
   "outputs": [],
   "source": [
    "crops = dataCrops.drop([\"element_code\"], axis=1)\\\n",
    "                .where(dataCrops[\"element\"] == \"Area Harvested\")\\\n",
    "                .mask(dataCrops.country_or_area.isin([\"Asia +\",\"Europe +\", \"Americas +\", \"Oceania +\", \"Africa +\"]))\\\n",
    "                .dropna(subset=[\"element\"])\\\n",
    "                .drop([\"element\", \"value_footnotes\"],axis=1)\\\n",
    "                .rename(columns={\"unit\":\"Unit area\", \"value\":\"Value area\", \"year\":\"Year\",\"country_or_area\":\"Area\"})\n",
    "crops.head(5)"
   ]
  },
  {
   "cell_type": "code",
   "execution_count": null,
   "metadata": {},
   "outputs": [],
   "source": [
    "listCountries = [\"United States of America\", \"India\", \"Switzerland\", \"United Kingdom\", \"China\"]\n",
    "filterCrops = [\"cereals_total\", \"cereals_rice_milled_eqv\",\"pulses_total\", \"coarse_grain_total\", \"treenuts_total\"]\n",
    "\n",
    "#cropsEmissionsNormalized = crops.where(crops.Area.isin(listCountries)).dropna()\n",
    "cropsEmissionsNormalized = crops\n",
    "totalHarvestedArea = cropsEmissionsNormalized.groupby([\"Area\",\"Year\"]).sum()#.drop([\"Year\"], axis=1)#.rename(\"Value area\", \"Total area harvested\")\n",
    "totalHarvestedArea.columns = [\"Total area harvested\"]\n",
    "cropsEmissionsNormalized = pd.merge(cropsEmissionsNormalized, totalHarvestedArea, how=\"left\", on=['Area',\"Year\"])\n",
    "cropsEmissionsNormalized = pd.merge(cropsEmissionsNormalized, dataEmissionsAgriculture, how=\"left\", on=['Area',\"Year\"])#.dropna(subset=[\"Value area\", \"Value emissions\"])\n",
    "cropsEmissionsNormalized = cropsEmissionsNormalized.dropna().dropna(subset=[\"Unit emissions\"])\n",
    "cropsEmissionsNormalized[\"Value emissions\"] = cropsEmissionsNormalized[\"Value area\"]*cropsEmissionsNormalized[\"Value emissions\"]/(cropsEmissionsNormalized[\"Total area harvested\"]*cropsEmissionsNormalized[\"Total area harvested\"])\n",
    "cropsEmissionsNormalized = cropsEmissionsNormalized.mask(cropsEmissionsNormalized.category.isin(filterCrops)).dropna()\n",
    "cropsEmissionsNormalized.head(5)"
   ]
  },
  {
   "cell_type": "markdown",
   "metadata": {},
   "source": [
    "**cropsEmissionsNormalized** is a dataframe containing the value of emissions per crops, per country and per year. The total emissions for a given country and a given year was split over the different crops using their ratio of harvested area over the total harvested area. Then, these emissions were again normalized by the total harvested area, in order to obtain comparable results above all the countries. "
   ]
  },
  {
   "cell_type": "code",
   "execution_count": null,
   "metadata": {},
   "outputs": [],
   "source": [
    "fg = plt.figure(figsize=(15,12))\n",
    "\n",
    "i = 1\n",
    "\n",
    "listCrops = [\"wheat\",\"soybeans\", \"apples\", \"peas_dry\"]\n",
    "\n",
    "for c in listCrops:\n",
    "    #print(cropsEmissionsNormalized.where(cropsEmissionsNormalized.Area == c).dropna())\n",
    "    axes = fg.add_subplot(len(listCrops),1,i)\n",
    "    sns.lineplot(x=\"Year\", y=\"Value area\",\\\n",
    "                data=cropsEmissionsNormalized.where(cropsEmissionsNormalized.category == c).dropna(),\\\n",
    "                ax=axes)\n",
    "    axes.set_title(c)\n",
    "    i = i+1\n",
    "\n",
    "fg.tight_layout()"
   ]
  },
  {
   "cell_type": "markdown",
   "metadata": {},
   "source": [
    "On the graph above, you can see the evolution in time of the *area harvested* for different crops. Except for *wheat*, there is a slight increase for each of the above. It is strange if we compare this to the evolution of the population, which more or less doubled during the last 3 decades. This could be explained by the industrialization of the agriculture, which requires less area to produce a similar amount of food."
   ]
  },
  {
   "cell_type": "code",
   "execution_count": null,
   "metadata": {},
   "outputs": [],
   "source": [
    "fg = plt.figure(figsize=(15,12))\n",
    "\n",
    "i = 1\n",
    "\n",
    "listCrops = [\"wheat\",\"soybeans\", \"apples\", \"peas_dry\"]\n",
    "\n",
    "for c in listCrops:\n",
    "    #print(cropsEmissionsNormalized.where(cropsEmissionsNormalized.Area == c).dropna())\n",
    "    axes = fg.add_subplot(len(listCrops),1,i)\n",
    "    sns.lineplot(x=\"Year\", y=\"Value area\", hue=\"Area\",\\\n",
    "                data=cropsEmissionsNormalized.where(cropsEmissionsNormalized.category == c)\\\n",
    "                 .where(cropsEmissionsNormalized.Area.isin(listCountries)).dropna(),\\\n",
    "                ax=axes)\n",
    "    axes.set_title(c)\n",
    "    i = i+1\n",
    "\n",
    "fg.tight_layout()"
   ]
  },
  {
   "cell_type": "markdown",
   "metadata": {},
   "source": [
    "This graph gives a preview of the evolution of these crops for each country. They all follow the overall evolution and none of them demonstrate a clear increase or decrease in the harvesting of these crops."
   ]
  },
  {
   "cell_type": "code",
   "execution_count": null,
   "metadata": {},
   "outputs": [],
   "source": [
    "fg = plt.figure(figsize=(30,20))\n",
    "\n",
    "i = 1\n",
    "\n",
    "for c in listCountries:\n",
    "    #print(cropsEmissionsNormalized.where(cropsEmissionsNormalized.Area == c).dropna())\n",
    "    axes = fg.add_subplot(5,1,i)\n",
    "    try:\n",
    "        sns.barplot(x=\"category\", y=\"Value emissions\",\\\n",
    "                    data=cropsEmissionsNormalized.where(cropsEmissionsNormalized.Area == c).where(cropsEmissionsNormalized[\"Value emissions\"] > 0.00005).dropna(),\\\n",
    "                    ax=axes)\n",
    "    except ValueError as e:\n",
    "        print(str(e))\n",
    "    axes.set_title(c)\n",
    "    i = i+1\n",
    "\n",
    "fg.tight_layout()"
   ]
  },
  {
   "cell_type": "markdown",
   "metadata": {},
   "source": [
    "In the plot above, we show the **normalized emissions values** for the considered countries and we only display the crops that are the most \"emitting\". One very interesting fact is that Switzerland as well as UK seems to have a really considerable number of crops they grow that emits over the threshold we set. In order to investigate this, we made the graph below."
   ]
  },
  {
   "cell_type": "code",
   "execution_count": null,
   "metadata": {},
   "outputs": [],
   "source": [
    "fg = plt.figure(figsize=(15,15))\n",
    "\n",
    "i = 1\n",
    "\n",
    "for c in listCrops:\n",
    "    #print(cropsEmissionsNormalized.where(cropsEmissionsNormalized.Area == c).dropna())\n",
    "    axes = fg.add_subplot(len(listCrops),1,i)\n",
    "    try:\n",
    "        sns.barplot(x=\"Area\", y=\"Value emissions\",\\\n",
    "                    data=cropsEmissionsNormalized.where(cropsEmissionsNormalized.Area.isin(listCountries)).where(cropsEmissionsNormalized[\"category\"] == c).dropna(),\\\n",
    "                    ax=axes)\n",
    "    except ValueError as e:\n",
    "        print(str(e))\n",
    "    axes.set_title(c)\n",
    "    axes.set_ylabel(\"Emissions [Gg/ha]\")\n",
    "    i = i+1\n",
    "\n",
    "fg.tight_layout()\n",
    "\n",
    "fg.savefig(\"emissions_by_unit_area_crop.eps\")"
   ]
  },
  {
   "cell_type": "markdown",
   "metadata": {},
   "source": [
    "This graph shows for 4 different crops, their normalized emissions value, aggregated in time. This is very insightful as it appears systematically that producing one of this type of crop in Switzerland, in UK or in US for the soybeans, emits more greenhouse gas than producing this in China or in India. This could be the consequence of the size of the production. Lets now compare the area harvested for each of these crops in these countries."
   ]
  },
  {
   "cell_type": "code",
   "execution_count": null,
   "metadata": {},
   "outputs": [],
   "source": [
    "fg = plt.figure(figsize=(15,15))\n",
    "\n",
    "i = 1\n",
    "listCrops = [\"wheat\",\"soybeans\", \"apples\", \"peas_dry\"]\n",
    "\n",
    "for c in listCrops:\n",
    "    #print(cropsEmissionsNormalized.where(cropsEmissionsNormalized.Area == c).dropna())\n",
    "    axes = fg.add_subplot(len(listCrops),1,i)\n",
    "    try:\n",
    "        sns.barplot(x=\"Area\", y=\"Value area\",\\\n",
    "                    data=cropsEmissionsNormalized.where(cropsEmissionsNormalized.Area.isin(listCountries)).where(cropsEmissionsNormalized[\"category\"] == c).dropna(),\\\n",
    "                    ax=axes)\n",
    "    except ValueError as e:\n",
    "        print(str(e))\n",
    "    axes.set_title(c)\n",
    "    axes.set_ylabel(\"Area [ha]\")\n",
    "    i = i+1\n",
    "\n",
    "fg.tight_layout()\n",
    "fg.savefig(\"area_crop.eps\")"
   ]
  },
  {
   "cell_type": "markdown",
   "metadata": {},
   "source": [
    "Here you clearly see that the production in China and in India are considerably bigger than those in United Kingdom or Switzerland. Therefore, we could argue that producing more is more efficient. However, the case of soybeans counterbalance this argument as the US is at the same time the biggest producer and least efficient producer of soybeans in terms of gas emissions. This could be put in relation with many other factors such as:\n",
    "\n",
    "- human vs machine use in fields,\n",
    "- automatisation,\n",
    "- technical knowledge in agriculture,\n",
    "- fertilizer and pesticide use.\n",
    "\n",
    "## Create a model to assess the environmental efficiency for each crop\n",
    "\n",
    "We will know create a model to predict the efficiency of each crop. This model will then be used to compute the emissions related to each crop in the near future. Based on this, we will also create a model to predict the agriculture type in each country in terms of crop development and area use in the next years. By combinig these two models, we will then try to predict the overall emissions for each country."
   ]
  },
  {
   "cell_type": "code",
   "execution_count": null,
   "metadata": {},
   "outputs": [],
   "source": [
    "def create_model_for_crop(crop):\n",
    "    cropData = cropsEmissionsNormalized.where(cropsEmissionsNormalized.category ==crop).dropna()\n",
    "    lm = LinearRegression()\n",
    "    \n",
    "    cropData = cropData.groupby(\"Year\").sum().reset_index()\n",
    "\n",
    "    X = cropData[[\"Year\"]]\n",
    "    Y = cropData[[\"Value emissions\"]]\n",
    "\n",
    "    lm.fit(X,Y)\n",
    "    \n",
    "    return lm\n",
    "\n",
    "models = []\n",
    "\n",
    "for crop in cropsEmissionsNormalized.category.unique():\n",
    "    models.append((crop,create_model_for_crop(crop)))\n",
    "    \n",
    "cropsModelsEmissionsPerUnitArea = pd.DataFrame(models, columns=(\"crop\",\"model_emissions\"))"
   ]
  },
  {
   "cell_type": "code",
   "execution_count": null,
   "metadata": {},
   "outputs": [],
   "source": [
    "fg = plt.figure(figsize=(10,10))\n",
    "\n",
    "i = 1\n",
    "listCrops = [\"wheat\",\"soybeans\", \"apples\", \"peas_dry\"]\n",
    "\n",
    "for c in listCrops:\n",
    "    #print(cropsEmissionsNormalized.where(cropsEmissionsNormalized.Area == c).dropna())\n",
    "    axes = fg.add_subplot(2,2,i)\n",
    "    cropData = cropsEmissionsNormalized.where(cropsEmissionsNormalized[\"category\"] == c)\\\n",
    "                                        .dropna()\\\n",
    "                                        .groupby(\"Year\").sum().reset_index()\n",
    "    try:\n",
    "        sns.regplot(x=\"Year\", y=\"Value emissions\",\\\n",
    "                    data=cropData,\\\n",
    "                    ax=axes)\n",
    "    except ValueError as e:\n",
    "        print(str(e))\n",
    "    axes.set_title(c)\n",
    "    i = i+1\n",
    "\n",
    "fg.tight_layout()\n",
    "fg.savefig(\"emissions_per_crop_prediction.pdf\")"
   ]
  },
  {
   "cell_type": "markdown",
   "metadata": {},
   "source": [
    "As it can be seen, some crops have a strong linear dependency while other crops can have very sparse data and a probably difficult to predict behaviour. In some cases it is very relevant to make linear regressions. For the sake of simplicity, we will keep the linear regressions for all the crops."
   ]
  },
  {
   "cell_type": "code",
   "execution_count": null,
   "metadata": {},
   "outputs": [],
   "source": [
    "def get_model_crop(crop, cropsData):\n",
    "    cropsData = cropsData.where(cropsData.category ==crop).dropna()\n",
    "    \n",
    "    lm = LinearRegression()\n",
    "    \n",
    "    cropsData = cropsData.groupby(\"Year\").sum().reset_index()\n",
    "    \n",
    "    X = cropsData[[\"Year\"]]\n",
    "    Y = cropsData[[\"Value area\"]]\n",
    "    \n",
    "    try:\n",
    "        lm.fit(X,Y)\n",
    "    except ValueError as e:\n",
    "        #print(str(e))\n",
    "        return np.nan\n",
    "    \n",
    "    return lm\n",
    "\n",
    "def get_model_crops_country(country):\n",
    "    cropsData = cropsEmissionsNormalized.where(cropsEmissionsNormalized.Area ==country).dropna()\n",
    "    \n",
    "    models = []\n",
    "\n",
    "    for crop in cropsEmissionsNormalized.category.unique():\n",
    "        models.append((crop,get_model_crop(crop, cropsData)))\n",
    "    \n",
    "    cropsModelsGrowth = pd.DataFrame(models, columns=(\"crop\",\"model_growth\"))\n",
    "    \n",
    "    return cropsModelsGrowth\n",
    "\n",
    "class PredictorEmissionsCountry():\n",
    "    def __init__(self, country, modelCrops, modelEmissionsByCrops):\n",
    "        self.country = country\n",
    "        self.modelCrops = modelCrops\n",
    "        self.modelEmissionsByCrops = modelEmissionsByCrops\n",
    "        \n",
    "    def predict_emissions(self, startYear, endYear):\n",
    "        years = []\n",
    "        for i in range(startYear, endYear):\n",
    "            years.append(i)\n",
    "            \n",
    "        def compute_production_area(row):\n",
    "            return (row.model_growth.predict(pd.DataFrame(years)),)\n",
    "        def compute_emissions_per_unit_area(row):\n",
    "            return (row.model_emissions.predict(pd.DataFrame(years)),)\n",
    "        def compute_emissions_per_unit_area(row):\n",
    "            return (row.model_emissions.predict(pd.DataFrame(years)),)\n",
    "        def compute_emissions(row):\n",
    "            return (row.production_area*row.emissions_per_unit_area,)\n",
    "        def flatten(arr):\n",
    "            flatArr = []\n",
    "            for i in arr:\n",
    "                flatArr.append(i[0])\n",
    "            return flatArr\n",
    "\n",
    "        m = pd.merge(self.modelCrops, self.modelEmissionsByCrops, how=\"left\", on=['crop']).dropna()\n",
    "        m = m.join(m.apply(compute_production_area, axis=1, result_type=\"expand\")).rename(columns={0:\"production_area\"})\n",
    "        \n",
    "        m = m.join(m.apply(compute_emissions_per_unit_area, axis=1, result_type=\"expand\")).rename(columns={0:\"emissions_per_unit_area\"})\n",
    "        m = m.join(m.apply(compute_emissions, axis=1, result_type=\"expand\")).rename(columns={0:\"emissions\"})\n",
    "        m.emissions = m.emissions.apply(flatten)\n",
    "        m = pd.DataFrame(m.emissions.tolist(), columns=years)\n",
    "\n",
    "        m = m.sum(0)\n",
    "        return pd.DataFrame(m,columns=[\"emissions\"]).reset_index().rename(columns={\"index\":\"year\"})\n",
    "\n",
    "def get_model_emissions_countries(listCountries):\n",
    "    #get_model_crops_country(country)\n",
    "    \n",
    "    predictorsEmissions = []\n",
    "\n",
    "    for country in cropsEmissionsNormalized.where(cropsEmissionsNormalized.Area.isin(listCountries)).dropna().Area.unique():\n",
    "        predictorsEmissions.append(PredictorEmissionsCountry(country,\\\n",
    "                                                            get_model_crops_country(country),\\\n",
    "                                                            cropsModelsEmissionsPerUnitArea))\n",
    "        print(\"Predictor for \" + country + \" done.\")\n",
    "    \n",
    "    return predictorsEmissions"
   ]
  },
  {
   "cell_type": "code",
   "execution_count": null,
   "metadata": {},
   "outputs": [],
   "source": [
    "models = get_model_emissions_countries(listCountries)\n",
    "\n",
    "fg = plt.figure(figsize=(15,15))\n",
    "\n",
    "i = 1\n",
    "\n",
    "for mc in models:\n",
    "    #print(cropsEmissionsNormalized.where(cropsEmissionsNormalized.Area == c).dropna())\n",
    "    emissions = mc.predict_emissions(2000,2040)\n",
    "    axes = fg.add_subplot(5,1,i)\n",
    "    try:\n",
    "        sns.lineplot(x=\"year\", y=\"emissions\",data=emissions,\\\n",
    "                    ax=axes)\n",
    "    except ValueError as e:\n",
    "        print(str(e))\n",
    "    axes.set_title(mc.country)\n",
    "    axes.set_ylabel(\"Emissions [Gg]\")\n",
    "    i = i+1\n",
    "\n",
    "fg.tight_layout()\n",
    "fg.savefig(\"emissions_prediction.eps\")"
   ]
  },
  {
   "cell_type": "markdown",
   "metadata": {},
   "source": [
    "Using the model above, these are the predictions for the emissions of the selected countries. It is very impressive to see how China and India, which could still be considered as developping countries if we consider the life quality of the poorest part of the population, have continuously increasing emissions. However, more developped countries such as US, UK and Switzerland seems to be able to mitigate and reverse the growth of their emissions."
   ]
  }
 ],
 "metadata": {
  "kernelspec": {
   "display_name": "Python 3",
   "language": "python",
   "name": "python3"
  },
  "language_info": {
   "codemirror_mode": {
    "name": "ipython",
    "version": 3
   },
   "file_extension": ".py",
   "mimetype": "text/x-python",
   "name": "python",
   "nbconvert_exporter": "python",
   "pygments_lexer": "ipython3",
   "version": "3.7.4"
  }
 },
 "nbformat": 4,
 "nbformat_minor": 4
}
