{
 "cells": [
  {
   "cell_type": "code",
   "execution_count": null,
   "metadata": {},
   "outputs": [],
   "source": [
    "import pandas as pd\n",
    "import numpy as np\n",
    "import seaborn as sns\n",
    "import matplotlib.pylab as plt\n",
    "from scipy import stats"
   ]
  },
  {
   "cell_type": "code",
   "execution_count": null,
   "metadata": {},
   "outputs": [],
   "source": [
    "%matplotlib inline"
   ]
  },
  {
   "cell_type": "markdown",
   "metadata": {},
   "source": [
    "Is the temporal evolution of agricultural land always correlated with the temporal evolution of the quantity of fertilizers used (and waste emission) or there’s some point in time where this trend slows or reverses for some countries?"
   ]
  },
  {
   "cell_type": "markdown",
   "metadata": {},
   "source": [
    "#### DATA PREPROCESSING"
   ]
  },
  {
   "cell_type": "code",
   "execution_count": null,
   "metadata": {},
   "outputs": [],
   "source": [
    "#Gettinge Merge Fertilisant df\n",
    "\n",
    "Fertdf=pd.read_csv('data/Inputs_FertilizersNutrient_E_All_Data.csv', sep=',',engine='python')\n",
    "colnames = ['Area','Item','Element','Y2002','Y2003','Y2004','Y2005','Y2006','Y2007','Y2008','Y2009','Y2010','Y2011','Y2012','Y2013',\n",
    "              'Y2014','Y2015','Y2016','Y2017']\n",
    "Newdf = Fertdf[colnames]\n",
    "Newdf = Newdf[Newdf.Element=='Agricultural Use']\n",
    "Newdf.columns = Newdf.columns.str.replace('Y','')\n",
    "Meltdf = pd.melt(Newdf, id_vars=['Area','Item','Element'], var_name='Year', value_name='Value').copy()\n",
    "#Meltdf.Year = Meltdf.Year.str.replace('Y','')\n",
    "Meltdf.Year = Meltdf.Year.astype('int64')\n",
    "colnitrogen = Meltdf[Meltdf.Item=='Nutrient nitrogen N (total)']\n",
    "colnitrogen = colnitrogen[['Area','Year','Value']]\n",
    "colnitrogen.columns=['Area','Year','NitrogenUse']\n",
    "colnitrogen = colnitrogen.set_index(['Area','Year'])\n",
    "colpho = Meltdf[Meltdf.Item=='Nutrient phosphate P2O5 (total)']\n",
    "colpho = colpho[['Area','Year','Value']]\n",
    "colpho.columns=['Area','Year','PhosphateUse']\n",
    "colpho = colpho.set_index(['Area','Year'])\n",
    "colpot = Meltdf[Meltdf.Item=='Nutrient potash K2O (total)']\n",
    "colpot = colpot[['Area','Year','Value']]\n",
    "colpot.columns=['Area','Year','PotashUse']\n",
    "colpot = colpot.set_index(['Area','Year'])\n",
    "tmp = pd.merge(colnitrogen,colpho, left_index=True,right_index=True)\n",
    "mergeFert = tmp.merge(colpot, left_index=True,right_index=True)"
   ]
  },
  {
   "cell_type": "code",
   "execution_count": null,
   "metadata": {},
   "outputs": [],
   "source": [
    "#Getting Production data\n",
    "df = pd.read_csv('data/Production_Crops_E_All_Data_(Normalized).csv', sep=',',engine='python')\n",
    "Proddf = df[df.Element=='Production']\n",
    "Proddf = Proddf[['Area','Item','Year','Value']]\n",
    "Proddf.columns = ['Area','Item','Year','Production']\n",
    "AreaHarvdf = df[df.Element=='Area harvested']\n",
    "AreaHarvdf = AreaHarvdf[['Area','Item','Year','Value']]\n",
    "AreaHarvdf.columns = ['Area','Item','Year','Harvested_Area']\n",
    "RecentProd = Proddf.query('Year > 2001')\n",
    "RecentAreaHarv = AreaHarvdf.query('Year > 2001')"
   ]
  },
  {
   "cell_type": "code",
   "execution_count": null,
   "metadata": {},
   "outputs": [],
   "source": [
    "#Adding the ratio of production over harvested area\n",
    "RecentProdHier = RecentProd.set_index(['Area','Item','Year'])\n",
    "RecentAreaHarvHier = RecentAreaHarv.set_index(['Area','Item','Year'])\n",
    "x = pd.merge(RecentProdHier,RecentAreaHarvHier, right_index=True,left_index=True)\n",
    "x = x.reset_index()\n",
    "x = x.dropna()\n",
    "y = x.Production/x.Harvested_Area\n",
    "x['Ratio_Prod_field']= y\n",
    "ratiodf = x"
   ]
  },
  {
   "cell_type": "markdown",
   "metadata": {},
   "source": [
    "#### PLOTTING FUNCTIONS"
   ]
  },
  {
   "cell_type": "code",
   "execution_count": null,
   "metadata": {},
   "outputs": [],
   "source": [
    "def plotFertandProd(area,item,Fertilisant):\n",
    "    #Plot one area's item with one fertilisant\n",
    "    strtemp = ' used in tonnes in '\n",
    "    title_=Fertilisant+strtemp+area\n",
    "    if(Fertilisant=='N'):\n",
    "        fer=4\n",
    "        x_label= 'Nitrogen use'\n",
    "    if(Fertilisant=='P'):\n",
    "        fer=5\n",
    "        x_label= 'Phosphate use'\n",
    "    if(Fertilisant=='K'):\n",
    "        fer=6\n",
    "        x_label= 'Potash use'\n",
    "    #Merging Production and Fertilisant for plotting\n",
    "    tmp = RecentProd[RecentProd.Item==item]\n",
    "    tmp = tmp.set_index(['Area','Year'])\n",
    "    dftoplot = tmp.merge(mergeFert,left_index=True,right_index=True, how='outer')\n",
    "    dftoplot = dftoplot.reset_index()\n",
    "    plotdata = dftoplot[dftoplot.Area==area]\n",
    "    for i,year in enumerate(plotdata.Year):\n",
    "        x = plotdata.iloc[i,fer]\n",
    "        y = plotdata.iloc[i,3]\n",
    "        plt.scatter(x, y, color='red')\n",
    "        plt.text(x+1, y+1, year, fontsize=7)\n",
    "    plt.ylabel(item)\n",
    "    plt.xlabel(x_label)\n",
    "    plt.title(title_)\n",
    "    plt.show()\n",
    "    return"
   ]
  },
  {
   "cell_type": "code",
   "execution_count": null,
   "metadata": {},
   "outputs": [],
   "source": [
    "def densityplotFertvsProd(area,item):\n",
    "    #Plot density of one country\n",
    "    tmp = RecentProd[RecentProd.Item==item]\n",
    "    tmp = tmp.set_index(['Area','Year'])\n",
    "    dftoplot = tmp.merge(mergeFert,left_index=True,right_index=True, how='outer')\n",
    "    dftoplot = dftoplot.reset_index()\n",
    "    plotdata = dftoplot[dftoplot.Area==area]\n",
    "    sns.jointplot(x=\"NitrogenUse\", y=\"Production\", data=plotdata, kind=\"kde\");\n",
    "    sns.jointplot(x=\"PhosphateUse\", y=\"Production\", data=plotdata, kind=\"kde\");\n",
    "    sns.jointplot(x=\"PotashUse\", y=\"Production\", data=plotdata, kind=\"kde\");\n",
    "    return"
   ]
  },
  {
   "cell_type": "code",
   "execution_count": null,
   "metadata": {},
   "outputs": [],
   "source": [
    "def densityplotFertvsProdAll(item):\n",
    "    #plot density of all Area\n",
    "    tmp = RecentProd[RecentProd.Item==item]\n",
    "    tmp = tmp.set_index(['Area','Year'])\n",
    "    dftoplot = tmp.merge(mergeFert,left_index=True,right_index=True, how='outer')\n",
    "    dftoplot = dftoplot.reset_index()\n",
    "    plotdata = dftoplot\n",
    "    print(plotdata.shape)\n",
    "    sns.jointplot(x=\"NitrogenUse\", y=\"Production\", data=plotdata, kind=\"kde\",xlim=[0,2000000],ylim=[0,15000000]);\n",
    "    sns.jointplot(x=\"PhosphateUse\", y=\"Production\", data=plotdata, kind=\"kde\",xlim=[0,750000],ylim=[0,15000000]);\n",
    "    sns.jointplot(x=\"PotashUse\", y=\"Production\", data=plotdata, kind=\"kde\",xlim=[0,750000],ylim=[0,15000000]);\n",
    "    return"
   ]
  },
  {
   "cell_type": "code",
   "execution_count": null,
   "metadata": {},
   "outputs": [],
   "source": [
    "def ScatterplotFertvsRatio(area,item):\n",
    "    #Plot density of one country\n",
    "    tmp = ratiodf[ratiodf.Item==item]\n",
    "    tmp = tmp.set_index(['Area','Year'])\n",
    "    dftoplot = tmp.merge(mergeFert,left_index=True,right_index=True, how='outer')\n",
    "    dftoplot = dftoplot.reset_index()\n",
    "    plotdata = dftoplot[dftoplot.Area==area]\n",
    "    sns.scatterplot(x=\"NitrogenUse\", y=\"Ratio_Prod_field\", data=plotdata);\n",
    "    plt.show()\n",
    "    sns.scatterplot(x=\"PhosphateUse\", y=\"Ratio_Prod_field\", data=plotdata);\n",
    "    plt.show()\n",
    "    sns.scatterplot(x=\"PotashUse\", y=\"Ratio_Prod_field\", data=plotdata);\n",
    "    plt.show()\n",
    "    return"
   ]
  },
  {
   "cell_type": "code",
   "execution_count": null,
   "metadata": {},
   "outputs": [],
   "source": [
    "    def R2(x, y):\n",
    "        return stats.pearsonr(x, y)[0] ** 2"
   ]
  },
  {
   "cell_type": "code",
   "execution_count": null,
   "metadata": {},
   "outputs": [],
   "source": [
    "def RegScatterplotFertvsRatio(area,item):\n",
    "    #Plot density of one country\n",
    "    tmp = ratiodf[ratiodf.Item==item]\n",
    "    tmp = tmp.set_index(['Area','Year'])\n",
    "    dftoplot = tmp.merge(mergeFert,left_index=True,right_index=True, how='outer')\n",
    "    dftoplot = dftoplot.reset_index()\n",
    "    plotdata = dftoplot[dftoplot.Area==area]\n",
    "    plotdata.dropna()\n",
    "    x = plotdata.NitrogenUse\n",
    "    y = plotdata.Ratio_Prod_field\n",
    "    sns.jointplot(x=\"NitrogenUse\", y=\"Ratio_Prod_field\", data=plotdata,kind='reg', stat_func=R2);\n",
    "    plt.show()\n",
    "    sns.jointplot(x=\"PhosphateUse\", y=\"Ratio_Prod_field\", data=plotdata,kind='reg',stat_func=R2);\n",
    "    plt.show()\n",
    "    sns.jointplot(x=\"PotashUse\", y=\"Ratio_Prod_field\", data=plotdata,kind='reg',stat_func=R2);\n",
    "    plt.show()\n",
    "    return"
   ]
  },
  {
   "cell_type": "markdown",
   "metadata": {},
   "source": [
    "#### DATA EXPLORATION"
   ]
  },
  {
   "cell_type": "markdown",
   "metadata": {},
   "source": [
    "Let's first see the progression of fertisant in time, globally we see continuous slow increase as we could have expected."
   ]
  },
  {
   "cell_type": "code",
   "execution_count": null,
   "metadata": {},
   "outputs": [],
   "source": [
    "sns.scatterplot(x='Year',y='Value',hue='Item',data=Meltdf[Meltdf.Area=='World'])\n",
    "plt.title('Fertilisant used in the worlds')\n",
    "plt.ylabel('Tonnes of Nutrient')\n",
    "plt.show()\n",
    "sns.scatterplot(x='Year',y='Value',hue='Item',data=Meltdf[Meltdf.Area=='Least Developed Countries'])\n",
    "plt.title('Fertilisant used in the least developed countries')\n",
    "plt.ylabel('Tonnes of Nutrient')\n",
    "plt.show()\n",
    "sns.scatterplot(x='Year',y='Value',hue='Item',data=Meltdf[Meltdf.Area=='Land Locked Developing Countries'])\n",
    "plt.title('Fertilisant used in the rich countries')\n",
    "plt.ylabel('Tonnes of Nutrient')\n",
    "plt.show()"
   ]
  },
  {
   "cell_type": "markdown",
   "metadata": {},
   "source": [
    "To have an idee of the added value of fertilisant, let start looking by the global density of fertilizers use and wheat production in tons, we cannot see any kind of linear correlation between the quantities of fertilisant used and production. The Indeed Data is just centralised in rectangular manner:"
   ]
  },
  {
   "cell_type": "code",
   "execution_count": null,
   "metadata": {},
   "outputs": [],
   "source": [
    "item = 'Wheat'\n",
    "densityplotFertvsProdAll(item)"
   ]
  },
  {
   "cell_type": "markdown",
   "metadata": {},
   "source": [
    "Let's have a closer look in USA's wheat production, here we still see no evident correlation."
   ]
  },
  {
   "cell_type": "code",
   "execution_count": null,
   "metadata": {},
   "outputs": [],
   "source": [
    "area = \"United States of America\"\n",
    "item = 'Wheat'\n",
    "Fertilisant = 'N' #N P K\n",
    "plotFertandProd(area,item,Fertilisant)\n",
    "\n",
    "area = \"United States of America\"\n",
    "item = 'Wheat'\n",
    "Fertilisant = 'P' #N P K\n",
    "plotFertandProd(area,item,Fertilisant)\n",
    "\n",
    "area = \"United States of America\"\n",
    "item = 'Wheat'\n",
    "Fertilisant = 'K' #N P K\n",
    "plotFertandProd(area,item,Fertilisant)"
   ]
  },
  {
   "cell_type": "code",
   "execution_count": null,
   "metadata": {},
   "outputs": [],
   "source": [
    "area = \"United States of America\"\n",
    "item = 'Seed cotton'\n",
    "Fertilisant = 'N' #N P K\n",
    "plotFertandProd(area,item,Fertilisant)\n",
    "\n",
    "area = \"United States of America\"\n",
    "item = 'Seed cotton'\n",
    "Fertilisant = 'P' #N P K\n",
    "plotFertandProd(area,item,Fertilisant)\n",
    "\n",
    "area = \"United States of America\"\n",
    "item = 'Seed cotton'\n",
    "Fertilisant = 'K' #N P K\n",
    "plotFertandProd(area,item,Fertilisant)"
   ]
  },
  {
   "cell_type": "markdown",
   "metadata": {},
   "source": [
    "In contrast the USA's seed production a shows more correlation:"
   ]
  },
  {
   "cell_type": "code",
   "execution_count": null,
   "metadata": {},
   "outputs": [],
   "source": [
    "area = 'World'\n",
    "item = 'Seed cotton'\n",
    "Fertilisant = 'N' #N P K\n",
    "plotFertandProd(area,item,Fertilisant)\n",
    "\n",
    "area = \"United States of America\"\n",
    "item = 'Seed cotton'\n",
    "Fertilisant = 'P' #N P K\n",
    "plotFertandProd(area,item,Fertilisant)\n",
    "\n",
    "area = \"United States of America\"\n",
    "item = 'Seed cotton'\n",
    "Fertilisant = 'K' #N P K\n",
    "plotFertandProd(area,item,Fertilisant)"
   ]
  },
  {
   "cell_type": "markdown",
   "metadata": {},
   "source": [
    "One thing we have to care about is the fact that the more crop area is harvested, the more will be the production. So let's divide our production by the harvest area is h2 in order to diminish that bias.\n",
    "Here, we plot the world average production in tons divided by harved area in hectars with the 3 fertilisants used.\n",
    "In this case, we see a more direct correlation between fertilisant used and production (R2= ~0.75), which make difficult \n",
    "to ask farmer to use less fertlisant!:"
   ]
  },
  {
   "cell_type": "code",
   "execution_count": null,
   "metadata": {},
   "outputs": [],
   "source": [
    "area = 'World'\n",
    "item = 'Seed cotton'\n",
    "RegScatterplotFertvsRatio(area,item)"
   ]
  },
  {
   "cell_type": "markdown",
   "metadata": {},
   "source": [
    "But if we look at wheat production here USA, there is absolute no correlation. One explaination is that once the field has sufficient ressource, adding fertilisant won't increase the production anymore. \n",
    "This means that no correlation indirectly involve that too much fertilisant is used:"
   ]
  },
  {
   "cell_type": "code",
   "execution_count": null,
   "metadata": {},
   "outputs": [],
   "source": [
    "area = 'United States of America'\n",
    "item = 'Wheat'\n",
    "RegScatterplotFertvsRatio(area,item)"
   ]
  },
  {
   "cell_type": "markdown",
   "metadata": {},
   "source": [
    "By looking in rich and other countries, we see that the countries in devlepement have a linear corelation of fertilisant. \n",
    "This might come by the fact that they can't afford to saturate their field with artificial nutrient: "
   ]
  },
  {
   "cell_type": "code",
   "execution_count": null,
   "metadata": {},
   "outputs": [],
   "source": [
    "area = 'Least Developed Countries'\n",
    "item = 'Wheat'\n",
    "RegScatterplotFertvsRatio(area,item)"
   ]
  },
  {
   "cell_type": "code",
   "execution_count": null,
   "metadata": {},
   "outputs": [],
   "source": [
    "area = 'Land Locked Developing Countries'\n",
    "item = 'Wheat'\n",
    "RegScatterplotFertvsRatio(area,item)"
   ]
  },
  {
   "cell_type": "markdown",
   "metadata": {},
   "source": [
    "#### Q5 Conclusion\n",
    "\n",
    "There is no direct relation of the time and ratio of production/fertilisant.\n",
    "The use of fertilisant increase slowly with time consistant with the increased needs of the continuously rising population.\n",
    "\n",
    "We can see that on world wide fertilisant used, the production is linearly correlated to fertilisant, but not on richer country. Indeed, rich country seem to over-saturate their field with artifical nutrient while the other countries are more cautious with the fertilisation.\n",
    "\n",
    "We can conclude that richer country should reduce their fertilisant use in order to avoid polution and waste. In opposition, some other countries should increase the fertilisant use in order to have more production."
   ]
  },
  {
   "cell_type": "markdown",
   "metadata": {},
   "source": [
    "#### To do next\n",
    "For the final report, it would be nice to have more geographic, dynamic and esthetic plot."
   ]
  }
 ],
 "metadata": {
  "kernelspec": {
   "display_name": "Python 3",
   "language": "python",
   "name": "python3"
  },
  "language_info": {
   "codemirror_mode": {
    "name": "ipython",
    "version": 3
   },
   "file_extension": ".py",
   "mimetype": "text/x-python",
   "name": "python",
   "nbconvert_exporter": "python",
   "pygments_lexer": "ipython3",
   "version": "3.7.4"
  }
 },
 "nbformat": 4,
 "nbformat_minor": 2
}
