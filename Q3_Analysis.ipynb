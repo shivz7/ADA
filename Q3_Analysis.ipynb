{
 "cells": [
  {
   "cell_type": "code",
   "execution_count": null,
   "metadata": {},
   "outputs": [],
   "source": [
    "%matplotlib inline\n",
    "import pandas as pd\n",
    "import numpy as np\n",
    "import re\n",
    "from matplotlib.ticker import MaxNLocator\n",
    "import matplotlib.pyplot as plt\n",
    "import requests\n",
    "from bs4 import BeautifulSoup\n",
    "import statsmodels\n",
    "import folium\n",
    "import math\n",
    "\n",
    "# Custom imports\n",
    "from ipywidgets import IntProgress\n",
    "from IPython.display import display\n",
    "import time\n",
    "from multiprocessing import Pool, Lock\n",
    "import os\n",
    "import json\n",
    "import seaborn as sns\n",
    "import time"
   ]
  },
  {
   "cell_type": "markdown",
   "metadata": {},
   "source": [
    "# **Question 3 - Analysis**\n",
    "\n",
    "Is it possible to rank some patterns of land usage with social and environmental factors such as employment, life satisfaction (if data are presents), income inequalities (if data are presents), emissions and finally soil quality and sustainability?"
   ]
  },
  {
   "cell_type": "markdown",
   "metadata": {},
   "source": [
    "As we saw in the data cleaning nootebook, it is messy and difficult to do analysis for more than 5 countries. Therefore, we reduce our subset to the five following countires: China, India, USA, UK, Switzerland\n",
    "\n",
    "We chose these countries because we were interested in them and thought that we might find interesting results as they are somehow special countries:\n",
    "\n",
    "- China has had a massive growth and is now world leading.\n",
    "- India is a big country with a very traditional soul and also huge growth in the recent years.\n",
    "- USA has always been a world power however it has not been growing as fast as the above countires in the recent years.\n",
    "- UK has been a leader in Europe and has had several interesting events in the recent years such as Brexit.\n",
    "- Switzerland has always been rather stable and it's the country we live in :)"
   ]
  },
  {
   "cell_type": "code",
   "execution_count": null,
   "metadata": {},
   "outputs": [],
   "source": [
    "countries = ['China', 'India', 'United States of America', 'United Kingdom', 'Switzerland']"
   ]
  },
  {
   "cell_type": "code",
   "execution_count": null,
   "metadata": {},
   "outputs": [],
   "source": [
    "# read cleaned data:\n",
    "dataLands         = pd.read_pickle('data/dataLand.pkl')\n",
    "dataSoil          = pd.read_pickle('data/dataSoil.pkl')\n",
    "employment        = pd.read_pickle('data/employment.pkl')\n",
    "lifeExp           = pd.read_pickle('data/lifeExp.pkl')\n",
    "nonFatatlInjuries = pd.read_pickle('data/nonFatalInjuries.pkl')\n",
    "addedValue        = pd.read_pickle('data/valueAdded.pkl')"
   ]
  },
  {
   "cell_type": "code",
   "execution_count": null,
   "metadata": {},
   "outputs": [],
   "source": [
    "# reduce the data to selected countries\n",
    "dataLands  = dataLands.loc[dataLands['country_or_area'].isin(countries)].reset_index(drop=True)\n",
    "dataSoil   = dataSoil.loc[dataSoil['Country'].isin(countries)].reset_index(drop=True)\n",
    "employment = employment.loc[employment['country_or_area'].isin(countries)].reset_index(drop=True)\n",
    "lifeExp    = lifeExp.loc[lifeExp['country_or_area'].isin(countries)].reset_index(drop=True)\n",
    "injuries   = nonFatatlInjuries.loc[nonFatatlInjuries['country_or_area'].isin(countries)].reset_index(drop=True)\n",
    "addedValue = addedValue.loc[addedValue['country_or_area'].isin(countries)].reset_index(drop=True)"
   ]
  },
  {
   "cell_type": "markdown",
   "metadata": {},
   "source": [
    "## Population Data\n",
    "\n",
    "We also acquired some new data on world population via the link below. We selected our list of countries directly on the website as it's simpler.\n",
    "\n",
    "https://databank.worldbank.org/reports.aspx?source=2&series=SP.POP.TOTL&country=#"
   ]
  },
  {
   "cell_type": "code",
   "execution_count": null,
   "metadata": {},
   "outputs": [],
   "source": [
    "population = pd.read_csv('data/population.csv').dropna()"
   ]
  },
  {
   "cell_type": "code",
   "execution_count": null,
   "metadata": {},
   "outputs": [],
   "source": [
    "population.drop(columns= ['Country Code', 'Series Code', 'Series Name'], inplace=True)\n",
    "population"
   ]
  },
  {
   "cell_type": "code",
   "execution_count": null,
   "metadata": {},
   "outputs": [],
   "source": [
    "# the columns above are ugly: we create a dictionary to replace them with values afterwards\n",
    "col_years = dict((col,year) for col,year in zip(population.columns[1:], np.arange(1960,2019)))"
   ]
  },
  {
   "cell_type": "code",
   "execution_count": null,
   "metadata": {},
   "outputs": [],
   "source": [
    "population = population.melt(id_vars=['Country Name'], var_name= 'year', value_name= 'value')\n",
    "population.replace(col_years, inplace=True)\n",
    "\n",
    "# rename USA\n",
    "population.replace({'United States':'United States of America'}, inplace=True)\n",
    "population.head(6)"
   ]
  },
  {
   "cell_type": "code",
   "execution_count": null,
   "metadata": {},
   "outputs": [],
   "source": [
    "grPopulation = population.groupby('Country Name')\n",
    "\n",
    "plt.figure(figsize=(10,10))\n",
    "for country in countries:\n",
    "    \n",
    "    sns.lineplot(x=grPopulation.get_group(country).year, y=grPopulation.get_group(country).value, label=country)\n",
    "    \n",
    "plt.ylabel('Population')\n",
    "plt.title('Relative evolution of popularion');"
   ]
  },
  {
   "cell_type": "markdown",
   "metadata": {},
   "source": [
    "We can see that the population of India and China grows really fast compared to USA. The population of UK and Switzerland are pretty satble."
   ]
  },
  {
   "cell_type": "code",
   "execution_count": null,
   "metadata": {},
   "outputs": [],
   "source": [
    "# groupe by country\n",
    "grdataLands = dataLands.groupby('country_or_area')\n",
    "\n",
    "plt.figure(figsize=(10,10))\n",
    "for country in countries:\n",
    "    # result list\n",
    "    norm_land = []\n",
    "    # we normalize the total land area by population each year\n",
    "    for year in grdataLands.get_group(country).year.values:\n",
    "        \n",
    "        #compute Land / Population ratio for each year\n",
    "        ratio = grdataLands.get_group(country)[grdataLands.get_group(country).year == year].value.values/ \\\n",
    "                grPopulation.get_group(country)[grPopulation.get_group(country).year == year].value.values\n",
    "        \n",
    "        norm_land.append([year, ratio[0]])\n",
    "        \n",
    "    sns.lineplot(x=[row[0] for row in norm_land], y=[row[1] for row in norm_land], label=country, estimator=None)\n",
    "    \n",
    "plt.ylabel('land area / population')\n",
    "plt.title('Relative evolution of agricultural land areas');"
   ]
  },
  {
   "cell_type": "markdown",
   "metadata": {},
   "source": [
    "We see some strange kinks in Switzerland; Let's investigate"
   ]
  },
  {
   "cell_type": "code",
   "execution_count": null,
   "metadata": {},
   "outputs": [],
   "source": [
    "# Switzerland agricultural land and population\n",
    "fig, ax = plt.subplots(nrows=1, ncols=2, figsize=(10,5))\n",
    "sns.lineplot(x=grPopulation.get_group('Switzerland').year, y=grPopulation.get_group('Switzerland').value, label='Switzerland', ax=ax[0])\n",
    "ax[0].set_title('Population')\n",
    "sns.lineplot(x=grdataLands.get_group('Switzerland').year, y=grdataLands.get_group('Switzerland').value, label='Switzerland', ax=ax[1])\n",
    "ax[1].set_title('Agricultural Lands');"
   ]
  },
  {
   "cell_type": "markdown",
   "metadata": {},
   "source": [
    "The problem comes from the Land data; According to Encyclopedia.com :\"Swiss agricultural policy is highly regulated, with fixed prices and quota restrictions maintained on several products. Domestic production is encouraged by the imposition of protective customs and duties on imported goods, and by restrictions on imports. The Federal Council has the authority to fix prices of bread grains, flour, milk, and other foodstuffs. Production costs in Switzerland, as well as international exchange rates favorable to the Swiss franc, make competition with foreign products difficult. This highly protectionist system has led to excess production and mounting costs associated with the management of surpluses. The Uruguay Round and subsequent Swiss implementation of its provisions in July 1995 (along with rising costs in the agricultural sector) has forced the government to begin reforming its agricultural support system.\"\n",
    "\n",
    "This could be a potential explanation for this behavior, however the kinks in the graph don't really matter for the overall analysis."
   ]
  },
  {
   "cell_type": "markdown",
   "metadata": {},
   "source": [
    "We will now investage agricultural employment for each country, comparing male and female employment. As China has only reported the total employments (no male/female separation) it doesn't figure in the first subplots."
   ]
  },
  {
   "cell_type": "code",
   "execution_count": null,
   "metadata": {},
   "outputs": [],
   "source": [
    "# groupe by country\n",
    "grEmployment = employment.groupby(['country_or_area','sex.label'])\n",
    "\n",
    "plt.figure(figsize=(10,10))\n",
    "fig, ax = plt.subplots(nrows=1, ncols=4, figsize=(20,5))\n",
    "\n",
    "for i,country in enumerate(['India', 'United States of America', 'United Kingdom', 'Switzerland']):\n",
    "    \n",
    "    sns.lineplot(x=grEmployment.get_group((country, 'male')).year, y=grEmployment.get_group((country, 'male')).value, label='Male', ax=ax[i])\n",
    "    sns.lineplot(x=grEmployment.get_group((country, 'female')).year, y=grEmployment.get_group((country, 'female')).value, label='Female', ax=ax[i])\n",
    "    ax[i].set_title('Agricultural employment in '+country)"
   ]
  },
  {
   "cell_type": "markdown",
   "metadata": {},
   "source": [
    "We observe several interesting facts:\n",
    "- The gap between male and female employment in agriculture decreases over time for USA, UK and Switzerland but stays rather stable for India.\n",
    "- Comparing males and females employment, we notice that female agricultural employment stays rather stable over time but the male employment decreases. An explanation for this observation could be the relationship of farmers of different sexes with \"technology\" and automatization. In fact, the major reason of the decrease in agricultural employment could be industrialization and the automatization of agriculture using technology and machines:\n",
    "\n",
    "    - The male's labor in agriculture back in time has been gradually replaced by machines.\n",
    "    - Agricultural industrialization had lower impact on females labor as they probably were not the ones harvesting the plants.\n",
    "    \n",
    "    \n",
    "- We also notice a strange downward kink in USA's chart right before year 2000. This could be due to a big technological leap in agriculture but it is most likely due to the dot-com bubble as many people during that year converted to 'entrepreneurs' creating random websites and easiliy obtain fundings and revenue."
   ]
  },
  {
   "cell_type": "code",
   "execution_count": null,
   "metadata": {},
   "outputs": [],
   "source": [
    "# total aggricultural employment\n",
    "plt.figure(figsize=(10,10))\n",
    "for country in countries:\n",
    "    # store normalized employment in a list\n",
    "    norm_employment = []\n",
    "    \n",
    "    # we normalize the total employment by population each year\n",
    "    for year in grEmployment.get_group((country, 'total')).year.values:\n",
    "        \n",
    "        if year >= 1960:   # population starting year\n",
    "            #compute Land / Population ratio for each year\n",
    "            ratio = grEmployment.get_group((country, 'total'))[grEmployment.get_group((country, 'total')).year == year].value.values/ \\\n",
    "                    grPopulation.get_group(country)[grPopulation.get_group(country).year == year].value.values\n",
    "\n",
    "            norm_employment.append([year, ratio[0]])\n",
    "        \n",
    "    sns.lineplot(x=[row[0] for row in norm_employment], y=[row[1] for row in norm_employment], label=country, estimator=None)\n",
    "    \n",
    "plt.ylabel('employment / population')\n",
    "plt.title('Relative evolution of agricultural employment');"
   ]
  },
  {
   "cell_type": "markdown",
   "metadata": {},
   "source": [
    "We observe that China has the highest ratio of relative agricultural employment followed by India, Switzerland, USA and UK."
   ]
  },
  {
   "cell_type": "markdown",
   "metadata": {},
   "source": [
    "### Life Expectancy"
   ]
  },
  {
   "cell_type": "code",
   "execution_count": null,
   "metadata": {},
   "outputs": [],
   "source": [
    "grLifeExp = lifeExp.groupby('country_or_area')\n",
    "\n",
    "plt.figure(figsize=(10,10))\n",
    "for country in countries:\n",
    "    sns.lineplot(x=grLifeExp.get_group(country).year, y=grLifeExp.get_group(country).value, label=country)\n",
    "    \n",
    "plt.ylabel('Life expectancy')\n",
    "plt.title('Evolution of life expectancy');"
   ]
  },
  {
   "cell_type": "markdown",
   "metadata": {},
   "source": [
    "## Economic Added Value"
   ]
  },
  {
   "cell_type": "code",
   "execution_count": null,
   "metadata": {},
   "outputs": [],
   "source": [
    "grAddedValue = addedValue.groupby('country_or_area')\n",
    "\n",
    "plt.figure(figsize=(10,10))\n",
    "for country in countries:\n",
    "    # store normalized employment in a list\n",
    "    norm_addedValue = []\n",
    "    \n",
    "    # we normalize the total employment by population each year\n",
    "    for year in grAddedValue.get_group(country).year.values:\n",
    "        \n",
    "        if year >= 1960:   # population starting year\n",
    "            #compute Land / Population ratio for each year\n",
    "            ratio = grAddedValue.get_group(country)[grAddedValue.get_group(country).year == year].value.values/ \\\n",
    "                    grPopulation.get_group(country)[grPopulation.get_group(country).year == year].value.values\n",
    "\n",
    "            norm_addedValue.append([year, ratio[0]])\n",
    "        \n",
    "    sns.lineplot(x=[row[0] for row in norm_addedValue], y=[row[1] for row in norm_addedValue], label=country, estimator=None)\n",
    "    \n",
    "plt.ylabel('economic added value')\n",
    "plt.title('Agriculture economic added value');"
   ]
  },
  {
   "cell_type": "markdown",
   "metadata": {},
   "source": [
    "It is interesting to notice that india has the largest economical added value via agriculture, however it has the smallest aggricultural land to population ratio."
   ]
  },
  {
   "cell_type": "code",
   "execution_count": null,
   "metadata": {},
   "outputs": [],
   "source": [
    "dataSoil"
   ]
  },
  {
   "cell_type": "code",
   "execution_count": null,
   "metadata": {},
   "outputs": [],
   "source": []
  }
 ],
 "metadata": {
  "kernelspec": {
   "display_name": "Python 3",
   "language": "python",
   "name": "python3"
  },
  "language_info": {
   "codemirror_mode": {
    "name": "ipython",
    "version": 3
   },
   "file_extension": ".py",
   "mimetype": "text/x-python",
   "name": "python",
   "nbconvert_exporter": "python",
   "pygments_lexer": "ipython3",
   "version": "3.7.5"
  }
 },
 "nbformat": 4,
 "nbformat_minor": 4
}
