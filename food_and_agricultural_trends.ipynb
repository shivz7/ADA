{
 "cells": [
  {
   "cell_type": "markdown",
   "metadata": {},
   "source": [
    "# Food and Agricultural Trends\n",
    "\n",
    "**Team Papillon**\n",
    "\n",
    "Nowadays, environmental problems are becoming more and more serious and urgent to deal with. We cannot deny the impact of food and agriculture in general, on the environment. If we consider what we eat and how we grow it, we would find extensive damage to the environment (green gas emissions, soil depletion etc.) and also the wildlife (due to pesticides, fertilizers etc.). We are looking to use the data provided by FAOSTAT giving access to over 3 million time-series and cross sectional data relating to food and agriculture all over the world and try to generate insights and stories on the evolution of different socio-environmental factors such as the correlation between greenhouse gas emissions and agricultural growth for example. Through this work, we hope to gain a deeper insight on the evolution and the environmental impact of agriculture and food.\n",
    "\n",
    "## Question 1 and 2\n",
    "\n",
    "### Could we find and support a correlation between greenhouse gas emissions and agricultural growth? Could we also assess the influence of the type of culture on the emissions?\n",
    "### Based on this, is it possible to make predictions of greenhouse gas emissions by extrapolating the agricultural growth and land usage?"
   ]
  },
  {
   "cell_type": "code",
   "execution_count": null,
   "metadata": {},
   "outputs": [],
   "source": [
    "%matplotlib inline\n",
    "import pandas as pd\n",
    "import numpy as np\n",
    "import re\n",
    "from matplotlib.ticker import MaxNLocator\n",
    "import matplotlib.pyplot as plt\n",
    "import requests\n",
    "from bs4 import BeautifulSoup\n",
    "import statsmodels\n",
    "import folium\n",
    "import math\n",
    "\n",
    "# Custom imports\n",
    "from ipywidgets import IntProgress\n",
    "from IPython.display import display\n",
    "import time\n",
    "from multiprocessing import Pool, Lock\n",
    "import os\n",
    "import json\n",
    "import seaborn as sns\n",
    "import time\n",
    "from scipy import stats\n",
    "\n",
    "from sklearn.linear_model import LinearRegression, LogisticRegression, Ridge\n",
    "from sklearn.preprocessing import OneHotEncoder\n",
    "from sklearn.decomposition import PCA\n",
    "from sklearn.model_selection import cross_val_predict\n",
    "from sklearn.model_selection import cross_val_score\n",
    "from sklearn.metrics import mean_squared_error\n",
    "from sklearn.pipeline import Pipeline\n",
    "from sklearn.preprocessing   import StandardScaler"
   ]
  },
  {
   "cell_type": "markdown",
   "metadata": {},
   "source": [
    "## Question 1 and 2\n",
    "\n",
    "### Could we find and support a correlation between greenhouse gas emissions and agricultural growth? Could we also assess the influence of the type of culture on the emissions?\n",
    "### Based on this, is it possible to make predictions of greenhouse gas emissions by extrapolating the agricultural growth and land usage?"
   ]
  },
  {
   "cell_type": "markdown",
   "metadata": {},
   "source": [
    "## Importing the data\n",
    "\n",
    "In order to find a model that helps in the understanding of the role of the variety of crops in the ecological influence of the agriculture, we need 3 datasets:\n",
    "\n",
    "- The land usage\n",
    "- The crops cultures\n",
    "- The emissions related to the agriculture\n"
   ]
  },
  {
   "cell_type": "code",
   "execution_count": null,
   "metadata": {},
   "outputs": [],
   "source": [
    "dataLands = pd.read_csv(\"./data/fao_data_land_data.csv\")\n",
    "\n",
    "dataCrops = pd.read_csv(\"./data/fao_data_crops_data.csv\")\n",
    "\n",
    "dataEmissions = pd.read_csv(\"./data/current_FAO/raw_files/Environment_Emissions_by_Sector_E_All_Data_(Normalized).csv\", encoding=\"cp1252\")"
   ]
  },
  {
   "cell_type": "markdown",
   "metadata": {},
   "source": [
    "## Cleaning\n",
    "\n",
    "- Removing NAN\n",
    "- Removing useless columns"
   ]
  },
  {
   "cell_type": "code",
   "execution_count": null,
   "metadata": {},
   "outputs": [],
   "source": [
    "dataLands = dataLands.dropna(subset=[\"element\"])\n",
    "\n",
    "dataCrops = dataCrops.dropna(subset=[\"element\"])\n",
    "\n",
    "dataEmissionsAgriculture = dataEmissions.where(dataEmissions[\"Item\"] == \"Agriculture total\").where(dataEmissions[\"Element\"] == \"Emissions (CO2eq)\").dropna()\n",
    "dataEmissionsAgriculture = dataEmissionsAgriculture.drop([\"Item\", \"Element Code\", \"Element\", \"Item Code\", \"Year Code\", \"Flag\"], axis=1)\\\n",
    "                                                    .rename(columns={\"Unit\":\"Unit emissions\",\"Value\":\"Value emissions\"})"
   ]
  },
  {
   "cell_type": "markdown",
   "metadata": {},
   "source": [
    "Here is a graph that shows the progression of land usage within each continent."
   ]
  },
  {
   "cell_type": "code",
   "execution_count": null,
   "metadata": {},
   "outputs": [],
   "source": [
    "def cond_countries(dataLands):\n",
    "    countries = [\"Asia +\",\"Europe +\", \"Americas +\", \"Oceania +\", \"Africa +\"]\n",
    "    truthTable = (dataLands[\"country_or_area\"] == countries[0])\n",
    "    for c in countries:\n",
    "        truthTable = (dataLands[\"country_or_area\"] == c) | truthTable\n",
    "    return truthTable\n",
    "\n",
    "dataLandsContinent = dataLands.where(dataLands[\"category\"] == \"agricultural_area\")\\\n",
    "                                .where(cond_countries(dataLands))\\\n",
    "                                .dropna(subset=[\"country_or_area\"])\\\n",
    "                                .sort_values(\"value\",ascending=False)\n",
    "\n",
    "sns.set(style=\"darkgrid\")\n",
    "\n",
    "fg = plt.figure(figsize=(20,20))\n",
    "axes = fg.add_subplot()\n",
    "# Plot the responses for different events and regions\n",
    "sns.lineplot(x=\"year\", y=\"value\", style=\"country_or_area\", data=dataLandsContinent, hue=\"country_or_area\", ax=axes)\n",
    "\n",
    "fg.show()"
   ]
  },
  {
   "cell_type": "markdown",
   "metadata": {},
   "source": [
    "Here are the emissions of the BRICS throughout the years. We can see a clear progression (except for South Africa)."
   ]
  },
  {
   "cell_type": "code",
   "execution_count": null,
   "metadata": {},
   "outputs": [],
   "source": [
    "sns.set(style=\"darkgrid\")\n",
    "\n",
    "dataEmissionsAgrContinent = dataEmissionsAgriculture.where(dataEmissionsAgriculture[\"Area\"].isin([\"South Africa\",\"Brazil\", \"China\", \"India\", \"USSR\",\"Russian Federation\"])).dropna()\n",
    "\n",
    "fg = plt.figure(figsize=(20,20))\n",
    "axes = fg.add_subplot()\n",
    "# Plot the responses for different events and regions\n",
    "sns.lineplot(x=\"Year\", y=\"Value emissions\", style=\"Area\", data=dataEmissionsAgrContinent, hue=\"Area\", ax=axes)\n",
    "\n",
    "fg.show()"
   ]
  },
  {
   "cell_type": "markdown",
   "metadata": {},
   "source": [
    "## Creating the dataset for processing\n",
    "\n",
    "The dataset we create for processing consist in the aggregation of the area harvested of for each crop, by year and by country, and the emissions of greenhouse gases by year and by country as well. The goal will be to find a model that explain and helps in predicting the emissions, based on the other features (country, year and crops)."
   ]
  },
  {
   "cell_type": "code",
   "execution_count": null,
   "metadata": {},
   "outputs": [],
   "source": [
    "crops = dataCrops.drop([\"element_code\"], axis=1)\\\n",
    "                .where(dataCrops[\"element\"] == \"Area Harvested\")\\\n",
    "                .dropna(subset=[\"element\"])\\\n",
    "                .drop([\"element\", \"value_footnotes\"],axis=1)\\\n",
    "                .rename(columns={\"unit\":\"Unit area\", \"value\":\"Value area\", \"year\":\"Year\",\"country_or_area\":\"Area\"})\n",
    "#                                .where(dataCrops[\"country_or_area\"] == \"World +\")\\\n",
    "cropsAndEmissions = crops.pivot_table(values='Value area',index=[\"Area\",\"Year\"],columns=\"category\").reset_index()\n",
    "cropsAndEmissions = cropsAndEmissions.fillna(0)\n",
    "cropsAndEmissions = pd.merge(cropsAndEmissions, dataEmissionsAgriculture, how=\"left\", on=['Area',\"Year\"])#.dropna(subset=[\"Value area\", \"Value emissions\"])\n",
    "cropsAndEmissions = cropsAndEmissions.dropna().dropna(subset=[\"Unit emissions\"])\n",
    "cropsAndEmissions"
   ]
  },
  {
   "cell_type": "markdown",
   "metadata": {},
   "source": [
    "## Learning to predict emissions\n",
    "\n",
    "Here, we try to create a model by doing a logistic regression on the data. We first try to optimize the alpha parameter on a predefined interval and then we use it to train the model."
   ]
  },
  {
   "cell_type": "code",
   "execution_count": null,
   "metadata": {},
   "outputs": [],
   "source": [
    "SEED = 1\n",
    "st_pipeline = Pipeline([('scl', StandardScaler()), ('ridge', Ridge(copy_X=True, random_state=SEED))])\n",
    "st_pipeline\n",
    "\n",
    "#features = [\"Area\",\"category\"]\n",
    "\n",
    "XRidge2 = pd.get_dummies(cropsAndEmissions.drop([\"Area Code\",\"Unit emissions\", \"Value emissions\"], axis=1))\n",
    "yRidge2 = cropsAndEmissions[\"Value emissions\"]\n",
    "\n",
    "results = []\n",
    "\n",
    "# Tune for alpha using 10 fold crossvalidation when calculating the mean squared error.\n",
    "for alpha in np.linspace(-100, 100, 32):\n",
    "    st_pipeline.set_params(ridge__alpha= alpha) \n",
    "    neg_MSE = cross_val_score(st_pipeline, XRidge2, yRidge2, scoring='neg_mean_squared_error', cv=10)  # we use 10 folds crossvalidation since 10 \n",
    "                                                                                                      # is pretty much standard in the industry\n",
    "    results.append([neg_MSE, alpha])\n",
    "    \n",
    "# Take the mean MSE for each level of alpha\n",
    "for i in range(len(results)):\n",
    "    results[i][0] = -np.mean(results[i][0])\n",
    "    \n",
    "# Plot the results\n",
    "plt.figure(figsize=(20,20))\n",
    "plt.plot([row[1] for row in results], [row[0] for row in results])\n",
    "plt.xlabel('alpha')\n",
    "plt.ylabel('MSE')\n",
    "plt.title('Tuning alpha');\n",
    "plt.grid()\n",
    "\n",
    "best_st_alpha = min(results)[1]\n",
    "print('Best alpha is', best_st_alpha, 'with a MSE of', min(results)[0],'.')"
   ]
  },
  {
   "cell_type": "code",
   "execution_count": null,
   "metadata": {},
   "outputs": [],
   "source": [
    "st_Model = st_pipeline.set_params(ridge__alpha= best_st_alpha)  # use best alpha calculated above\n",
    "st_Model.fit(XRidge2, yRidge2)                                  # fit the new model"
   ]
  },
  {
   "cell_type": "code",
   "execution_count": null,
   "metadata": {},
   "outputs": [],
   "source": [
    "#st_Model.named_steps[\"ridge\"].coef_\n",
    "weights = pd.DataFrame([XRidge2.columns,st_Model.named_steps[\"ridge\"].coef_]).transpose().sort_values(1)\n",
    "weights"
   ]
  },
  {
   "cell_type": "markdown",
   "metadata": {},
   "source": [
    "Further analysis will be conducted in order to create efficient predictions. This first analysis already gave us clear insight of the data and helps us in assessing the feasability of this research.\n",
    "\n",
    "## Plan\n",
    "\n",
    "The next steps will be :\n",
    "\n",
    "- Visualize the output of the model and its relation to reality.\n",
    "- Try new models and assess their performances.\n",
    "- Make predictions on the future using these regressions.\n",
    "- Extract guidelines that could help in reducing emissions in the future, based on these data.\n",
    "- Criticize these guidelines and the predictions using more domain-related knowledge."
   ]
  },
  {
   "cell_type": "markdown",
   "metadata": {},
   "source": [
    "# Output of the model"
   ]
  },
  {
   "cell_type": "code",
   "execution_count": null,
   "metadata": {},
   "outputs": [],
   "source": [
    "weights.columns = [\"name\", \"weight\"]"
   ]
  },
  {
   "cell_type": "code",
   "execution_count": null,
   "metadata": {},
   "outputs": [],
   "source": [
    "fg = plt.figure(figsize=(40,20))\n",
    "\n",
    "axes1 = fg.add_subplot(3,1,1)\n",
    "sns.barplot(x=\"name\", y=\"weight\", data=weights, ax=axes1)\n",
    "axes1.set_title(\"All weights\")\n",
    "\n",
    "axes2 = fg.add_subplot(3,1,2)\n",
    "sns.barplot(x=\"name\", y=\"weight\", data=weights.where(weights.name.str.contains(\"Area\")).dropna(), ax=axes2)\n",
    "axes2.set_title(\"Weights of the countries\")\n",
    "\n",
    "axes3 = fg.add_subplot(3,1,3)\n",
    "sns.barplot(x=\"name\", y=\"weight\", data=weights.mask(weights.name.str.contains(\"Area\")).mask(weights.name == \"Year\").dropna(), ax=axes3)\n",
    "axes3.set_title(\"Weights of the crops\")\n",
    "\n",
    "fg.tight_layout()"
   ]
  },
  {
   "cell_type": "code",
   "execution_count": null,
   "metadata": {},
   "outputs": [],
   "source": [
    "weights.where(weights.name.str.contains(\"Area\")).where(weights.weight > 0).dropna().sort_values(\"weight\")#.where(\"weight > 0\")"
   ]
  },
  {
   "cell_type": "code",
   "execution_count": null,
   "metadata": {},
   "outputs": [],
   "source": [
    "weights.mask(weights.name.str.contains(\"Area\")).where(weights.weight > 0).dropna().sort_values(\"weight\").head()"
   ]
  },
  {
   "cell_type": "markdown",
   "metadata": {},
   "source": [
    "## New model for predictions\n",
    "\n",
    "In order to obtain better predictions, we decided to restart the process. Using linear regressions, we compute the emissions produced by each crops."
   ]
  },
  {
   "cell_type": "code",
   "execution_count": null,
   "metadata": {},
   "outputs": [],
   "source": [
    "crops = dataCrops.drop([\"element_code\"], axis=1)\\\n",
    "                .where(dataCrops[\"element\"] == \"Area Harvested\")\\\n",
    "                .mask(dataCrops.country_or_area.isin([\"Asia +\",\"Europe +\", \"Americas +\", \"Oceania +\", \"Africa +\"]))\\\n",
    "                .dropna(subset=[\"element\"])\\\n",
    "                .drop([\"element\", \"value_footnotes\"],axis=1)\\\n",
    "                .rename(columns={\"unit\":\"Unit area\", \"value\":\"Value area\", \"year\":\"Year\",\"country_or_area\":\"Area\"})\n",
    "crops.head(5)"
   ]
  },
  {
   "cell_type": "code",
   "execution_count": null,
   "metadata": {},
   "outputs": [],
   "source": [
    "listCountries = [\"United States of America\", \"India\", \"Switzerland\", \"United Kingdom\", \"China\"]\n",
    "filterCrops = [\"cereals_total\", \"cereals_rice_milled_eqv\",\"pulses_total\", \"coarse_grain_total\", \"treenuts_total\"]\n",
    "\n",
    "#cropsEmissionsNormalized = crops.where(crops.Area.isin(listCountries)).dropna()\n",
    "cropsEmissionsNormalized = crops\n",
    "totalHarvestedArea = cropsEmissionsNormalized.groupby([\"Area\",\"Year\"]).sum()#.drop([\"Year\"], axis=1)#.rename(\"Value area\", \"Total area harvested\")\n",
    "totalHarvestedArea.columns = [\"Total area harvested\"]\n",
    "cropsEmissionsNormalized = pd.merge(cropsEmissionsNormalized, totalHarvestedArea, how=\"left\", on=['Area',\"Year\"])\n",
    "cropsEmissionsNormalized = pd.merge(cropsEmissionsNormalized, dataEmissionsAgriculture, how=\"left\", on=['Area',\"Year\"])#.dropna(subset=[\"Value area\", \"Value emissions\"])\n",
    "cropsEmissionsNormalized = cropsEmissionsNormalized.dropna().dropna(subset=[\"Unit emissions\"])\n",
    "cropsEmissionsNormalized[\"Value emissions\"] = cropsEmissionsNormalized[\"Value area\"]*cropsEmissionsNormalized[\"Value emissions\"]/(cropsEmissionsNormalized[\"Total area harvested\"]*cropsEmissionsNormalized[\"Total area harvested\"])\n",
    "cropsEmissionsNormalized = cropsEmissionsNormalized.mask(cropsEmissionsNormalized.category.isin(filterCrops)).dropna()\n",
    "cropsEmissionsNormalized.head(5)"
   ]
  },
  {
   "cell_type": "markdown",
   "metadata": {},
   "source": [
    "**cropsEmissionsNormalized** is a dataframe containing the value of emissions per crops, per country and per year. The total emissions for a given country and a given year was split over the different crops using their ratio of harvested area over the total harvested area. Then, these emissions were again normalized by the total harvested area, in order to obtain comparable results above all the countries. "
   ]
  },
  {
   "cell_type": "code",
   "execution_count": null,
   "metadata": {},
   "outputs": [],
   "source": [
    "fg = plt.figure(figsize=(15,12))\n",
    "\n",
    "i = 1\n",
    "\n",
    "listCrops = [\"wheat\",\"soybeans\", \"apples\", \"peas_dry\"]\n",
    "\n",
    "for c in listCrops:\n",
    "    #print(cropsEmissionsNormalized.where(cropsEmissionsNormalized.Area == c).dropna())\n",
    "    axes = fg.add_subplot(len(listCrops),1,i)\n",
    "    sns.lineplot(x=\"Year\", y=\"Value area\",\\\n",
    "                data=cropsEmissionsNormalized.where(cropsEmissionsNormalized.category == c).dropna(),\\\n",
    "                ax=axes)\n",
    "    axes.set_title(c)\n",
    "    i = i+1\n",
    "\n",
    "fg.tight_layout()"
   ]
  },
  {
   "cell_type": "markdown",
   "metadata": {},
   "source": [
    "On the graph above, you can see the evolution in time of the *area harvested* for different crops. Except for *wheat*, there is a slight increase for each of the above. It is strange if we compare this to the evolution of the population, which more or less doubled during the last 3 decades. This could be explained by the industrialization of the agriculture, which requires less area to produce a similar amount of food."
   ]
  },
  {
   "cell_type": "code",
   "execution_count": null,
   "metadata": {},
   "outputs": [],
   "source": [
    "fg = plt.figure(figsize=(15,12))\n",
    "\n",
    "i = 1\n",
    "\n",
    "listCrops = [\"wheat\",\"soybeans\", \"apples\", \"peas_dry\"]\n",
    "\n",
    "for c in listCrops:\n",
    "    #print(cropsEmissionsNormalized.where(cropsEmissionsNormalized.Area == c).dropna())\n",
    "    axes = fg.add_subplot(len(listCrops),1,i)\n",
    "    sns.lineplot(x=\"Year\", y=\"Value area\", hue=\"Area\",\\\n",
    "                data=cropsEmissionsNormalized.where(cropsEmissionsNormalized.category == c)\\\n",
    "                 .where(cropsEmissionsNormalized.Area.isin(listCountries)).dropna(),\\\n",
    "                ax=axes)\n",
    "    axes.set_title(c)\n",
    "    i = i+1\n",
    "\n",
    "fg.tight_layout()"
   ]
  },
  {
   "cell_type": "markdown",
   "metadata": {},
   "source": [
    "This graph gives a preview of the evolution of these crops for each country. They all follow the overall evolution and none of them demonstrate a clear increase or decrease in the harvesting of these crops."
   ]
  },
  {
   "cell_type": "code",
   "execution_count": null,
   "metadata": {},
   "outputs": [],
   "source": [
    "fg = plt.figure(figsize=(30,20))\n",
    "\n",
    "i = 1\n",
    "\n",
    "for c in listCountries:\n",
    "    #print(cropsEmissionsNormalized.where(cropsEmissionsNormalized.Area == c).dropna())\n",
    "    axes = fg.add_subplot(5,1,i)\n",
    "    try:\n",
    "        sns.barplot(x=\"category\", y=\"Value emissions\",\\\n",
    "                    data=cropsEmissionsNormalized.where(cropsEmissionsNormalized.Area == c).where(cropsEmissionsNormalized[\"Value emissions\"] > 0.00005).dropna(),\\\n",
    "                    ax=axes)\n",
    "    except ValueError as e:\n",
    "        print(str(e))\n",
    "    axes.set_title(c)\n",
    "    i = i+1\n",
    "\n",
    "fg.tight_layout()"
   ]
  },
  {
   "cell_type": "markdown",
   "metadata": {},
   "source": [
    "In the plot above, we show the **normalized emissions values** for the considered countries and we only display the crops that are the most \"emitting\". One very interesting fact is that Switzerland as well as UK seems to have a really considerable number of crops they grow that emits over the threshold we set. In order to investigate this, we made the graph below."
   ]
  },
  {
   "cell_type": "code",
   "execution_count": null,
   "metadata": {},
   "outputs": [],
   "source": [
    "fg = plt.figure(figsize=(15,15))\n",
    "\n",
    "i = 1\n",
    "\n",
    "for c in listCrops:\n",
    "    #print(cropsEmissionsNormalized.where(cropsEmissionsNormalized.Area == c).dropna())\n",
    "    axes = fg.add_subplot(len(listCrops),1,i)\n",
    "    try:\n",
    "        sns.barplot(x=\"Area\", y=\"Value emissions\",\\\n",
    "                    data=cropsEmissionsNormalized.where(cropsEmissionsNormalized.Area.isin(listCountries)).where(cropsEmissionsNormalized[\"category\"] == c).dropna(),\\\n",
    "                    ax=axes)\n",
    "    except ValueError as e:\n",
    "        print(str(e))\n",
    "    axes.set_title(c)\n",
    "    axes.set_ylabel(\"Emissions [Gg/ha]\")\n",
    "    i = i+1\n",
    "\n",
    "fg.tight_layout()\n",
    "\n",
    "fg.savefig(\"emissions_by_unit_area_crop.eps\")"
   ]
  },
  {
   "cell_type": "markdown",
   "metadata": {},
   "source": [
    "This graph shows for 4 different crops, their normalized emissions value, aggregated in time. This is very insightful as it appears systematically that producing one of this type of crop in Switzerland, in UK or in US for the soybeans, emits more greenhouse gas than producing this in China or in India. This could be the consequence of the size of the production. Lets now compare the area harvested for each of these crops in these countries."
   ]
  },
  {
   "cell_type": "code",
   "execution_count": null,
   "metadata": {},
   "outputs": [],
   "source": [
    "fg = plt.figure(figsize=(15,15))\n",
    "\n",
    "i = 1\n",
    "listCrops = [\"wheat\",\"soybeans\", \"apples\", \"peas_dry\"]\n",
    "\n",
    "for c in listCrops:\n",
    "    #print(cropsEmissionsNormalized.where(cropsEmissionsNormalized.Area == c).dropna())\n",
    "    axes = fg.add_subplot(len(listCrops),1,i)\n",
    "    try:\n",
    "        sns.barplot(x=\"Area\", y=\"Value area\",\\\n",
    "                    data=cropsEmissionsNormalized.where(cropsEmissionsNormalized.Area.isin(listCountries)).where(cropsEmissionsNormalized[\"category\"] == c).dropna(),\\\n",
    "                    ax=axes)\n",
    "    except ValueError as e:\n",
    "        print(str(e))\n",
    "    axes.set_title(c)\n",
    "    axes.set_ylabel(\"Area [ha]\")\n",
    "    i = i+1\n",
    "\n",
    "fg.tight_layout()\n",
    "fg.savefig(\"area_crop.eps\")"
   ]
  },
  {
   "cell_type": "markdown",
   "metadata": {},
   "source": [
    "Here you clearly see that the production in China and in India are considerably bigger than those in United Kingdom or Switzerland. Therefore, we could argue that producing more is more efficient. However, the case of soybeans counterbalance this argument as the US is at the same time the biggest producer and least efficient producer of soybeans in terms of gas emissions. This could be put in relation with many other factors such as:\n",
    "\n",
    "- human vs machine use in fields,\n",
    "- automatisation,\n",
    "- technical knowledge in agriculture,\n",
    "- fertilizer and pesticide use.\n",
    "\n",
    "## Create a model to assess the environmental efficiency for each crop\n",
    "\n",
    "We will know create a model to predict the efficiency of each crop. This model will then be used to compute the emissions related to each crop in the near future. Based on this, we will also create a model to predict the agriculture type in each country in terms of crop development and area use in the next years. By combinig these two models, we will then try to predict the overall emissions for each country."
   ]
  },
  {
   "cell_type": "code",
   "execution_count": null,
   "metadata": {},
   "outputs": [],
   "source": [
    "def create_model_for_crop(crop):\n",
    "    cropData = cropsEmissionsNormalized.where(cropsEmissionsNormalized.category ==crop).dropna()\n",
    "    lm = LinearRegression()\n",
    "    \n",
    "    cropData = cropData.groupby(\"Year\").sum().reset_index()\n",
    "\n",
    "    X = cropData[[\"Year\"]]\n",
    "    Y = cropData[[\"Value emissions\"]]\n",
    "\n",
    "    lm.fit(X,Y)\n",
    "    \n",
    "    return lm\n",
    "\n",
    "models = []\n",
    "\n",
    "for crop in cropsEmissionsNormalized.category.unique():\n",
    "    models.append((crop,create_model_for_crop(crop)))\n",
    "    \n",
    "cropsModelsEmissionsPerUnitArea = pd.DataFrame(models, columns=(\"crop\",\"model_emissions\"))"
   ]
  },
  {
   "cell_type": "code",
   "execution_count": null,
   "metadata": {},
   "outputs": [],
   "source": [
    "fg = plt.figure(figsize=(10,10))\n",
    "\n",
    "i = 1\n",
    "listCrops = [\"wheat\",\"soybeans\", \"apples\", \"peas_dry\"]\n",
    "\n",
    "for c in listCrops:\n",
    "    #print(cropsEmissionsNormalized.where(cropsEmissionsNormalized.Area == c).dropna())\n",
    "    axes = fg.add_subplot(2,2,i)\n",
    "    cropData = cropsEmissionsNormalized.where(cropsEmissionsNormalized[\"category\"] == c)\\\n",
    "                                        .dropna()\\\n",
    "                                        .groupby(\"Year\").sum().reset_index()\n",
    "    try:\n",
    "        sns.regplot(x=\"Year\", y=\"Value emissions\",\\\n",
    "                    data=cropData,\\\n",
    "                    ax=axes)\n",
    "    except ValueError as e:\n",
    "        print(str(e))\n",
    "    axes.set_title(c)\n",
    "    i = i+1\n",
    "\n",
    "fg.tight_layout()\n",
    "fg.savefig(\"emissions_per_crop_prediction.pdf\")"
   ]
  },
  {
   "cell_type": "markdown",
   "metadata": {},
   "source": [
    "As it can be seen, some crops have a strong linear dependency while other crops can have very sparse data and a probably difficult to predict behaviour. In some cases it is very relevant to make linear regressions. For the sake of simplicity, we will keep the linear regressions for all the crops."
   ]
  },
  {
   "cell_type": "code",
   "execution_count": null,
   "metadata": {},
   "outputs": [],
   "source": [
    "def get_model_crop(crop, cropsData):\n",
    "    cropsData = cropsData.where(cropsData.category ==crop).dropna()\n",
    "    \n",
    "    lm = LinearRegression()\n",
    "    \n",
    "    cropsData = cropsData.groupby(\"Year\").sum().reset_index()\n",
    "    \n",
    "    X = cropsData[[\"Year\"]]\n",
    "    Y = cropsData[[\"Value area\"]]\n",
    "    \n",
    "    try:\n",
    "        lm.fit(X,Y)\n",
    "    except ValueError as e:\n",
    "        #print(str(e))\n",
    "        return np.nan\n",
    "    \n",
    "    return lm\n",
    "\n",
    "def get_model_crops_country(country):\n",
    "    cropsData = cropsEmissionsNormalized.where(cropsEmissionsNormalized.Area ==country).dropna()\n",
    "    \n",
    "    models = []\n",
    "\n",
    "    for crop in cropsEmissionsNormalized.category.unique():\n",
    "        models.append((crop,get_model_crop(crop, cropsData)))\n",
    "    \n",
    "    cropsModelsGrowth = pd.DataFrame(models, columns=(\"crop\",\"model_growth\"))\n",
    "    \n",
    "    return cropsModelsGrowth\n",
    "\n",
    "class PredictorEmissionsCountry():\n",
    "    def __init__(self, country, modelCrops, modelEmissionsByCrops):\n",
    "        self.country = country\n",
    "        self.modelCrops = modelCrops\n",
    "        self.modelEmissionsByCrops = modelEmissionsByCrops\n",
    "        \n",
    "    def predict_emissions(self, startYear, endYear):\n",
    "        years = []\n",
    "        for i in range(startYear, endYear):\n",
    "            years.append(i)\n",
    "            \n",
    "        def compute_production_area(row):\n",
    "            return (row.model_growth.predict(pd.DataFrame(years)),)\n",
    "        def compute_emissions_per_unit_area(row):\n",
    "            return (row.model_emissions.predict(pd.DataFrame(years)),)\n",
    "        def compute_emissions_per_unit_area(row):\n",
    "            return (row.model_emissions.predict(pd.DataFrame(years)),)\n",
    "        def compute_emissions(row):\n",
    "            return (row.production_area*row.emissions_per_unit_area,)\n",
    "        def flatten(arr):\n",
    "            flatArr = []\n",
    "            for i in arr:\n",
    "                flatArr.append(i[0])\n",
    "            return flatArr\n",
    "\n",
    "        m = pd.merge(self.modelCrops, self.modelEmissionsByCrops, how=\"left\", on=['crop']).dropna()\n",
    "        m = m.join(m.apply(compute_production_area, axis=1, result_type=\"expand\")).rename(columns={0:\"production_area\"})\n",
    "        \n",
    "        m = m.join(m.apply(compute_emissions_per_unit_area, axis=1, result_type=\"expand\")).rename(columns={0:\"emissions_per_unit_area\"})\n",
    "        m = m.join(m.apply(compute_emissions, axis=1, result_type=\"expand\")).rename(columns={0:\"emissions\"})\n",
    "        m.emissions = m.emissions.apply(flatten)\n",
    "        m = pd.DataFrame(m.emissions.tolist(), columns=years)\n",
    "\n",
    "        m = m.sum(0)\n",
    "        return pd.DataFrame(m,columns=[\"emissions\"]).reset_index().rename(columns={\"index\":\"year\"})\n",
    "\n",
    "def get_model_emissions_countries(listCountries):\n",
    "    #get_model_crops_country(country)\n",
    "    \n",
    "    predictorsEmissions = []\n",
    "\n",
    "    for country in cropsEmissionsNormalized.where(cropsEmissionsNormalized.Area.isin(listCountries)).dropna().Area.unique():\n",
    "        predictorsEmissions.append(PredictorEmissionsCountry(country,\\\n",
    "                                                            get_model_crops_country(country),\\\n",
    "                                                            cropsModelsEmissionsPerUnitArea))\n",
    "        print(\"Predictor for \" + country + \" done.\")\n",
    "    \n",
    "    return predictorsEmissions"
   ]
  },
  {
   "cell_type": "code",
   "execution_count": null,
   "metadata": {},
   "outputs": [],
   "source": [
    "models = get_model_emissions_countries(listCountries)\n",
    "\n",
    "fg = plt.figure(figsize=(15,15))\n",
    "\n",
    "i = 1\n",
    "\n",
    "for mc in models:\n",
    "    #print(cropsEmissionsNormalized.where(cropsEmissionsNormalized.Area == c).dropna())\n",
    "    emissions = mc.predict_emissions(2000,2040)\n",
    "    axes = fg.add_subplot(5,1,i)\n",
    "    try:\n",
    "        sns.lineplot(x=\"year\", y=\"emissions\",data=emissions,\\\n",
    "                    ax=axes)\n",
    "    except ValueError as e:\n",
    "        print(str(e))\n",
    "    axes.set_title(mc.country)\n",
    "    axes.set_ylabel(\"Emissions [Gg]\")\n",
    "    i = i+1\n",
    "\n",
    "fg.tight_layout()\n",
    "fg.savefig(\"emissions_prediction.eps\")"
   ]
  },
  {
   "cell_type": "markdown",
   "metadata": {},
   "source": [
    "Using the model above, these are the predictions for the emissions of the selected countries. It is very impressive to see how China and India, which could still be considered as developping countries if we consider the life quality of the poorest part of the population, have continuously increasing emissions. However, more developped countries such as US, UK and Switzerland seems to be able to mitigate and reverse the growth of their emissions."
   ]
  },
  {
   "cell_type": "markdown",
   "metadata": {},
   "source": [
    "# **Question 3 initial exploration**\n",
    "\n",
    "Is it possible to rank some patterns of land usage with social and environmental factors such as employment, life satisfaction (if data are presents), income inequalities (if data are presents), emissions and finally soil quality and sustainability?\n",
    "\n",
    "To answer this question we will need to acquire additionnal data, but before doing that, we must define the **scope** of the question. It doesn't really make sense to aggregate countries into continents since the social factors are really specific to each country. Therefore, we reduce our scope to a list of 12 countries that we are interested in and feel are important."
   ]
  },
  {
   "cell_type": "code",
   "execution_count": null,
   "metadata": {},
   "outputs": [],
   "source": [
    "countries = ['France', 'Canada', 'Germany', 'India', 'Japan', 'Russian Federation', 'Switzerland', 'United States of America', 'United Kingdom', 'China', 'Israel']"
   ]
  },
  {
   "cell_type": "markdown",
   "metadata": {},
   "source": [
    "## Data acquisition and cleaning"
   ]
  },
  {
   "cell_type": "code",
   "execution_count": null,
   "metadata": {},
   "outputs": [],
   "source": [
    "dataLands = pd.read_csv(\"./data/fao_data_land_data.csv\")\n",
    "dataLands.head()"
   ]
  },
  {
   "cell_type": "code",
   "execution_count": null,
   "metadata": {},
   "outputs": [],
   "source": [
    "# investigate NaN values\n",
    "dataLands[np.isnan(dataLands['value'].values)].head(3)"
   ]
  },
  {
   "cell_type": "markdown",
   "metadata": {},
   "source": [
    "We observe that the dataset is pretty clean. The only NaNs in 'value' column are actually the footnotes so we can drop them."
   ]
  },
  {
   "cell_type": "code",
   "execution_count": null,
   "metadata": {},
   "outputs": [],
   "source": [
    "dataLands = dataLands.dropna(subset=[\"value\"])\n",
    "dataLands.tail(3)"
   ]
  },
  {
   "cell_type": "code",
   "execution_count": null,
   "metadata": {},
   "outputs": [],
   "source": [
    "print(dataLands['category'].unique().tolist())\n",
    "\n",
    "# we only keep agricultural area\n",
    "dataLands = dataLands[dataLands['category'] == 'agricultural_area']"
   ]
  },
  {
   "cell_type": "code",
   "execution_count": null,
   "metadata": {},
   "outputs": [],
   "source": [
    "# let's observe the temporal evolution of agricultural lands for our selected countries\n",
    "\n",
    "def check_country(countries, DF):\n",
    "    \"\"\"Checks wether the countries 'countries' are in the dataframe.series DF\"\"\"\n",
    "    for country in countries:\n",
    "        if country not in DF.unique():\n",
    "            print('Country', country, 'is missing!')\n",
    "        \n",
    "check_country(countries, dataLands['country_or_area'])\n",
    "\n",
    "# reduce subset to selected countries\n",
    "rdataLands = dataLands.loc[dataLands['country_or_area'].isin(countries)]\n",
    "\n",
    "# groupe by country\n",
    "grdataLands = rdataLands.groupby('country_or_area')\n",
    "\n",
    "plt.figure(figsize=(15,15))\n",
    "for country in countries:\n",
    "    # we normalize the total land area by devinding by its mean\n",
    "    sns.lineplot(x=grdataLands.get_group(country).year, y=grdataLands.get_group(country).value/np.mean(grdataLands.get_group(country).value), label=country)\n",
    "    \n",
    "plt.ylabel('land area / mean land area')\n",
    "plt.title('Relative evolution of agricultural land areas');"
   ]
  },
  {
   "cell_type": "markdown",
   "metadata": {},
   "source": [
    "We observe an overall downward trend the agricultutral land areas except for a few countries (India and China). However, we also notice an anomally with Russia that must be investigated: no data is present before 1991.\n",
    "\n",
    "After some research we found out that the dissolution of the Soviet Union (USSR) took place on 26 December 1991, creating the country Russia. We must correct our data:"
   ]
  },
  {
   "cell_type": "code",
   "execution_count": null,
   "metadata": {},
   "outputs": [],
   "source": [
    "display(dataLands[dataLands['country_or_area'] == 'USSR'].head(3))\n",
    "\n",
    "# we don't really care about USSR, therefore, we rename it to Russia and subtract (USSR_land_1991 - Russia_land_1992) from its values\n",
    "to_subtract = dataLands[(dataLands['country_or_area'] == 'USSR') & (dataLands['year'] == 1991)].value.values - dataLands[(dataLands['country_or_area'] == 'Russian Federation') & (dataLands['year'] == 1992)].value.values\n",
    "# append rdataLands\n",
    "for year,value in zip(dataLands[dataLands['country_or_area'] == 'USSR'].year.values, dataLands[dataLands['country_or_area'] == 'USSR'].value.values):\n",
    "    rdataLands = rdataLands.append({'country_or_area':'Russian Federation', 'year':year, 'value':value - to_subtract[0]}, ignore_index=True)"
   ]
  },
  {
   "cell_type": "code",
   "execution_count": null,
   "metadata": {},
   "outputs": [],
   "source": [
    "# check the graph again\n",
    "# groupe by country\n",
    "grdataLands = rdataLands.groupby('country_or_area')\n",
    "\n",
    "plt.figure(figsize=(15,15))\n",
    "for country in countries:\n",
    "    # we normalize the total land area by devinding by its mean\n",
    "    sns.lineplot(x=grdataLands.get_group(country).year, y=grdataLands.get_group(country).value/np.mean(grdataLands.get_group(country).value), label=country)\n",
    "    \n",
    "plt.ylabel('land area / mean land area')\n",
    "plt.title('Relative evolution of agricultural land area')"
   ]
  },
  {
   "cell_type": "code",
   "execution_count": null,
   "metadata": {},
   "outputs": [],
   "source": [
    "plt.figure(figsize=(20,5))\n",
    "for country in countries:\n",
    "    plt.bar(x=country, height=np.mean(grdataLands.get_group(country).value), label = country)\n",
    "plt.legend()\n",
    "plt.title('Mean agriculture land area');"
   ]
  },
  {
   "cell_type": "code",
   "execution_count": null,
   "metadata": {},
   "outputs": [],
   "source": [
    "rdataLands.to_pickle('dataLand.pkl')"
   ]
  },
  {
   "cell_type": "code",
   "execution_count": null,
   "metadata": {},
   "outputs": [],
   "source": [
    "# Soil erosion data\n",
    "dataSoil = pd.read_csv('data/current_FAO/raw_files/Environment_Soil_E_All_Data.csv', encoding = \"ISO-8859-1\")\n",
    "#display(dataSoil.head())\n",
    "\n",
    "# check for our countries\n",
    "print(check_country(countries, dataSoil['Country']))\n",
    "\n",
    "# reduce to selected countries\n",
    "rdataSoil = dataSoil.loc[dataSoil['Country'].isin(countries)]\n",
    "rdataSoil.head()"
   ]
  },
  {
   "cell_type": "markdown",
   "metadata": {},
   "source": [
    "Except the carbon content all the other data (erosion and lan degredation) haave only 1 measure in 1991 for each country."
   ]
  },
  {
   "cell_type": "code",
   "execution_count": null,
   "metadata": {},
   "outputs": [],
   "source": [
    "dataSoil.to_pickle('dataSoil.pkl')"
   ]
  },
  {
   "cell_type": "markdown",
   "metadata": {},
   "source": [
    "## **New Data**\n",
    "In order to answer the question at the beginning we need to search for and acquire some new data:"
   ]
  },
  {
   "cell_type": "markdown",
   "metadata": {},
   "source": [
    "### Life expectancy at birth for both sexes combined (years):\n",
    "http://data.un.org/Data.aspx?d=PopDiv&f=variableID%3a68"
   ]
  },
  {
   "cell_type": "code",
   "execution_count": null,
   "metadata": {},
   "outputs": [],
   "source": [
    "lifeExp_df = pd.read_csv('data/life_expectancy.csv')\n",
    "lifeExp_df.head(3)"
   ]
  },
  {
   "cell_type": "code",
   "execution_count": null,
   "metadata": {},
   "outputs": [],
   "source": [
    "# rename columns for consistency\n",
    "lifeExp_df.rename(columns={'Country or Area': 'country_or_area', 'Year(s)': 'years', 'Variant': 'variant', 'Value': 'value'}, inplace= True)\n",
    "\n",
    "# Check our list\n",
    "print(check_country(countries, lifeExp_df['country_or_area']))\n",
    "\n",
    "# reduce to our selected countries\n",
    "rlifeExp_df = lifeExp_df.loc[lifeExp_df['country_or_area'].isin(countries)]\n",
    "\n",
    "# do we have the same problem as before with russia ?\n",
    "rlifeExp_df[rlifeExp_df['country_or_area']=='Russian Federation'].tail()"
   ]
  },
  {
   "cell_type": "markdown",
   "metadata": {},
   "source": [
    "Fortunately we don't have the above problem with Russia in this dataset. We observe that 'Years' is a contains 5 years long periods, thus we transform it and erase the second year (-19**). "
   ]
  },
  {
   "cell_type": "code",
   "execution_count": null,
   "metadata": {},
   "outputs": [],
   "source": [
    "# clean column year\n",
    "rlifeExp_df['year'] = rlifeExp_df['years'].str.split('-', expand=True).iloc[:,0].astype('int')\n",
    "rlifeExp_df.drop(columns='years', inplace= True)\n",
    "rlifeExp_df = rlifeExp_df[rlifeExp_df['year'] < 2019] # we are not interested in predictions"
   ]
  },
  {
   "cell_type": "code",
   "execution_count": null,
   "metadata": {},
   "outputs": [],
   "source": [
    "# simple observations\n",
    "# groupe by country\n",
    "grlifeExp_df = rlifeExp_df.groupby('country_or_area')\n",
    "\n",
    "plt.figure(figsize=(15,15))\n",
    "for country in countries:\n",
    "    sns.lineplot(x=grlifeExp_df.get_group(country).year, y=grlifeExp_df.get_group(country).value, label=country)\n",
    "    \n",
    "plt.ylabel('Life expectancy')\n",
    "plt.title('Evolution of life expectancy');"
   ]
  },
  {
   "cell_type": "markdown",
   "metadata": {},
   "source": [
    "We see that india and china had a big evolution from the 1960s. However, China is the only country that also had a similar evolution in its agricultural lands."
   ]
  },
  {
   "cell_type": "code",
   "execution_count": null,
   "metadata": {},
   "outputs": [],
   "source": [
    "rlifeExp_df.to_pickle('lifeExp.pkl')"
   ]
  },
  {
   "cell_type": "markdown",
   "metadata": {},
   "source": [
    "### Value added by industries at current prices (ISIC Rev. 3)\n",
    "\n",
    "We were unable to download all the data from the below website, therefore, we reduced the industries to agriculture.\n",
    "\n",
    "http://data.un.org/Data.aspx?d=SNA&f=group_code%3a201"
   ]
  },
  {
   "cell_type": "code",
   "execution_count": null,
   "metadata": {},
   "outputs": [],
   "source": [
    "valueAdded_df = pd.read_csv('data/value_added.csv', low_memory=False)\n",
    "valueAdded_df = valueAdded_df.dropna(subset=['Value'])\n",
    "valueAdded_df.head(3)"
   ]
  },
  {
   "cell_type": "code",
   "execution_count": null,
   "metadata": {},
   "outputs": [],
   "source": [
    "# rename columns for consistency\n",
    "valueAdded_df.rename(columns={'Country or Area': 'country_or_area', 'Year': 'year', 'Value': 'value'}, inplace= True)\n",
    "\n",
    "# Check our list\n",
    "print(check_country(countries, valueAdded_df['country_or_area']))"
   ]
  },
  {
   "cell_type": "code",
   "execution_count": null,
   "metadata": {},
   "outputs": [],
   "source": [
    "# print all countries\n",
    "print(valueAdded_df['country_or_area'].unique().tolist())"
   ]
  },
  {
   "cell_type": "code",
   "execution_count": null,
   "metadata": {},
   "outputs": [],
   "source": [
    "# Correct for united states\n",
    "valueAdded_df.replace(to_replace='United States', value='United States of America', inplace= True)\n",
    "\n",
    "# reduce to our selected countries\n",
    "rvalueAdded_df = valueAdded_df.loc[valueAdded_df['country_or_area'].isin(countries)]\n",
    "\n",
    "# do we have the same problem as before with russia ?\n",
    "rvalueAdded_df[rvalueAdded_df['country_or_area']=='Russian Federation'].tail()"
   ]
  },
  {
   "cell_type": "code",
   "execution_count": null,
   "metadata": {},
   "outputs": [],
   "source": [
    "# simple observations\n",
    "# groupe by country\n",
    "gvalueAdded_df = valueAdded_df.groupby('country_or_area')\n",
    "\n",
    "plt.figure(figsize=(15,15))\n",
    "for country in countries:\n",
    "    # plot  and normalize by mean\n",
    "    sns.lineplot(x=gvalueAdded_df.get_group(country).year, y=gvalueAdded_df.get_group(country).value/np.mean(gvalueAdded_df.get_group(country).value), label=country)\n",
    "    \n",
    "plt.ylabel('added-value')\n",
    "plt.title('Economic added value by agriculture');"
   ]
  },
  {
   "cell_type": "markdown",
   "metadata": {},
   "source": [
    "We see a strange peek with Russia that will have to be investigated for the final milestone. Russia's data starts from 1990 so we might have the same problem as before, but USSR is absent from the data..."
   ]
  },
  {
   "cell_type": "code",
   "execution_count": null,
   "metadata": {},
   "outputs": [],
   "source": [
    "valueAdded_df.to_pickle('valueAdded.pkl')"
   ]
  },
  {
   "cell_type": "markdown",
   "metadata": {},
   "source": [
    "### Employment by sex and economic activity\n",
    "\n",
    "https://www.ilo.org/shinyapps/bulkexplorer5/?lang=en&segment=indicator&id=EMP_TEMP_SEX_ECO_NB_A"
   ]
  },
  {
   "cell_type": "code",
   "execution_count": null,
   "metadata": {},
   "outputs": [],
   "source": [
    "employment_df = pd.read_csv('data/Employment.csv')\n",
    "display(employment_df.head(3))\n",
    "employment_df = employment_df.drop(columns=['obs_status.label', 'note_classif.label', 'note_indicator.label'])   # drop useless columns"
   ]
  },
  {
   "cell_type": "code",
   "execution_count": null,
   "metadata": {},
   "outputs": [],
   "source": [
    "# rename columns for consistency\n",
    "employment_df.rename(columns={'ref_area.label': 'country_or_area', 'time': 'year', 'obs_value': 'value', 'classif1.label': 'activity'}, inplace= True)\n",
    "\n",
    "# Check our list\n",
    "print(check_country(countries, employment_df['country_or_area']))\n",
    "\n",
    "# Correct for united states\n",
    "employment_df.replace(to_replace='United States', value='United States of America', inplace= True)\n",
    "\n",
    "# reduce to our selected countries\n",
    "remployment_df = employment_df.loc[employment_df['country_or_area'].isin(countries)]\n",
    "\n",
    "# USSR isn't present: no problem\n",
    "np.sort(employment_df['country_or_area'].unique())[-20:]"
   ]
  },
  {
   "cell_type": "code",
   "execution_count": null,
   "metadata": {},
   "outputs": [],
   "source": [
    "# do a sub selection of only agricultural related economic activites\n",
    "remployment_df = remployment_df[remployment_df['activity'].str.contains('Agriculture')]"
   ]
  },
  {
   "cell_type": "code",
   "execution_count": null,
   "metadata": {},
   "outputs": [],
   "source": [
    "# extra cleaning\n",
    "remployment_df.drop(columns=['indicator.label', 'source.label', 'note_source.label'], inplace= True)   # drop useless columns\n",
    "remployment_df.replace({'Sex: Male': 'male', 'Sex: Female': 'female', 'Sex: Total': 'total'}, inplace= True)"
   ]
  },
  {
   "cell_type": "code",
   "execution_count": null,
   "metadata": {},
   "outputs": [],
   "source": [
    "remployment_df.head()"
   ]
  },
  {
   "cell_type": "code",
   "execution_count": null,
   "metadata": {},
   "outputs": [],
   "source": [
    "# simple observations\n",
    "# groupe by country\n",
    "gremployment_df = remployment_df[remployment_df['sex.label'] == 'total'].groupby('country_or_area')\n",
    "\n",
    "plt.figure(figsize=(15,15))\n",
    "for country in countries:\n",
    "    # plot and normalize by mean\n",
    "    sns.lineplot(x=gremployment_df.get_group(country).year, y=gremployment_df.get_group(country).value/np.mean(gremployment_df.get_group(country).value), label=country)\n",
    "    \n",
    "plt.ylabel('employment')\n",
    "plt.title('Employment in agriculture');"
   ]
  },
  {
   "cell_type": "markdown",
   "metadata": {},
   "source": [
    "We see an overall downtrend in the agricultural employments.Let's compare the mean employment of the countries:"
   ]
  },
  {
   "cell_type": "code",
   "execution_count": null,
   "metadata": {},
   "outputs": [],
   "source": [
    "plt.figure(figsize=(20,5))\n",
    "for country in countries:\n",
    "    plt.bar(x=country, height=np.mean(gremployment_df.get_group(country).value), label = country)\n",
    "plt.legend()\n",
    "plt.title('Mean Employment in agriculture')"
   ]
  },
  {
   "cell_type": "markdown",
   "metadata": {},
   "source": [
    "In order to have a meaningfull comparison the above values should be devided by the total population, but in an absolute comparison we can see employment in agricultural sectors is rather big in China and India.\n",
    "\n",
    "Compared to the bar chart of agricultural lands above, we notice United States for example that has a pretty vast agricultural land area but has very little employments in agriculture in comparison. "
   ]
  },
  {
   "cell_type": "code",
   "execution_count": null,
   "metadata": {},
   "outputs": [],
   "source": [
    "remployment_df.to_pickle('employment.pkl')"
   ]
  },
  {
   "cell_type": "markdown",
   "metadata": {},
   "source": [
    "### Non fatal occupational injuries per 100'000 workers by economic activity\n",
    "\n",
    "We found it hard to find reliable data for the 'quality of life' which could be subjective and not necessarily related to agriculture. Thus, we found the below dataset which describes the amount of non fatal injuries per economic activity, which we found interessting as a way to asses the social quality and safety of agriculture.\n",
    "\n",
    "https://www.ilo.org/shinyapps/bulkexplorer32/?lang=en&segment=indicator&id=INJ_NFTL_ECO_RT_A"
   ]
  },
  {
   "cell_type": "code",
   "execution_count": null,
   "metadata": {},
   "outputs": [],
   "source": [
    "nonFatalInjuries_df = pd.read_csv('data/non_fatal_injuries.csv')\n",
    "\n",
    "#look at some useless columns before droping them\n",
    "print(nonFatalInjuries_df.obs_status.unique())\n",
    "print(nonFatalInjuries_df.note_classif.unique().tolist())\n",
    "nonFatalInjuries_df = nonFatalInjuries_df.drop(columns=['obs_status', 'obs_status.label', 'note_classif', 'note_classif.label', 'note_source', 'note_source.label', 'indicator.label', 'note_indicator', 'source', 'source.label'])   # drop useless columns\n",
    "nonFatalInjuries_df.head(3)"
   ]
  },
  {
   "cell_type": "code",
   "execution_count": null,
   "metadata": {},
   "outputs": [],
   "source": [
    "# rename columns for consistency\n",
    "nonFatalInjuries_df.rename(columns={'ref_area.label': 'country_or_area', 'time': 'year', 'obs_value': 'value', 'classif1.label': 'activity'}, inplace= True)\n",
    "\n",
    "# Check our list\n",
    "print(check_country(countries, nonFatalInjuries_df['country_or_area']))"
   ]
  },
  {
   "cell_type": "code",
   "execution_count": null,
   "metadata": {},
   "outputs": [],
   "source": [
    "print(np.sort(nonFatalInjuries_df['country_or_area'].unique()).tolist())"
   ]
  },
  {
   "cell_type": "code",
   "execution_count": null,
   "metadata": {},
   "outputs": [],
   "source": [
    "# Problem: Canada is REALLY missing...\n",
    "\n",
    "# Correct for united states\n",
    "nonFatalInjuries_df.replace(to_replace='United States', value='United States of America', inplace= True)\n",
    "\n",
    "# Only keep activities related to agriculture\n",
    "rnonFatalInjuries_df = nonFatalInjuries_df[nonFatalInjuries_df['activity'].str.contains('Agriculture')]\n",
    "\n",
    "# There are several regions (cities) of China present in the data set but no China as a whole.\n",
    "# As our value of interest is a rate, we can take the mean of the latter rates for China as a whole\n",
    "china_injuries = rnonFatalInjuries_df[nonFatalInjuries_df['country_or_area'].str.contains('China')].reset_index()\n",
    "print(china_injuries['country_or_area'].unique())    # different chinese cities present"
   ]
  },
  {
   "cell_type": "code",
   "execution_count": null,
   "metadata": {},
   "outputs": [],
   "source": [
    "china_injuries.head()"
   ]
  },
  {
   "cell_type": "markdown",
   "metadata": {},
   "source": [
    "There is only one entry for Macau and its value is 0. So we drop it and represent China by Taiwan."
   ]
  },
  {
   "cell_type": "code",
   "execution_count": null,
   "metadata": {},
   "outputs": [],
   "source": [
    "china_injuries.drop(index= 0, axis= 0, inplace= True)\n",
    "china_injuries.replace('Taiwan, China', 'China', inplace= True)\n",
    "\n",
    "# append with China data\n",
    "rnonFatalInjuries_df = rnonFatalInjuries_df.append(china_injuries, sort=False, ignore_index= True)\n",
    "\n",
    "# reduce to our selected countries\n",
    "rnonFatalInjuries_df = rnonFatalInjuries_df.loc[rnonFatalInjuries_df['country_or_area'].isin(countries)]\n",
    "\n",
    "# recheck countries\n",
    "check_country(countries, rnonFatalInjuries_df['country_or_area'])"
   ]
  },
  {
   "cell_type": "markdown",
   "metadata": {},
   "source": [
    "We now see that also Japan is missing but that is because Japan hasn't Agriculture in its activity column."
   ]
  },
  {
   "cell_type": "code",
   "execution_count": null,
   "metadata": {},
   "outputs": [],
   "source": [
    "# simple observations\n",
    "# groupe by country\n",
    "grnonFatalInjuries_df = rnonFatalInjuries_df.groupby('country_or_area')\n",
    "\n",
    "plt.figure(figsize=(15,15))\n",
    "for country in rnonFatalInjuries_df['country_or_area'].unique():\n",
    "    # plot and normalize by mean\n",
    "    sns.lineplot(x=grnonFatalInjuries_df.get_group(country).year, y=grnonFatalInjuries_df.get_group(country).value, label=country)\n",
    "    \n",
    "plt.ylabel('injuries rate')\n",
    "plt.title('Non fatal injuries in agriculture per 100000 workers');"
   ]
  },
  {
   "cell_type": "markdown",
   "metadata": {},
   "source": [
    "We notice that the data for some countries (China, Russia, India, US, Germany) doesn't cover the entire year range. We also observe unusually high values for Switzerland, which makes us question the sanity of the data. This data in its current form, probably might not be usable for further analysis..."
   ]
  },
  {
   "cell_type": "code",
   "execution_count": null,
   "metadata": {},
   "outputs": [],
   "source": [
    "rnonFatalInjuries_df.to_pickle('nonFatalInjuries.pkl')"
   ]
  },
  {
   "cell_type": "markdown",
   "metadata": {},
   "source": [
    "# **Question 3 - Analysis**\n",
    "\n",
    "Is it possible to rank some patterns of land usage with social and environmental factors such as employment, life satisfaction (if data are presents), income inequalities (if data are presents), emissions and finally soil quality and sustainability?"
   ]
  },
  {
   "cell_type": "markdown",
   "metadata": {},
   "source": [
    "As we saw in the data cleaning nootebook, it is messy and difficult to do analysis for more than 5 countries. Therefore, we reduce our subset to the five following countires: China, India, USA, UK, Switzerland\n",
    "\n",
    "We chose these countries because we were interested in them and thought that we might find interesting results as they are somehow special countries:\n",
    "\n",
    "- China has had a massive growth and is now world leading.\n",
    "- India is a big country with a very traditional soul and also huge growth in the recent years.\n",
    "- USA has always been a world power however it has not been growing as fast as the above countires in the recent years.\n",
    "- UK has been a leader in Europe and has had several interesting events in the recent years such as Brexit.\n",
    "- Switzerland has always been rather stable and it's the country we live in :)"
   ]
  },
  {
   "cell_type": "code",
   "execution_count": null,
   "metadata": {},
   "outputs": [],
   "source": [
    "countries = ['China', 'India', 'United States of America', 'United Kingdom', 'Switzerland']"
   ]
  },
  {
   "cell_type": "code",
   "execution_count": null,
   "metadata": {},
   "outputs": [],
   "source": [
    "# read cleaned data:\n",
    "dataLands         = pd.read_pickle('data/dataLand.pkl')\n",
    "dataSoil          = pd.read_pickle('data/dataSoil.pkl')\n",
    "employment        = pd.read_pickle('data/employment.pkl')\n",
    "lifeExp           = pd.read_pickle('data/lifeExp.pkl')\n",
    "nonFatatlInjuries = pd.read_pickle('data/nonFatalInjuries.pkl')\n",
    "addedValue        = pd.read_pickle('data/valueAdded.pkl')"
   ]
  },
  {
   "cell_type": "code",
   "execution_count": null,
   "metadata": {},
   "outputs": [],
   "source": [
    "# reduce the data to selected countries\n",
    "dataLands  = dataLands.loc[dataLands['country_or_area'].isin(countries)].reset_index(drop=True)\n",
    "dataSoil   = dataSoil.loc[dataSoil['Country'].isin(countries)].reset_index(drop=True)\n",
    "employment = employment.loc[employment['country_or_area'].isin(countries)].reset_index(drop=True)\n",
    "lifeExp    = lifeExp.loc[lifeExp['country_or_area'].isin(countries)].reset_index(drop=True)\n",
    "injuries   = nonFatatlInjuries.loc[nonFatatlInjuries['country_or_area'].isin(countries)].reset_index(drop=True)\n",
    "addedValue = addedValue.loc[addedValue['country_or_area'].isin(countries)].reset_index(drop=True)"
   ]
  },
  {
   "cell_type": "markdown",
   "metadata": {},
   "source": [
    "## Population Data\n",
    "\n",
    "We also acquired some new data on world population via the link below. We selected our list of countries directly on the website as it's simpler.\n",
    "\n",
    "https://databank.worldbank.org/reports.aspx?source=2&series=SP.POP.TOTL&country=#"
   ]
  },
  {
   "cell_type": "code",
   "execution_count": null,
   "metadata": {},
   "outputs": [],
   "source": [
    "population = pd.read_csv('data/population.csv').dropna()"
   ]
  },
  {
   "cell_type": "code",
   "execution_count": null,
   "metadata": {},
   "outputs": [],
   "source": [
    "population.drop(columns= ['Country Code', 'Series Code', 'Series Name'], inplace=True)\n",
    "population"
   ]
  },
  {
   "cell_type": "code",
   "execution_count": null,
   "metadata": {},
   "outputs": [],
   "source": [
    "# the columns above are ugly: we create a dictionary to replace them with values afterwards\n",
    "col_years = dict((col,year) for col,year in zip(population.columns[1:], np.arange(1960,2019)))"
   ]
  },
  {
   "cell_type": "code",
   "execution_count": null,
   "metadata": {},
   "outputs": [],
   "source": [
    "population = population.melt(id_vars=['Country Name'], var_name= 'year', value_name= 'value')\n",
    "population.replace(col_years, inplace=True)\n",
    "\n",
    "# rename USA\n",
    "population.replace({'United States':'United States of America'}, inplace=True)\n",
    "population.head(6)"
   ]
  },
  {
   "cell_type": "code",
   "execution_count": null,
   "metadata": {},
   "outputs": [],
   "source": [
    "grPopulation = population.groupby('Country Name')\n",
    "\n",
    "plt.figure(figsize=(10,10))\n",
    "for country in countries:\n",
    "    \n",
    "    sns.lineplot(x=grPopulation.get_group(country).year, y=grPopulation.get_group(country).value, label=country)\n",
    "    \n",
    "plt.ylabel('Population')\n",
    "plt.title('Relative evolution of popularion');"
   ]
  },
  {
   "cell_type": "markdown",
   "metadata": {},
   "source": [
    "We can see that the population of India and China grows really fast compared to USA. The population of UK and Switzerland are pretty satble."
   ]
  },
  {
   "cell_type": "code",
   "execution_count": null,
   "metadata": {},
   "outputs": [],
   "source": [
    "# groupe by country\n",
    "grdataLands = dataLands.groupby('country_or_area')\n",
    "\n",
    "plt.figure(figsize=(10,10))\n",
    "for country in countries:\n",
    "    # result list\n",
    "    norm_land = []\n",
    "    # we normalize the total land area by population each year\n",
    "    for year in grdataLands.get_group(country).year.values:\n",
    "        \n",
    "        #compute Land / Population ratio for each year\n",
    "        ratio = grdataLands.get_group(country)[grdataLands.get_group(country).year == year].value.values/ \\\n",
    "                grPopulation.get_group(country)[grPopulation.get_group(country).year == year].value.values\n",
    "        \n",
    "        norm_land.append([year, ratio[0]])\n",
    "        \n",
    "    sns.lineplot(x=[row[0] for row in norm_land], y=[row[1] for row in norm_land], label=country, estimator=None)\n",
    "    \n",
    "plt.ylabel('land area / population')\n",
    "plt.title('Relative evolution of agricultural land areas');"
   ]
  },
  {
   "cell_type": "markdown",
   "metadata": {},
   "source": [
    "We see some strange kinks in Switzerland; Let's investigate"
   ]
  },
  {
   "cell_type": "code",
   "execution_count": null,
   "metadata": {},
   "outputs": [],
   "source": [
    "# Switzerland agricultural land and population\n",
    "fig, ax = plt.subplots(nrows=1, ncols=2, figsize=(10,5))\n",
    "sns.lineplot(x=grPopulation.get_group('Switzerland').year, y=grPopulation.get_group('Switzerland').value, label='Switzerland', ax=ax[0])\n",
    "ax[0].set_title('Population')\n",
    "sns.lineplot(x=grdataLands.get_group('Switzerland').year, y=grdataLands.get_group('Switzerland').value, label='Switzerland', ax=ax[1])\n",
    "ax[1].set_title('Agricultural Lands');"
   ]
  },
  {
   "cell_type": "markdown",
   "metadata": {},
   "source": [
    "The problem comes from the Land data; According to Encyclopedia.com :\"Swiss agricultural policy is highly regulated, with fixed prices and quota restrictions maintained on several products. Domestic production is encouraged by the imposition of protective customs and duties on imported goods, and by restrictions on imports. The Federal Council has the authority to fix prices of bread grains, flour, milk, and other foodstuffs. Production costs in Switzerland, as well as international exchange rates favorable to the Swiss franc, make competition with foreign products difficult. This highly protectionist system has led to excess production and mounting costs associated with the management of surpluses. The Uruguay Round and subsequent Swiss implementation of its provisions in July 1995 (along with rising costs in the agricultural sector) has forced the government to begin reforming its agricultural support system.\"\n",
    "\n",
    "This could be a potential explanation for this behavior, however the kinks in the graph don't really matter for the overall analysis."
   ]
  },
  {
   "cell_type": "markdown",
   "metadata": {},
   "source": [
    "We will now investage agricultural employment for each country, comparing male and female employment. As China has only reported the total employments (no male/female separation) it doesn't figure in the first subplots."
   ]
  },
  {
   "cell_type": "code",
   "execution_count": null,
   "metadata": {},
   "outputs": [],
   "source": [
    "# groupe by country\n",
    "grEmployment = employment.groupby(['country_or_area','sex.label'])\n",
    "\n",
    "plt.figure(figsize=(10,10))\n",
    "fig, ax = plt.subplots(nrows=1, ncols=4, figsize=(20,5))\n",
    "\n",
    "for i,country in enumerate(['India', 'United States of America', 'United Kingdom', 'Switzerland']):\n",
    "    \n",
    "    sns.lineplot(x=grEmployment.get_group((country, 'male')).year, y=grEmployment.get_group((country, 'male')).value, label='Male', ax=ax[i])\n",
    "    sns.lineplot(x=grEmployment.get_group((country, 'female')).year, y=grEmployment.get_group((country, 'female')).value, label='Female', ax=ax[i])\n",
    "    ax[i].set_title('Agricultural employment in '+country)"
   ]
  },
  {
   "cell_type": "markdown",
   "metadata": {},
   "source": [
    "We observe several interesting facts:\n",
    "- The gap between male and female employment in agriculture decreases over time for USA, UK and Switzerland but stays rather stable for India.\n",
    "- Comparing males and females employment, we notice that female agricultural employment stays rather stable over time but the male employment decreases. An explanation for this observation could be the relationship of farmers of different sexes with \"technology\" and automatization. In fact, the major reason of the decrease in agricultural employment could be industrialization and the automatization of agriculture using technology and machines:\n",
    "\n",
    "    - The male's labor in agriculture back in time has been gradually replaced by machines.\n",
    "    - Agricultural industrialization had lower impact on females labor as they probably were not the ones harvesting the plants.\n",
    "    \n",
    "    \n",
    "- We also notice a strange downward kink in USA's chart right before year 2000. This could be due to a big technological leap in agriculture but it is most likely due to the dot-com bubble as many people during that year converted to 'entrepreneurs' creating random websites and easiliy obtain fundings and revenue."
   ]
  },
  {
   "cell_type": "code",
   "execution_count": null,
   "metadata": {},
   "outputs": [],
   "source": [
    "# total aggricultural employment\n",
    "plt.figure(figsize=(10,10))\n",
    "for country in countries:\n",
    "    # store normalized employment in a list\n",
    "    norm_employment = []\n",
    "    \n",
    "    # we normalize the total employment by population each year\n",
    "    for year in grEmployment.get_group((country, 'total')).year.values:\n",
    "        \n",
    "        if year >= 1960:   # population starting year\n",
    "            #compute Land / Population ratio for each year\n",
    "            ratio = grEmployment.get_group((country, 'total'))[grEmployment.get_group((country, 'total')).year == year].value.values/ \\\n",
    "                    grPopulation.get_group(country)[grPopulation.get_group(country).year == year].value.values\n",
    "\n",
    "            norm_employment.append([year, ratio[0]])\n",
    "        \n",
    "    sns.lineplot(x=[row[0] for row in norm_employment], y=[row[1] for row in norm_employment], label=country, estimator=None)\n",
    "    \n",
    "plt.ylabel('employment / population')\n",
    "plt.title('Relative evolution of agricultural employment');"
   ]
  },
  {
   "cell_type": "markdown",
   "metadata": {},
   "source": [
    "We observe that China has the highest ratio of relative agricultural employment followed by India, Switzerland, USA and UK."
   ]
  },
  {
   "cell_type": "markdown",
   "metadata": {},
   "source": [
    "### Life Expectancy"
   ]
  },
  {
   "cell_type": "code",
   "execution_count": null,
   "metadata": {},
   "outputs": [],
   "source": [
    "grLifeExp = lifeExp.groupby('country_or_area')\n",
    "\n",
    "plt.figure(figsize=(10,10))\n",
    "for country in countries:\n",
    "    sns.lineplot(x=grLifeExp.get_group(country).year, y=grLifeExp.get_group(country).value, label=country)\n",
    "    \n",
    "plt.ylabel('Life expectancy')\n",
    "plt.title('Evolution of life expectancy');"
   ]
  },
  {
   "cell_type": "markdown",
   "metadata": {},
   "source": [
    "## Economic Added Value"
   ]
  },
  {
   "cell_type": "code",
   "execution_count": null,
   "metadata": {},
   "outputs": [],
   "source": [
    "grAddedValue = addedValue.groupby('country_or_area')\n",
    "\n",
    "plt.figure(figsize=(10,10))\n",
    "for country in countries:\n",
    "    # store normalized employment in a list\n",
    "    norm_addedValue = []\n",
    "    \n",
    "    # we normalize the total employment by population each year\n",
    "    for year in grAddedValue.get_group(country).year.values:\n",
    "        \n",
    "        if year >= 1960:   # population starting year\n",
    "            #compute Land / Population ratio for each year\n",
    "            ratio = grAddedValue.get_group(country)[grAddedValue.get_group(country).year == year].value.values/ \\\n",
    "                    grPopulation.get_group(country)[grPopulation.get_group(country).year == year].value.values\n",
    "\n",
    "            norm_addedValue.append([year, ratio[0]])\n",
    "        \n",
    "    sns.lineplot(x=[row[0] for row in norm_addedValue], y=[row[1] for row in norm_addedValue], label=country, estimator=None)\n",
    "    \n",
    "plt.ylabel('economic added value')\n",
    "plt.title('Agriculture economic added value');"
   ]
  },
  {
   "cell_type": "markdown",
   "metadata": {},
   "source": [
    "It is interesting to notice that india has the largest economical added value via agriculture, however it has the smallest agricultural land to population ratio."
   ]
  },
  {
   "cell_type": "code",
   "execution_count": null,
   "metadata": {},
   "outputs": [],
   "source": []
  }
 ],
 "metadata": {
  "kernelspec": {
   "display_name": "Python 3",
   "language": "python",
   "name": "python3"
  },
  "language_info": {
   "codemirror_mode": {
    "name": "ipython",
    "version": 3
   },
   "file_extension": ".py",
   "mimetype": "text/x-python",
   "name": "python",
   "nbconvert_exporter": "python",
   "pygments_lexer": "ipython3",
   "version": "3.7.5"
  }
 },
 "nbformat": 4,
 "nbformat_minor": 4
}
